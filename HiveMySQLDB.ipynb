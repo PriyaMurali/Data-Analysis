{
  "nbformat": 4,
  "nbformat_minor": 0,
  "metadata": {
    "colab": {
      "name": "HiveMySQLDB.ipynb",
      "provenance": [],
      "collapsed_sections": [],
      "authorship_tag": "ABX9TyNTBEBXVDkchOxYBkYcWg7B",
      "include_colab_link": true
    },
    "kernelspec": {
      "name": "python3",
      "display_name": "Python 3"
    },
    "language_info": {
      "name": "python"
    }
  },
  "cells": [
    {
      "cell_type": "markdown",
      "metadata": {
        "id": "view-in-github",
        "colab_type": "text"
      },
      "source": [
        "<a href=\"https://colab.research.google.com/github/PriyaMurali/Data-Analysis/blob/main/HiveMySQLDB.ipynb\" target=\"_parent\"><img src=\"https://colab.research.google.com/assets/colab-badge.svg\" alt=\"Open In Colab\"/></a>"
      ]
    },
    {
      "cell_type": "code",
      "execution_count": 1,
      "metadata": {
        "id": "qETNLEb1I350"
      },
      "outputs": [],
      "source": [
        "from collections import Counter\n",
        "!wget -q https://dlcdn.apache.org/spark/spark-3.3.0/spark-3.3.0-bin-hadoop3.tgz\n",
        "!tar xf spark-3.3.0-bin-hadoop3.tgz\n",
        "!pip install -q findspark\n",
        "import os\n",
        "os.environ[\"JAVA_HOME\"] = \"/usr/lib/jvm/java-8-openjdk-amd64\"\n",
        "os.environ[\"SPARK_HOME\"] = \"/content/spark-3.3.0-bin-hadoop3\""
      ]
    },
    {
      "cell_type": "code",
      "source": [
        "!apt-get update\n",
        "!apt-get install --fix-missing openjdk-8-jdk-headless -qq > /dev/null\n"
      ],
      "metadata": {
        "colab": {
          "base_uri": "https://localhost:8080/"
        },
        "id": "BoAixgVjI_Zq",
        "outputId": "d895760d-f4c3-4ce6-d8d4-7a2d4e500c04"
      },
      "execution_count": 2,
      "outputs": [
        {
          "output_type": "stream",
          "name": "stdout",
          "text": [
            "\r0% [Working]\r            \rGet:1 https://cloud.r-project.org/bin/linux/ubuntu bionic-cran40/ InRelease [3,626 B]\n",
            "\r0% [Connecting to archive.ubuntu.com (185.125.190.36)] [Waiting for headers] [1\r0% [Connecting to archive.ubuntu.com (185.125.190.36)] [Waiting for headers] [W\r0% [1 InRelease gpgv 3,626 B] [Connecting to archive.ubuntu.com (185.125.190.36\r                                                                               \rGet:2 http://security.ubuntu.com/ubuntu bionic-security InRelease [88.7 kB]\n",
            "Ign:3 https://developer.download.nvidia.com/compute/machine-learning/repos/ubuntu1804/x86_64  InRelease\n",
            "Get:4 https://developer.download.nvidia.com/compute/cuda/repos/ubuntu1804/x86_64  InRelease [1,581 B]\n",
            "Hit:5 https://developer.download.nvidia.com/compute/machine-learning/repos/ubuntu1804/x86_64  Release\n",
            "Hit:6 http://archive.ubuntu.com/ubuntu bionic InRelease\n",
            "Get:7 http://ppa.launchpad.net/c2d4u.team/c2d4u4.0+/ubuntu bionic InRelease [15.9 kB]\n",
            "Get:8 http://archive.ubuntu.com/ubuntu bionic-updates InRelease [88.7 kB]\n",
            "Get:9 https://cloud.r-project.org/bin/linux/ubuntu bionic-cran40/ Packages [90.7 kB]\n",
            "Get:10 https://developer.download.nvidia.com/compute/cuda/repos/ubuntu1804/x86_64  Packages [903 kB]\n",
            "Hit:11 http://ppa.launchpad.net/cran/libgit2/ubuntu bionic InRelease\n",
            "Get:12 http://archive.ubuntu.com/ubuntu bionic-backports InRelease [74.6 kB]\n",
            "Get:13 http://ppa.launchpad.net/deadsnakes/ppa/ubuntu bionic InRelease [15.9 kB]\n",
            "Get:15 http://security.ubuntu.com/ubuntu bionic-security/main amd64 Packages [2,937 kB]\n",
            "Get:16 http://ppa.launchpad.net/graphics-drivers/ppa/ubuntu bionic InRelease [21.3 kB]\n",
            "Get:17 http://security.ubuntu.com/ubuntu bionic-security/universe amd64 Packages [1,533 kB]\n",
            "Get:18 http://security.ubuntu.com/ubuntu bionic-security/restricted amd64 Packages [1,100 kB]\n",
            "Get:19 http://ppa.launchpad.net/c2d4u.team/c2d4u4.0+/ubuntu bionic/main Sources [2,095 kB]\n",
            "Get:20 http://archive.ubuntu.com/ubuntu bionic-updates/main amd64 Packages [3,369 kB]\n",
            "Get:21 http://ppa.launchpad.net/c2d4u.team/c2d4u4.0+/ubuntu bionic/main amd64 Packages [1,073 kB]\n",
            "Get:22 http://archive.ubuntu.com/ubuntu bionic-updates/restricted amd64 Packages [1,141 kB]\n",
            "Get:23 http://archive.ubuntu.com/ubuntu bionic-updates/universe amd64 Packages [2,310 kB]\n",
            "Get:24 http://ppa.launchpad.net/deadsnakes/ppa/ubuntu bionic/main amd64 Packages [45.3 kB]\n",
            "Get:25 http://ppa.launchpad.net/graphics-drivers/ppa/ubuntu bionic/main amd64 Packages [47.7 kB]\n",
            "Fetched 17.0 MB in 6s (2,900 kB/s)\n",
            "Reading package lists... Done\n"
          ]
        }
      ]
    },
    {
      "cell_type": "code",
      "source": [
        "!pip install mysql-connector-python\n"
      ],
      "metadata": {
        "colab": {
          "base_uri": "https://localhost:8080/"
        },
        "id": "WIXR7l_6JAlU",
        "outputId": "07caeb61-07fb-4f2c-e6af-ce99a49d654e"
      },
      "execution_count": 3,
      "outputs": [
        {
          "output_type": "stream",
          "name": "stdout",
          "text": [
            "Looking in indexes: https://pypi.org/simple, https://us-python.pkg.dev/colab-wheels/public/simple/\n",
            "Collecting mysql-connector-python\n",
            "  Downloading mysql_connector_python-8.0.30-cp37-cp37m-manylinux1_x86_64.whl (25.4 MB)\n",
            "\u001b[K     |████████████████████████████████| 25.4 MB 60.8 MB/s \n",
            "\u001b[?25hRequirement already satisfied: protobuf<=3.20.1,>=3.11.0 in /usr/local/lib/python3.7/dist-packages (from mysql-connector-python) (3.17.3)\n",
            "Requirement already satisfied: six>=1.9 in /usr/local/lib/python3.7/dist-packages (from protobuf<=3.20.1,>=3.11.0->mysql-connector-python) (1.15.0)\n",
            "Installing collected packages: mysql-connector-python\n",
            "Successfully installed mysql-connector-python-8.0.30\n"
          ]
        }
      ]
    },
    {
      "cell_type": "code",
      "source": [
        "import findspark\n",
        "findspark.init()\n",
        "from pyspark.sql import SparkSession"
      ],
      "metadata": {
        "id": "Xz8rLa6UJ3Tb"
      },
      "execution_count": 4,
      "outputs": []
    },
    {
      "cell_type": "code",
      "source": [
        "#HIve Mysql Example\n",
        "import mysql.connector\n",
        "import pandas as pd\n",
        "\n",
        "appName = \"PySpark MySQL Example - via mysql.connector\"\n",
        "master = \"local\"\n",
        "\n",
        "spark = SparkSession.builder.master(master).appName(appName).getOrCreate()\n",
        "\n",
        "# Establish a connection\n",
        "conn = mysql.connector.connect(user='***', database='***',\n",
        "                               password='***',\n",
        "                               host=\"localhost\",\n",
        "                               port=10101)\n",
        "cursor = conn.cursor()\n",
        "query = \"SELECT id, value FROM test_table\"\n",
        "# Create a pandas dataframe\n",
        "pdf = pd.read_sql(query, con=conn)\n",
        "conn.close()\n",
        "\n",
        "# Convert Pandas dataframe to spark DataFrame\n",
        "df = spark.createDataFrame(pdf)\n",
        "\n",
        "df.show()"
      ],
      "metadata": {
        "id": "IRg76rdnKXBc"
      },
      "execution_count": null,
      "outputs": []
    },
    {
      "cell_type": "code",
      "source": [
        "from pyspark.sql import HiveContext\n",
        "hc = HiveContext(spark.sparkContext)\n",
        "print(hc)\n"
      ],
      "metadata": {
        "colab": {
          "base_uri": "https://localhost:8080/"
        },
        "id": "LC5PGhfCL1eH",
        "outputId": "374ef096-4870-440e-8df5-242ce261e8b6"
      },
      "execution_count": null,
      "outputs": [
        {
          "output_type": "stream",
          "name": "stdout",
          "text": [
            "<pyspark.sql.context.HiveContext object at 0x7f7ffd540990>\n"
          ]
        },
        {
          "output_type": "stream",
          "name": "stderr",
          "text": [
            "/content/spark-3.3.0-bin-hadoop3/python/pyspark/sql/context.py:721: FutureWarning: HiveContext is deprecated in Spark 2.0.0. Please use SparkSession.builder.enableHiveSupport().getOrCreate() instead.\n",
            "  FutureWarning,\n",
            "/content/spark-3.3.0-bin-hadoop3/python/pyspark/sql/context.py:114: FutureWarning: Deprecated in 3.0.0. Use SparkSession.builder.getOrCreate() instead.\n",
            "  FutureWarning,\n"
          ]
        }
      ]
    },
    {
      "cell_type": "code",
      "source": [
        "hc.sql('create database db') #where db is the database name\n",
        "hc.sql('use db')"
      ],
      "metadata": {
        "colab": {
          "base_uri": "https://localhost:8080/"
        },
        "id": "YCy2sp5zMC_O",
        "outputId": "bbf96188-712d-448e-dff1-9174506b2a04"
      },
      "execution_count": null,
      "outputs": [
        {
          "output_type": "execute_result",
          "data": {
            "text/plain": [
              "DataFrame[]"
            ]
          },
          "metadata": {},
          "execution_count": 11
        }
      ]
    },
    {
      "cell_type": "code",
      "source": [
        "##Storing Data in HiveContext\n",
        "from pyspark.sql.types import StructType, StructField, FloatType, StringType\n",
        "iris_schema = StructType([\n",
        "StructField(\"Sepal_Length\", FloatType(), True),\n",
        "StructField(\"Sepal_Width\", FloatType(), True),\n",
        "StructField(\"Petal_Length\", FloatType(), True),\n",
        "StructField(\"Petal_Width\", FloatType(), True),\n",
        "StructField(\"Species\", StringType(), True)\n",
        "])\n",
        "iris1_df1 = spark.read.csv(path='/content/iris.csv',sep=',',header=True,schema=iris_schema)\n",
        "hc.sql('use db')\n",
        "from pyspark.sql import DataFrameWriter\n",
        "dfw = DataFrameWriter(iris1_df1)\n",
        "dfw.saveAsTable(name=\"iris\",mode='overwrite')\n"
      ],
      "metadata": {
        "id": "8bVSy3CuMSPr"
      },
      "execution_count": null,
      "outputs": []
    },
    {
      "cell_type": "code",
      "source": [
        "hc.tableNames()"
      ],
      "metadata": {
        "colab": {
          "base_uri": "https://localhost:8080/"
        },
        "id": "zeTsGSHbQSCs",
        "outputId": "852085e9-f118-4ee6-9b81-853b06e46c3e"
      },
      "execution_count": null,
      "outputs": [
        {
          "output_type": "execute_result",
          "data": {
            "text/plain": [
              "['iris']"
            ]
          },
          "metadata": {},
          "execution_count": 18
        }
      ]
    },
    {
      "cell_type": "code",
      "source": [
        "#Retriving Data from HiveContext\n",
        "hc.sql('Select count(*) as RecordCount from iris').show()"
      ],
      "metadata": {
        "colab": {
          "base_uri": "https://localhost:8080/"
        },
        "id": "g-1OBQfcQVC5",
        "outputId": "c82a9ace-67d5-4961-f97a-897a16b3bd73"
      },
      "execution_count": null,
      "outputs": [
        {
          "output_type": "stream",
          "name": "stdout",
          "text": [
            "+-----------+\n",
            "|RecordCount|\n",
            "+-----------+\n",
            "|        150|\n",
            "+-----------+\n",
            "\n"
          ]
        }
      ]
    },
    {
      "cell_type": "code",
      "source": [
        "#SQLSESSION\n",
        "spark = SparkSession \\\n",
        "        .builder \\\n",
        "        .appName(\"PySparkSQLTelecom\") \\\n",
        "        .getOrCreate()\n",
        "sc = spark.sparkContext"
      ],
      "metadata": {
        "id": "GqhqchWTRDsM"
      },
      "execution_count": 5,
      "outputs": []
    },
    {
      "cell_type": "code",
      "source": [
        "Customer = sc.textFile(\"/content/LexSparkCompanyInfoExample.csv\")"
      ],
      "metadata": {
        "id": "EF7JLIvvIfnp"
      },
      "execution_count": 9,
      "outputs": []
    },
    {
      "cell_type": "code",
      "source": [
        "splitCustomer = Customer.map(lambda var1: var1.split(\",\"))"
      ],
      "metadata": {
        "id": "mg4Gy76TIwzh"
      },
      "execution_count": 16,
      "outputs": []
    },
    {
      "cell_type": "code",
      "source": [
        "columns=[\"CompanyID\",\"CompanyName\",\"CompanyLocation\",\"CompanyAddress\",\"CompanyContact\",\"ProfitMargin\",\"EstablishedYear\"]\n",
        "dfCompanyInfo = spark.createDataFrame(splitCustomer,columns)\n",
        "dfCompanyInfo.show()"
      ],
      "metadata": {
        "colab": {
          "base_uri": "https://localhost:8080/"
        },
        "id": "XlxM2IQhP3E5",
        "outputId": "1ea6570c-82cf-41c5-b063-4a77eb7de7c8"
      },
      "execution_count": 23,
      "outputs": [
        {
          "output_type": "stream",
          "name": "stdout",
          "text": [
            "+---------+----------------+---------------+--------------------+--------------+------------+---------------+\n",
            "|CompanyID|     CompanyName|CompanyLocation|      CompanyAddress|CompanyContact|ProfitMargin|EstablishedYear|\n",
            "+---------+----------------+---------------+--------------------+--------------+------------+---------------+\n",
            "|    C1001|    Steel Wheels|   Pennsylvania|    80 Stang Parkway|    7172809057|  4061361.08|           2007|\n",
            "|    C1002|   MotoLab Bikes|          Texas|     1 Anthes Avenue|    6829309477|  2733417.09|           2011|\n",
            "|    C1003|        Lee Auto|     California|   87985 Linden Pass|    6193601290|  4422985.26|           1994|\n",
            "|    C1004|     Zoom Dynamo|          Texas| 56 La Follette Pass|    8327309957|  3102258.84|           1993|\n",
            "|    C1005|Quakesons Motors|          Texas|  8 Briar Crest Pass|    8175902345|  3584342.27|           2002|\n",
            "|    C1006|    Steel Wheels|   Pennsylvania|    035 Iowa Terrace|    5706889534|  3169758.24|           2009|\n",
            "|    C1007|     Raido Bikes|         Hawaii|    3925 Clove Drive|    8086946394|  2856030.07|           2001|\n",
            "|    C1008|    Steel Wheels|      Tennessee|    9 Straubel Drive|    6155558344|  3097479.68|           2012|\n",
            "|    C1009| Ilmio Jane Moto|   Pennsylvania|   816 Northland Way|    6108768782|  4533228.43|           2007|\n",
            "|    C1010|      Reo Bailio|         Kansas|    10165 Gerald Way|    7857454105|  4510956.99|           2012|\n",
            "|    C1011|    Steel Wheels|        Arizona|83 Merchant Junction|    6026446720|  2025983.74|           1992|\n",
            "|    C1012|Wingmo Standards|     Washington|1249 Summerview Pass|    5091629062|  3886123.67|           2006|\n",
            "|    C1013|    Craiko Roads|           Iowa|   5 Bowman Junction|    3191050692|  4883173.55|           1990|\n",
            "|    C1014|      Reo Bailio|     California|      3 Chinook Park|    6195580058|  2956803.47|           1995|\n",
            "|    C1015|    Craiko Roads|  Massachusetts|   90535 Bonner Lane|    9787302834|  2327476.04|           1991|\n",
            "|    C1016|  Osborne Fields|  Massachusetts| 056 Straubel Avenue|    4132534690|  2365522.73|           2012|\n",
            "|    C1017|       Rigmarole|   Pennsylvania| 70 Wayridge Parkway|    8143178647|  2434578.77|           2006|\n",
            "|    C1018|     Raido Bikes|       Illinois|     609 Truax Alley|    8476652456|  2227555.04|           1998|\n",
            "|    C1019|     Zoom Dynamo|       Oklahoma|948 Marquette Circle|    9183903501|  3776453.21|           1992|\n",
            "|    C1020|       Rigmarole|     New Jersey|  4121 Atwood Circle|    8624680309|  4052208.06|           2003|\n",
            "+---------+----------------+---------------+--------------------+--------------+------------+---------------+\n",
            "only showing top 20 rows\n",
            "\n"
          ]
        }
      ]
    },
    {
      "cell_type": "code",
      "source": [
        "from pyspark.sql.functions import col\n",
        "dfCompanyInfo = dfCompanyInfo.withColumn(\"CompanyContact\",col(\"CompanyContact\").cast(IntegerType()))\\\n",
        "                .withColumn(\"ProfitMargin\",col(\"ProfitMargin\").cast(DoubleType()))\\\n",
        "                .withColumn(\"EstablishedYear\",col(\"EstablishedYear\").cast(IntegerType()))\n",
        "dfCompanyInfo.dtypes\n"
      ],
      "metadata": {
        "colab": {
          "base_uri": "https://localhost:8080/"
        },
        "id": "h9m3ZZ0cqavC",
        "outputId": "e588da11-5632-47f8-bbb4-1b8b27203634"
      },
      "execution_count": 34,
      "outputs": [
        {
          "output_type": "execute_result",
          "data": {
            "text/plain": [
              "[('CompanyID', 'string'),\n",
              " ('CompanyName', 'string'),\n",
              " ('CompanyLocation', 'string'),\n",
              " ('CompanyAddress', 'string'),\n",
              " ('CompanyContact', 'int'),\n",
              " ('ProfitMargin', 'double'),\n",
              " ('EstablishedYear', 'int')]"
            ]
          },
          "metadata": {},
          "execution_count": 34
        }
      ]
    },
    {
      "cell_type": "code",
      "source": [
        "from pyspark.sql.types import StructType,StructField, StringType, IntegerType ,DoubleType\n",
        "schemaList = StructType() \\\n",
        "      .add(\"OrderID\",StringType(),True) \\\n",
        "      .add(\"CompanyID\",StringType(),True) \\\n",
        "      .add(\"CompanyName\",StringType(),True) \\\n",
        "      .add(\"CompanyLocation\",StringType(),True) \\\n",
        "      .add(\"ComponentToBeManufactured\",StringType(),True) \\\n",
        "      .add(\"Quantity\",IntegerType(),True) \\\n",
        "      .add(\"EstimatedCost\",DoubleType(),True) \\\n",
        "      .add(\"OrderDate\",StringType(),True) \\\n",
        "      .add(\"DueDate\",StringType(),True) \\\n",
        "      .add(\"CompletionStatus\",StringType(),True) \\\n",
        "      .add(\"DeliveryStatus\",StringType(),True) \\"
      ],
      "metadata": {
        "id": "zHixyopNpEYS"
      },
      "execution_count": 31,
      "outputs": []
    },
    {
      "cell_type": "code",
      "source": [
        "#headers =[\"OrderID\",\"CompanyID\",\"CompanyName\",\"CompanyLocation\",\"ComponentToBeManufactured\",\"Quantity\",\"EstimatedCost\",\"OrderDate\",\"DueDate\",\"CompletionStatus\",\"DeliveryStatus\"]\n",
        "dfCompanyOrders = spark.read.csv(\"/content/LexSparkCompanyOrdersExample.csv\",schema=schemaList) \n",
        "dfCompanyOrders.show()"
      ],
      "metadata": {
        "colab": {
          "base_uri": "https://localhost:8080/"
        },
        "id": "Mt_JWOx7lv1y",
        "outputId": "5be9da6f-c544-4d1c-d8cb-fbe7cb2e45f2"
      },
      "execution_count": 32,
      "outputs": [
        {
          "output_type": "stream",
          "name": "stdout",
          "text": [
            "+-------+---------+----------------+---------------+-------------------------+--------+-------------+---------+---------+----------------+--------------+\n",
            "|OrderID|CompanyID|     CompanyName|CompanyLocation|ComponentToBeManufactured|Quantity|EstimatedCost|OrderDate|  DueDate|CompletionStatus|DeliveryStatus|\n",
            "+-------+---------+----------------+---------------+-------------------------+--------+-------------+---------+---------+----------------+--------------+\n",
            "|OD10001|    C1108|     Raido Bikes|        Georgia|             Spring Forks|   21103|   9487867.48| 3-Nov-19|24-Dec-19|         Pending|       Pending|\n",
            "|OD10002|    C1035| Ilmio Jane Moto| North Carolina|                   Fender|   26272|   4899369.32|18-Dec-19|14-Mar-20|         Pending|       Pending|\n",
            "|OD10003|    C1174|   MotoLab Bikes|         Nevada|                Generator|   39789|   4008848.49| 7-Dec-19|31-Jan-20|       Completed|     Delivered|\n",
            "|OD10004|    C1121|        Lee Auto|         Oregon|                   Brakes|   22670|   7932390.15|21-Nov-19| 5-Mar-20|       Completed|       Pending|\n",
            "|OD10005|    C1093|Quakesons Motors|     California|            Exhaust Pipes|   36773|   6101829.61| 8-Dec-19| 9-Mar-20|         Pending|       Pending|\n",
            "|OD10006|    C1166|       Rigmarole|       New York|            Exhaust Pipes|   46571|   8704566.05|19-Dec-19|10-Jan-20|         Pending|       Pending|\n",
            "|OD10007|    C1030|        Lee Auto|         Kansas|          Ignition Switch|   28519|   9635904.98| 4-Dec-19|28-Jan-20|         Pending|       Pending|\n",
            "|OD10008|    C1092|     Zoom Dynamo|     Washington|                     Horn|   34745|   4907497.55|10-Dec-19|12-Mar-20|       Completed|     Delivered|\n",
            "|OD10009|    C1135| Ilmio Jane Moto|        Georgia|              Hand Clutch|   27246|   6667701.97| 9-Dec-19| 7-Jan-20|       Completed|       Pending|\n",
            "|OD10010|    C1045|    Damson Bikes|        Alabama|          Ignition Switch|   45392|   9522045.75|16-Dec-19|12-Jan-20|       Completed|     Delivered|\n",
            "|OD10011|    C1027|     Wicker Auto| North Carolina|               Safety Bar|   46650|   9875771.29|10-Nov-19|26-Jan-20|       Completed|     Delivered|\n",
            "|OD10012|    C1121|        Lee Auto|         Oregon|                 Oil Tank|   22509|    8501074.4|28-Oct-19| 8-Jan-20|         Pending|       Pending|\n",
            "|OD10013|    C1078|    Craiko Roads|      Wisconsin|                  Muffler|   33612|    2323395.6|18-Dec-19| 9-Jan-20|       Completed|     Delivered|\n",
            "|OD10014|    C1076|     Raido Bikes|      Louisiana|                     Horn|   55747|   1676391.19| 3-Nov-19| 1-Mar-20|         Pending|       Pending|\n",
            "|OD10015|    C1020|       Rigmarole|     New Jersey|              Speedometer|   21080|   1323523.14| 4-Nov-19|25-Mar-20|         Pending|       Pending|\n",
            "|OD10016|    C1001|    Steel Wheels|   Pennsylvania|                   Engine|   42101|   5118078.25|13-Oct-19|29-Feb-20|       Completed|     Delivered|\n",
            "|OD10017|    C1064|     Zoom Dynamo|  West Virginia|     Ignition Circuit ...|   41117|    5630252.2| 9-Dec-19|31-Jan-20|         Pending|       Pending|\n",
            "|OD10018|    C1073| Ilmio Jane Moto|        Florida|          Ignition Switch|   44926|   3601243.24| 5-Dec-19| 1-Feb-20|       Completed|       Pending|\n",
            "|OD10019|    C1165|Quakesons Motors|       New York|          Ignition Switch|   34487|   6893359.34|12-Dec-19|24-Feb-20|         Pending|       Pending|\n",
            "|OD10020|    C1102|    Laser Wheels|        Florida|              Speedometer|   28687|   8445328.46| 6-Nov-19|17-Mar-20|       Completed|     Delivered|\n",
            "+-------+---------+----------------+---------------+-------------------------+--------+-------------+---------+---------+----------------+--------------+\n",
            "only showing top 20 rows\n",
            "\n"
          ]
        }
      ]
    },
    {
      "cell_type": "code",
      "source": [
        "dfCompanyInfo.createOrReplaceTempView(\"CompanyInfo\")\n",
        "dfCompanyOrders.createOrReplaceTempView(\"CompanyOrders\")\n"
      ],
      "metadata": {
        "id": "m5jodNy3yPL-"
      },
      "execution_count": 35,
      "outputs": []
    },
    {
      "cell_type": "code",
      "source": [
        "spark.sql(\"show tables\").show()\n"
      ],
      "metadata": {
        "colab": {
          "base_uri": "https://localhost:8080/"
        },
        "id": "r96jyVQMswVj",
        "outputId": "a6030d2c-5959-4ada-9fb8-247ee251b675"
      },
      "execution_count": 36,
      "outputs": [
        {
          "output_type": "stream",
          "name": "stdout",
          "text": [
            "+---------+-------------+-----------+\n",
            "|namespace|    tableName|isTemporary|\n",
            "+---------+-------------+-----------+\n",
            "|         |  companyinfo|       true|\n",
            "|         |companyorders|       true|\n",
            "+---------+-------------+-----------+\n",
            "\n"
          ]
        }
      ]
    },
    {
      "cell_type": "code",
      "source": [
        "#Fetch the details of all the companies that are at least 20 years old.\n",
        "dfCompany = spark.sql(\"Select * from companyinfo where ('2022'-EstablishedYear) >20\")\n",
        "dfCompany.show()"
      ],
      "metadata": {
        "colab": {
          "base_uri": "https://localhost:8080/"
        },
        "id": "E5EBxW4WyixO",
        "outputId": "5159cab5-1edc-406a-f824-d32c66e02054"
      },
      "execution_count": 44,
      "outputs": [
        {
          "output_type": "stream",
          "name": "stdout",
          "text": [
            "+---------+------------------+--------------------+--------------------+--------------+------------+---------------+\n",
            "|CompanyID|       CompanyName|     CompanyLocation|      CompanyAddress|CompanyContact|ProfitMargin|EstablishedYear|\n",
            "+---------+------------------+--------------------+--------------------+--------------+------------+---------------+\n",
            "|    C1003|          Lee Auto|          California|   87985 Linden Pass|          null|  4422985.26|           1994|\n",
            "|    C1004|       Zoom Dynamo|               Texas| 56 La Follette Pass|          null|  3102258.84|           1993|\n",
            "|    C1007|       Raido Bikes|              Hawaii|    3925 Clove Drive|          null|  2856030.07|           2001|\n",
            "|    C1011|      Steel Wheels|             Arizona|83 Merchant Junction|          null|  2025983.74|           1992|\n",
            "|    C1013|      Craiko Roads|                Iowa|   5 Bowman Junction|          null|  4883173.55|           1990|\n",
            "|    C1014|        Reo Bailio|          California|      3 Chinook Park|          null|  2956803.47|           1995|\n",
            "|    C1015|      Craiko Roads|       Massachusetts|   90535 Bonner Lane|          null|  2327476.04|           1991|\n",
            "|    C1018|       Raido Bikes|            Illinois|     609 Truax Alley|          null|  2227555.04|           1998|\n",
            "|    C1019|       Zoom Dynamo|            Oklahoma|948 Marquette Circle|          null|  3776453.21|           1992|\n",
            "|    C1022|       Zoom Dynamo|          California|     7 Lukken Street|          null|  4527121.28|           1995|\n",
            "|    C1023|   Ilmio Jane Moto|           Louisiana|     86 Westport Way|          null|   4144689.6|           1993|\n",
            "|    C1026|  Quakesons Motors|            Colorado|46231 Killdeer Point|          null|  2167098.55|           1994|\n",
            "|    C1027|       Wicker Auto|      North Carolina|      68 Muir Street|          null|  3130560.75|           1991|\n",
            "|    C1029|       Raido Bikes|           Wisconsin|93613 Myrtle Junc...|          null|  4255883.39|           1994|\n",
            "|    C1032|      Damson Bikes|District of Columbia| 3759 Graedel Circle|    2022347662|  3482392.14|           2001|\n",
            "|    C1033|Maino World Motors|          New Mexico|68124 Brentwood Hill|          null|  3741359.96|           2001|\n",
            "|    C1035|   Ilmio Jane Moto|      North Carolina|        14 Muir Pass|          null|  3715158.41|           2000|\n",
            "|    C1036|    Osborne Fields|               Texas|8971 Coleman Junc...|          null|  2639415.07|           1966|\n",
            "|    C1037|           Neopins|             Indiana|      6475 Gina Park|          null|  4325308.76|           1995|\n",
            "|    C1038|Maino World Motors|            Michigan|      31 Luster Hill|          null|  4159528.64|           1995|\n",
            "+---------+------------------+--------------------+--------------------+--------------+------------+---------------+\n",
            "only showing top 20 rows\n",
            "\n"
          ]
        }
      ]
    },
    {
      "cell_type": "code",
      "source": [
        "#Fetch the name of the company which has the highest profit margin among those who have ordered Ignition Switch.\n",
        "df_HighProfit = spark.sql(\"select companyinfo.companyname,max(ProfitMargin) as ProfitMargin from companyinfo \\\n",
        "                          join companyorders on \\\n",
        "                          companyinfo.CompanyID = companyorders.CompanyID \\\n",
        "                          where ComponentToBeManufactured ='Ignition Switch'\\\n",
        "                          group by companyinfo.companyname \\\n",
        "                          order by ProfitMargin desc Limit(1)\")\n",
        "df_HighProfit.show()"
      ],
      "metadata": {
        "colab": {
          "base_uri": "https://localhost:8080/"
        },
        "id": "rURuXIc40mDd",
        "outputId": "1b8452b1-2a4f-4606-c91b-11581e826817"
      },
      "execution_count": 75,
      "outputs": [
        {
          "output_type": "stream",
          "name": "stdout",
          "text": [
            "+-----------+------------+\n",
            "|companyname|ProfitMargin|\n",
            "+-----------+------------+\n",
            "| Kioto Moto|  4834622.33|\n",
            "+-----------+------------+\n",
            "\n"
          ]
        }
      ]
    },
    {
      "cell_type": "code",
      "source": [
        "#Find the total number of companies that have ordered Fender.\n",
        "dfCompanyOrders.select(dfCompanyOrders['CompanyName']) \\\n",
        "               .where(dfCompanyOrders['ComponentToBeManufactured'] == 'Fender') \\\n",
        "               .count()"
      ],
      "metadata": {
        "colab": {
          "base_uri": "https://localhost:8080/"
        },
        "id": "_5Gpgulx9N5q",
        "outputId": "1e459bbe-dfda-4f6a-a088-ff5917149f63"
      },
      "execution_count": 80,
      "outputs": [
        {
          "output_type": "execute_result",
          "data": {
            "text/plain": [
              "40"
            ]
          },
          "metadata": {},
          "execution_count": 80
        }
      ]
    },
    {
      "cell_type": "code",
      "source": [
        "#total number of exhaust pipes ordered from North Carolina \n",
        "dfCompanyOrders.select(dfCompanyOrders['Quantity'])\\\n",
        "               .where((dfCompanyOrders['ComponentToBeManufactured'] =='Exhaust Pipes') &\\\n",
        "                      (dfCompanyOrders['CompanyLocation'] == 'North Carolina'))\\\n",
        "               .show()"
      ],
      "metadata": {
        "colab": {
          "base_uri": "https://localhost:8080/"
        },
        "id": "uJBLD5ZeAdN-",
        "outputId": "5d0d3191-62de-401e-a043-1a8f789f8ec4"
      },
      "execution_count": 89,
      "outputs": [
        {
          "output_type": "stream",
          "name": "stdout",
          "text": [
            "+--------+\n",
            "|Quantity|\n",
            "+--------+\n",
            "|   42112|\n",
            "+--------+\n",
            "\n"
          ]
        }
      ]
    },
    {
      "cell_type": "code",
      "source": [
        "dfExp = spark.sql(\"select sum(Quantity) from companyorders \\\n",
        "                    where ComponentToBeManufactured = 'Exhaust Pipes' \\\n",
        "                    and CompanyLocation = 'North Carolina'\").show()\n",
        "dfExp.show()"
      ],
      "metadata": {
        "colab": {
          "base_uri": "https://localhost:8080/"
        },
        "id": "gN7ayPw9EW_a",
        "outputId": "2ca31e93-ba3b-4cf3-9bde-658b9dcd4ccb"
      },
      "execution_count": 91,
      "outputs": [
        {
          "output_type": "stream",
          "name": "stdout",
          "text": [
            "+-------------+\n",
            "|sum(Quantity)|\n",
            "+-------------+\n",
            "|        42112|\n",
            "+-------------+\n",
            "\n"
          ]
        }
      ]
    },
    {
      "cell_type": "code",
      "source": [
        "# Find the total count of all the orders that has been completed but not delivered yet.\n",
        "\n",
        "dfCompanyOrders.where((dfCompanyOrders['CompletionStatus'] =='Completed') &\\\n",
        "                      (dfCompanyOrders['DeliveryStatus'] == 'Pending'))\\\n",
        "               .count()\n"
      ],
      "metadata": {
        "colab": {
          "base_uri": "https://localhost:8080/"
        },
        "id": "0PYrskQEFmPT",
        "outputId": "a48e7a0e-49a9-47fe-dcbf-606b9ab3df0c"
      },
      "execution_count": 94,
      "outputs": [
        {
          "output_type": "execute_result",
          "data": {
            "text/plain": [
              "246"
            ]
          },
          "metadata": {},
          "execution_count": 94
        }
      ]
    },
    {
      "cell_type": "code",
      "source": [
        "import pyspark.sql.functions as F\n",
        "#Display all the orders whose status is still pending. Reduce the total cost of all such orders by 10%. \n",
        "#Store them in a file called DiscountOrders.csv\n",
        "df_Discount = dfCompanyOrders.where((dfCompanyOrders['CompletionStatus'] == 'Pending'))\n",
        "df_Discount = df_Discount.withColumn('EstimatedCost',F.round(dfCompanyOrders['EstimatedCost']*10/100,2))\n",
        "df_Discount.write.csv(\"/content/DiscountOrders.csv\",header=True)\n",
        "df_Discount.show()"
      ],
      "metadata": {
        "colab": {
          "base_uri": "https://localhost:8080/"
        },
        "id": "-Fwp5BYNGsA6",
        "outputId": "2d29d3a1-5c2f-43e7-abb4-129ca92b3a3b"
      },
      "execution_count": 109,
      "outputs": [
        {
          "output_type": "stream",
          "name": "stdout",
          "text": [
            "+-------+---------+------------------+---------------+-------------------------+--------+-------------+---------+---------+----------------+--------------+\n",
            "|OrderID|CompanyID|       CompanyName|CompanyLocation|ComponentToBeManufactured|Quantity|EstimatedCost|OrderDate|  DueDate|CompletionStatus|DeliveryStatus|\n",
            "+-------+---------+------------------+---------------+-------------------------+--------+-------------+---------+---------+----------------+--------------+\n",
            "|OD10001|    C1108|       Raido Bikes|        Georgia|             Spring Forks|   21103|    948786.75| 3-Nov-19|24-Dec-19|         Pending|       Pending|\n",
            "|OD10002|    C1035|   Ilmio Jane Moto| North Carolina|                   Fender|   26272|    489936.93|18-Dec-19|14-Mar-20|         Pending|       Pending|\n",
            "|OD10005|    C1093|  Quakesons Motors|     California|            Exhaust Pipes|   36773|    610182.96| 8-Dec-19| 9-Mar-20|         Pending|       Pending|\n",
            "|OD10006|    C1166|         Rigmarole|       New York|            Exhaust Pipes|   46571|    870456.61|19-Dec-19|10-Jan-20|         Pending|       Pending|\n",
            "|OD10007|    C1030|          Lee Auto|         Kansas|          Ignition Switch|   28519|     963590.5| 4-Dec-19|28-Jan-20|         Pending|       Pending|\n",
            "|OD10012|    C1121|          Lee Auto|         Oregon|                 Oil Tank|   22509|    850107.44|28-Oct-19| 8-Jan-20|         Pending|       Pending|\n",
            "|OD10014|    C1076|       Raido Bikes|      Louisiana|                     Horn|   55747|    167639.12| 3-Nov-19| 1-Mar-20|         Pending|       Pending|\n",
            "|OD10015|    C1020|         Rigmarole|     New Jersey|              Speedometer|   21080|    132352.31| 4-Nov-19|25-Mar-20|         Pending|       Pending|\n",
            "|OD10017|    C1064|       Zoom Dynamo|  West Virginia|     Ignition Circuit ...|   41117|    563025.22| 9-Dec-19|31-Jan-20|         Pending|       Pending|\n",
            "|OD10019|    C1165|  Quakesons Motors|       New York|          Ignition Switch|   34487|    689335.93|12-Dec-19|24-Feb-20|         Pending|       Pending|\n",
            "|OD10022|    C1051|        Reo Bailio|      Minnesota|                 Oil Tank|   58065|    249001.92| 5-Nov-19|12-Jan-20|         Pending|       Pending|\n",
            "|OD10023|    C1026|  Quakesons Motors|       Colorado|     Ignition Circuit ...|   49210|    750607.22|30-Nov-19|25-Jan-20|         Pending|       Pending|\n",
            "|OD10026|    C1098|Nando Kewillswitch|        Indiana|                  Muffler|   25292|    408271.52|29-Nov-19|10-Jan-20|         Pending|       Pending|\n",
            "|OD10029|    C1184|       Sano Wheels|         Nevada|                Generator|   58684|    244046.82|17-Oct-19| 8-Feb-20|         Pending|       Pending|\n",
            "|OD10032|    C1112|           Neopins|           Ohio|              Brake Cable|   39647|     788450.4|22-Oct-19|11-Feb-20|         Pending|       Pending|\n",
            "|OD10035|    C1017|         Rigmarole|   Pennsylvania|                   Brakes|   55351|    352909.46|17-Dec-19| 3-Feb-20|         Pending|       Pending|\n",
            "|OD10036|    C1035|   Ilmio Jane Moto| North Carolina|              Speedometer|   22991|     765193.6|20-Nov-19|29-Jan-20|         Pending|       Pending|\n",
            "|OD10037|    C1200|   Ilmio Jane Moto|       Virginia|     Ignition Circuit ...|   58877|    680659.59|10-Dec-19|16-Feb-20|         Pending|       Pending|\n",
            "|OD10038|    C1158|     MotoLab Bikes|          Texas|               Safety Bar|   22335|    681718.45|26-Oct-19|25-Mar-20|         Pending|       Pending|\n",
            "|OD10039|    C1077|Nando Kewillswitch|     California|        Rubber Fork Boots|   38765|    898037.18|12-Oct-19|29-Dec-19|         Pending|       Pending|\n",
            "+-------+---------+------------------+---------------+-------------------------+--------+-------------+---------+---------+----------------+--------------+\n",
            "only showing top 20 rows\n",
            "\n"
          ]
        }
      ]
    },
    {
      "cell_type": "code",
      "source": [
        "#Based on the previous question, fetch the total cost to be paid by all the franchises having company name as Laser Wheels\n",
        "from pyspark.sql.functions import sum\n",
        "df_Discount.where(df_Discount['CompanyName'] == 'Laser Wheels')\\\n",
        "           .select(sum(df_Discount['EstimatedCost']))\\\n",
        "           .show()\n",
        "           "
      ],
      "metadata": {
        "colab": {
          "base_uri": "https://localhost:8080/"
        },
        "id": "vcykPhd_NwHZ",
        "outputId": "7e3a06e3-5b05-4f2f-f4ee-9b77492df739"
      },
      "execution_count": 132,
      "outputs": [
        {
          "output_type": "stream",
          "name": "stdout",
          "text": [
            "+------------------+\n",
            "|sum(EstimatedCost)|\n",
            "+------------------+\n",
            "|        8548640.87|\n",
            "+------------------+\n",
            "\n"
          ]
        }
      ]
    },
    {
      "cell_type": "code",
      "source": [
        "spark.stop"
      ],
      "metadata": {
        "colab": {
          "base_uri": "https://localhost:8080/"
        },
        "id": "UeEAB86OTAQF",
        "outputId": "bdf4a429-0fcf-42d3-e0e7-db784dfe833d"
      },
      "execution_count": 133,
      "outputs": [
        {
          "output_type": "execute_result",
          "data": {
            "text/plain": [
              "<bound method SparkSession.stop of <pyspark.sql.session.SparkSession object at 0x7f23d4336410>>"
            ]
          },
          "metadata": {},
          "execution_count": 133
        }
      ]
    }
  ]
}