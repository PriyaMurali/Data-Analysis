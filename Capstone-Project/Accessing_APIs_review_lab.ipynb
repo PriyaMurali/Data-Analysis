
HTTP and Requests
Estimated time needed: 15 minutes

Objectives
After completing this lab you will be able to:

Understand HTTP
Handle the HTTP Requests
Table of Contents
Overview of HTTP
Uniform Resource Locator:URL
Request
Response
Requests in Python
Get Request with URL Parameters
Post Requests
Overview of HTTP
When you, the client, use a web page your browser sends an HTTP request to the server where the page is hosted. The server tries to find the desired resource by default "index.html". If your request is successful, the server will send the object to the client in an HTTP response; this includes information like the type of the resource, the length of the resource, and other information.

The figure below represents the process; the circle on the left represents the client, the circle on the right represents the Web server. The table under the Web server represents a list of resources stored in the web server. In this case an HTML file, png image, and txt file .

The HTTP protocol allows you to send and receive information through the web including webpages, images, and other web resources. In this lab, we will provide an overview of the Requests library for interacting with the HTTP protocol.


Uniform Resource Locator:URL
Uniform resource locator (URL) is the most popular way to find resources on the web. We can break the URL into three parts.

scheme this is this protocol, for this lab it will always be http://
Internet address or Base URL this will be used to find the location here are some examples: www.ibm.com and www.gitlab.com
route location on the web server for example: /images/IDSNlogo.png
You may also here the term uniform resource identifier (URI), URL are actually a subset of URIs. Another popular term is endpoint, this is the URL of an operation provided by a Web server.

Request
The process can be broken into the request and response process. The request using the get method is partially illustrated below. In the start line we have the GET method, this is an HTTP method. Also the location of the resource /index.html and the HTTP version .The Request header passes additional information with an HTTP request:


When an HTTP request is made, an HTTP method is sent, this tells the server what action to perform. A list of several HTTP methods is shown below. We will go over more examples later.


Response
The figure below represents the response; the response start line contains the version number HTTP/1.0, a status code (200) meaning success, followed by a descriptive phrase (OK). The response header contains useful information. Finally, we have the response body containing the requested file an HTML document. It should be noted that some request have headers.


Some status code examples are shown in the table below, the prefix indicates the class; these are shown in yellow, with actual status codes shown in white. Check out the following link for more descriptions.


Requests in Python
Requests is a python Library that allows you to send HTTP/1.1 requests easily. We can import the library as follows:

[1]
0s
import requests
We will also use the following libraries

[2]
0s
import os 
from PIL import Image
from IPython.display import IFrame
You can make a GET request via the method get to www.ibm.com:

[3]
2s
url='https://www.ibm.com/'
r=requests.get(url)

We have the response object r , this has information about the request, like the status of the request. We can view the status code using the attribute status_code

[4]
0s
r.status_code
200
You can view the request headers:

[5]
0s
print(r.request.headers)
{'User-Agent': 'python-requests/2.23.0', 'Accept-Encoding': 'gzip, deflate', 'Accept': '*/*', 'Connection': 'keep-alive', 'Cookie': '_abck=49C3BC98EC8526280FEBD4653F1294B9~-1~YAAQbjArFxAotHWAAQAAbnQLigeIAEftYr8CUbLzfHZi+hxDEkg84O3ua6RvvBY9xonKfGHYlZBJ844/6cdpLbDo1BTEs96Kr5o/PopMU1tWNjv5ZwmHvYy8OywaNV4IC0eTK5vvmas4hSqxiiM6ZlCNVH9ljYCRFSImDwIcWU2eavfvSwbXEp3yAYoR9OV9dmwHsaD6CsgGDe6Tj2J2Zs/pPZTUNQHF6Ikw5Kn817INvxrgFNDJCwHFou/Zv3QXWdqsvrK0JUhsEnNAzSIMgcqtyREauNz1yftZ9iZKlTJqBX2N9NhzK+cmDw0cdbrem9OsgWNJGRjxaX0sS1X1MTVyABRAS/CwIHVtlQXg0h0hucv22Wg=~-1~-1~-1; bm_sz=567B7A7E355C6C2DD52614EDB0D2028F~YAAQbjArFxEotHWAAQAAbnQLig/5k8QD/1MyJ3sJMtw3M/2Y6TXSowHAwM0/GmH7ioALdfbC2Z6t8bF/aK+xEv8xzkYfsdVbeyeciiZiaXGNI65G8O95pElsN0USPM6IJGdEFDLIyeOC0C7v9YxPYwlYYmYoVvYUuWjTSR+QE5HNx5qxwP+GI/bWrodN4Ano1JnxrUfUuVEiIr6uW09TUkHCxnlKdGV6K3ykBcYB4uKcnhD3mSgvz0Pb6FWETNVUkJpSOXON+abi7VLL/V0FA5+oDSIp4kLk2tYWcrU0hmo=~3551298~4277828'}
You can view the request body, in the following line, as there is no body for a get request we get a None :

[6]
0s
print("request body:", r.request.body)
request body: None
You can view the HTTP response header using the attribute headers. This returns a python dictionary of HTTP response headers.

[7]
0s
header=r.headers
print(r.headers)
{'Server': 'Apache', 'x-drupal-dynamic-cache': 'UNCACHEABLE', 'Link': '<https://www.ibm.com/tw-zh>; rel="canonical", <https://www.ibm.com/tw-zh>; rel="revision", <//1.cms.s81c.com>; rel=preconnect; crossorigin, <//1.cms.s81c.com>; rel=dns-prefetch', 'x-ua-compatible': 'IE=edge', 'Content-Language': 'zh-tw', 'Permissions-Policy': 'interest-cohort=()', 'x-generator': 'Drupal 9 (https://www.drupal.org)', 'x-dns-prefetch-control': 'on', 'x-drupal-cache': 'MISS', 'Last-Modified': 'Mon, 02 May 2022 12:04:23 GMT', 'ETag': '"1651493063"', 'Content-Type': 'text/html; charset=UTF-8', 'x-acquia-host': 'www.ibm.com', 'x-acquia-path': '/tw-zh', 'x-acquia-site': '', 'x-acquia-purge-tags': '', 'x-varnish': '281087810 273352916', 'x-cache-hits': '4', 'x-age': '11751', 'Accept-Ranges': 'bytes', 'Content-Encoding': 'gzip', 'Cache-Control': 'public, max-age=300', 'Expires': 'Tue, 03 May 2022 13:15:49 GMT', 'X-Akamai-Transformed': '9 10304 0 pmb=mTOE,2', 'Date': 'Tue, 03 May 2022 13:10:49 GMT', 'Content-Length': '10471', 'Connection': 'keep-alive', 'Vary': 'Accept-Encoding', 'x-content-type-options': 'nosniff', 'X-XSS-Protection': '1; mode=block', 'Content-Security-Policy': 'upgrade-insecure-requests', 'Strict-Transport-Security': 'max-age=31536000', 'x-ibm-trace': 'www-dipatcher: dynamic rule'}
We can obtain the date the request was sent using the key Data

[8]
0s
header['date']

Content-Type indicates the type of data:

[9]
0s
header['Content-Type']

You can also check the encoding:

[10]
0s
 r.encoding

As the Content-Type is text/html we can use the attribute text to display the HTML in the body. We can review the first 100 characters:

[12]
0s
r.text[0:100]

You can load other types of data for non-text requests like images, consider the URL of the following image:

[13]
0s
# Use single quotation marks for defining string
url='https://cf-courses-data.s3.us.cloud-object-storage.appdomain.cloud/IBM-DA0321EN-SkillsNetwork/labs/module%201/images/IDSNlogo.png'
We can make a get request:

[14]
1s
r=requests.get(url)
We can look at the response header:

[15]
0s
print(r.headers)
{'Date': 'Tue, 03 May 2022 13:11:33 GMT', 'X-Clv-Request-Id': 'e0fd390a-d90f-4cd2-8ad4-4aac05410f76', 'Server': 'Cleversafe', 'X-Clv-S3-Version': '2.5', 'Accept-Ranges': 'bytes', 'x-amz-request-id': 'e0fd390a-d90f-4cd2-8ad4-4aac05410f76', 'Cache-Control': 'max-age=0,public', 'ETag': '"a831e767d02efd21b904ec485ac0c769"', 'Content-Type': 'image/png', 'Last-Modified': 'Tue, 05 Apr 2022 11:41:35 GMT', 'Content-Length': '21590'}
We can we can see the 'Content-Type'

[16]
0s
r.headers['Content-Type']

An image is a response object that contains the image as a bytes-like object. As a result, we must save it using a file object. First, we specify the file path and name

[17]
0s
path=os.path.join(os.getcwd(),'image.png')
path

We save the file, in order to access the body of the response we use the attribute content then save it using the open function and write method:

[18]
0s
with open(path,'wb') as f:
    f.write(r.content)
We can view the image:

[19]
0s
Image.open(path)  

Try it out
The following code uses wget to retrieve content from the web server.
Write the python code to perform the same task.
The code should be the same as the one used to download the image, but the file name should be 'example.txt'.

!wget -O /resources/data/Example1.txt https://s3-api.us-geo.objectstorage.softlayer.net/cf-courses-data/CognitiveClass/PY0101EN/labs/example1.txt

[20]
1s
url='https://s3-api.us-geo.objectstorage.softlayer.net/cf-courses-data/CognitiveClass/PY0101EN/labs/example.txt'
path=os.path.join(os.getcwd(),'example.txt')
r=requests.get(url)
with open(path,'wb') as f:
    f.write(r.content)
Double-click here for the solution.

Get Request with URL Parameters
You can use the GET method to modify the results of your query, for example retrieving data from an API . We send a GET request to the server. Like before we have the Base URL, in the Route we append /get this indicates we would like to preform a GET request, this is demonstrated in the following table:


The Base URL is for http://httpbin.org/ is a simple HTTP Request & Response Service. The URL in Python is given by:

[21]
0s
url_get='http://httpbin.org/get'
A query string is a part of a uniform resource locator (URL), this sends other information to the web server. The start of the query is a ?, followed by a series of parameter and value pairs, as shown in the table below. The first parameter name is name and the value is Joseph the second parameter name is ID and the Value is 123. Each pair, parameter and value is separated by an equals sign, =. The series of pairs is separated by the ampersand &.


To create a Query string, add a dictionary. The keys are the parameter names, and the values are the value of the Query string.

[22]
0s
payload={"name":"Joseph","ID":"123"}
Then passing the dictionary payload to the params parameter of the get() function:

[23]
0s
r=requests.get(url_get,params=payload)
We can print out the URL and see the name and values

[24]
0s
r.url

There is no request body

[25]
0s
print("request body:", r.request.body)
request body: None
We can print out the status code

[26]
0s
print(r.status_code)
200
We can view the response as text:

[27]
0s
print(r.text)
{
  "args": {
    "ID": "123", 
    "name": "Joseph"
  }, 
  "headers": {
    "Accept": "*/*", 
    "Accept-Encoding": "gzip, deflate", 
    "Host": "httpbin.org", 
    "User-Agent": "python-requests/2.23.0", 
    "X-Amzn-Trace-Id": "Root=1-62712b65-620519236c4dff7471642c03"
  }, 
  "origin": "35.221.205.246", 
  "url": "http://httpbin.org/get?name=Joseph&ID=123"
}

We can look at the 'Content-Type'.

[33]
0s
r.headers['Content-Type']

As the content 'Content-Type' is in the JSAON format we can use the method json() , it returns a Python dict:

[34]
0s
r.json()
{'args': {'ID': '123', 'name': 'Joseph'},
 'headers': {'Accept': '*/*',
  'Accept-Encoding': 'gzip, deflate',
  'Host': 'httpbin.org',
  'User-Agent': 'python-requests/2.23.0',
  'X-Amzn-Trace-Id': 'Root=1-62712b65-620519236c4dff7471642c03'},
 'origin': '35.221.205.246',
 'url': 'http://httpbin.org/get?name=Joseph&ID=123'}
The key args had the name and values:

[35]
0s
r.json()['args']
{'ID': '123', 'name': 'Joseph'}
Post Requests
Like a GET request a POST is used to send data to a server, but the POST request sends the data in a request body.

[28]
0s
url_post='http://httpbin.org/post'
This endpont will expect data as a file or as a form.

To make a POST request we use the post() function, the variable payload is passed to the parameter data :

[29]
0s
r_post=requests.post(url_post,data=payload)
Comparing the URL from the response object of the GET and POST request we see the POST request has no name or value pairs.

Double-click (or enter) to edit

[30]
0s
print("POST request URL:",r_post.url )
print("GET request URL:",r.url)
POST request URL: http://httpbin.org/post
GET request URL: http://httpbin.org/get?name=Joseph&ID=123
We can compare the POST and GET request body, we see only the POST request has a body:

[31]
0s
print("POST request body:",r_post.request.body)
print("GET request body:",r.request.body)
POST request body: name=Joseph&ID=123
GET request body: None
We can view the form as well:

[32]
0s
r_post.json()['form']
{'ID': '123', 'name': 'Joseph'}
There is a lot more you can do check out Requests for more.

Authors
Joseph Santarcangelo
A Data Scientist at IBM, and holds a PhD in Electrical Engineering. His research focused on using Machine Learning, Signal Processing, and Computer Vision to determine how videos impact human cognition. Joseph has been working for IBM since he completed his PhD.

↳ 1 cell hidden
Change Log
Date (YYYY-MM-DD)	Version	Changed By	Change Description
2022-02-04	2.2	Pratiksha Verma	Changed url
2020-10-27	2.1	Ramesh Sannareddy	Corrected typos
2020-09-02	2.0	Simran	Template updates to the file
© IBM Corporation 2020. All rights reserved.

check
0s
completed at 9:18 AM
a: StrPath, hint
Loading...
