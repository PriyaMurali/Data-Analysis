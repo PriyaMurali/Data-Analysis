{
  "nbformat": 4,
  "nbformat_minor": 0,
  "metadata": {
    "colab": {
      "name": "Spark Capstone Project - Credit Card Approval System.ipynb",
      "provenance": [],
      "collapsed_sections": [],
      "authorship_tag": "ABX9TyPnZiamGj7WNtXMnjVP2I47",
      "include_colab_link": true
    },
    "kernelspec": {
      "name": "python3",
      "display_name": "Python 3"
    },
    "language_info": {
      "name": "python"
    }
  },
  "cells": [
    {
      "cell_type": "markdown",
      "metadata": {
        "id": "view-in-github",
        "colab_type": "text"
      },
      "source": [
        "<a href=\"https://colab.research.google.com/github/PriyaMurali/Data-Analysis/blob/main/Spark_Capstone_Project_Credit_Card_Approval_System.ipynb\" target=\"_parent\"><img src=\"https://colab.research.google.com/assets/colab-badge.svg\" alt=\"Open In Colab\"/></a>"
      ]
    },
    {
      "cell_type": "code",
      "execution_count": 1,
      "metadata": {
        "colab": {
          "base_uri": "https://localhost:8080/"
        },
        "id": "Oln12K4nAQWa",
        "outputId": "986a6983-d704-4d82-e88c-f4702b2edd10"
      },
      "outputs": [
        {
          "output_type": "stream",
          "name": "stdout",
          "text": [
            "Get:1 https://cloud.r-project.org/bin/linux/ubuntu bionic-cran40/ InRelease [3,626 B]\n",
            "Get:2 http://security.ubuntu.com/ubuntu bionic-security InRelease [88.7 kB]\n",
            "Get:3 http://ppa.launchpad.net/c2d4u.team/c2d4u4.0+/ubuntu bionic InRelease [15.9 kB]\n",
            "Ign:4 https://developer.download.nvidia.com/compute/machine-learning/repos/ubuntu1804/x86_64  InRelease\n",
            "Hit:5 https://developer.download.nvidia.com/compute/cuda/repos/ubuntu1804/x86_64  InRelease\n",
            "Hit:6 https://developer.download.nvidia.com/compute/machine-learning/repos/ubuntu1804/x86_64  Release\n",
            "Hit:7 http://archive.ubuntu.com/ubuntu bionic InRelease\n",
            "Get:8 http://archive.ubuntu.com/ubuntu bionic-updates InRelease [88.7 kB]\n",
            "Hit:10 http://ppa.launchpad.net/cran/libgit2/ubuntu bionic InRelease\n",
            "Get:11 http://archive.ubuntu.com/ubuntu bionic-backports InRelease [74.6 kB]\n",
            "Hit:12 http://ppa.launchpad.net/deadsnakes/ppa/ubuntu bionic InRelease\n",
            "Get:13 http://security.ubuntu.com/ubuntu bionic-security/main amd64 Packages [2,937 kB]\n",
            "Hit:14 http://ppa.launchpad.net/graphics-drivers/ppa/ubuntu bionic InRelease\n",
            "Get:15 http://archive.ubuntu.com/ubuntu bionic-updates/main amd64 Packages [3,369 kB]\n",
            "Get:16 http://ppa.launchpad.net/c2d4u.team/c2d4u4.0+/ubuntu bionic/main Sources [2,095 kB]\n",
            "Get:17 http://security.ubuntu.com/ubuntu bionic-security/universe amd64 Packages [1,533 kB]\n",
            "Get:18 http://archive.ubuntu.com/ubuntu bionic-updates/universe amd64 Packages [2,310 kB]\n",
            "Get:19 http://ppa.launchpad.net/c2d4u.team/c2d4u4.0+/ubuntu bionic/main amd64 Packages [1,073 kB]\n",
            "Fetched 13.6 MB in 6s (2,306 kB/s)\n",
            "Reading package lists... Done\n"
          ]
        }
      ],
      "source": [
        "from collections import Counter\n",
        "!wget -q https://dlcdn.apache.org/spark/spark-3.3.0/spark-3.3.0-bin-hadoop3.tgz\n",
        "!tar xf spark-3.3.0-bin-hadoop3.tgz\n",
        "!pip install -q findspark\n",
        "!apt-get update\n",
        "!apt-get install --fix-missing openjdk-8-jdk-headless -qq > /dev/null\n",
        "\n",
        "import os\n",
        "os.environ[\"JAVA_HOME\"] = \"/usr/lib/jvm/java-8-openjdk-amd64\"\n",
        "os.environ[\"SPARK_HOME\"] = \"/content/spark-3.3.0-bin-hadoop3\""
      ]
    },
    {
      "cell_type": "code",
      "source": [
        "!pip install mysql-connector-python\n",
        "import findspark\n",
        "findspark.init()\n",
        "from pyspark.sql import SparkSession"
      ],
      "metadata": {
        "colab": {
          "base_uri": "https://localhost:8080/"
        },
        "id": "G2_zQWujB5Tm",
        "outputId": "e756f721-82f8-44d6-bdff-4bb02eb00888"
      },
      "execution_count": 2,
      "outputs": [
        {
          "output_type": "stream",
          "name": "stdout",
          "text": [
            "Looking in indexes: https://pypi.org/simple, https://us-python.pkg.dev/colab-wheels/public/simple/\n",
            "Collecting mysql-connector-python\n",
            "  Downloading mysql_connector_python-8.0.30-cp37-cp37m-manylinux1_x86_64.whl (25.4 MB)\n",
            "\u001b[K     |████████████████████████████████| 25.4 MB 1.6 MB/s \n",
            "\u001b[?25hRequirement already satisfied: protobuf<=3.20.1,>=3.11.0 in /usr/local/lib/python3.7/dist-packages (from mysql-connector-python) (3.17.3)\n",
            "Requirement already satisfied: six>=1.9 in /usr/local/lib/python3.7/dist-packages (from protobuf<=3.20.1,>=3.11.0->mysql-connector-python) (1.15.0)\n",
            "Installing collected packages: mysql-connector-python\n",
            "Successfully installed mysql-connector-python-8.0.30\n"
          ]
        }
      ]
    },
    {
      "cell_type": "code",
      "source": [
        "spark = SparkSession \\\n",
        "        .builder \\\n",
        "        .appName(\"SparkCapstoneProject\") \\\n",
        "        .getOrCreate()"
      ],
      "metadata": {
        "id": "AAzsQmqLCrXm"
      },
      "execution_count": 3,
      "outputs": []
    },
    {
      "cell_type": "code",
      "source": [
        "from pyspark.sql.types import *\n",
        "customer_schema = StructType([\n",
        "StructField(\"CustomerName\", StringType(), True),\n",
        "StructField(\"DOB\", StringType(), True),\n",
        "StructField(\"SSN\", StringType(), True),\n",
        "StructField(\"City\", StringType(), True),\n",
        "StructField(\"State\", StringType(), True),\n",
        "StructField(\"ZipCode\", LongType(), True),\n",
        "StructField(\"ExistingProducts\", StringType(), True),\n",
        "StructField(\"OtherBankProducts1\", StringType(), True),\n",
        "StructField(\"CreditSpent1\", LongType(), True),\n",
        "StructField(\"OtherBankProducts2\", StringType(), True),\n",
        "StructField(\"CreditSpent2\", LongType(), True),\n",
        "StructField(\"OtherBankProducts3\", StringType(), True),\n",
        "StructField(\"CreditSpent3\", LongType(), True),\n",
        "StructField(\"DefaulterFlag\", StringType(), True)\n",
        "])\n",
        "CustomerDS = spark.read.csv(path='/content/CustomersReferenceDataset.csv',sep=',',schema=customer_schema)\n",
        "CustomerDS.show()"
      ],
      "metadata": {
        "colab": {
          "base_uri": "https://localhost:8080/"
        },
        "id": "yUSiDApxCNPC",
        "outputId": "0a36ba42-23c7-4b90-a418-282bb1ca79c3"
      },
      "execution_count": 5,
      "outputs": [
        {
          "output_type": "stream",
          "name": "stdout",
          "text": [
            "+------------+----------+-------+-------+-----------+-------+----------------+--------------------+------------+--------------------+------------+------------------+------------+-------------+\n",
            "|CustomerName|       DOB|    SSN|   City|      State|ZipCode|ExistingProducts|  OtherBankProducts1|CreditSpent1|  OtherBankProducts2|CreditSpent2|OtherBankProducts3|CreditSpent3|DefaulterFlag|\n",
            "+------------+----------+-------+-------+-----------+-------+----------------+--------------------+------------+--------------------+------------+------------------+------------+-------------+\n",
            "|         Bob|23-08-1981|SSN0001|Atlanta|    Georgia|  30301|      SavingsACC| FCIBankPlatinumCard|         250|   HSBBankCreditCard|         450|  HSBBankCoralCard|         250|            N|\n",
            "|        Jack|17-09-1984|SSN0002|Chicago|   Illinois|  60601|      CurrentACC|NPCCBankPlatinumCard|        1250|   HSBBankCreditCard|          50|  HSBBankCoralCard|         250|            N|\n",
            "|       Krish|17-03-1983|SSN0003| Biloxi|Mississippo|  39530|      CurrentACC| NPCBankPlatinumCard|         250|HSBBankSignatureCard|         450|  HSBBankCoralCard|          50|            N|\n",
            "|       Jacob|22-02-1978|SSN0004| Biloxi|Mississippo|  39530|      SavingsACC| NPCBankPlatinumCard|         250|HSBBankDinersClub...|         450|  HSBBankCoralCard|          50|            N|\n",
            "|       Ethen|21-08-1979|SSN0005|Chicago|   Illinois|  60601|      CurrentACC| NPCBankPlatinumCard|         280|   HSBBankCreditCard|         450|  HSBBankCoralCard|        1250|            Y|\n",
            "|     William|21-06-1982|SSN0006|Atlanta|    Georgia|  30301|      SavingsACC|NPCBankDinersClub...|         250|   HSBBankCreditCard|         450|  HSBBankCoralCard|         250|            N|\n",
            "|       Jayde|23-08-1986|SSN0007| Biloxi|Mississippo|  39530|      CurrentACC| NPCBankPlatinumCard|         280|HSBBankChipCredit...|         450|  HSBBankCoralCard|         350|            N|\n",
            "|       Ethan|25-08-1982|SSN0008| Biloxi|Mississippo|  39530|      SavingsACC| NPCBankPlatinumCard|         250|   HSBBankCreditCard|         450|  HSBBankCoralCard|         150|            Y|\n",
            "|      Jayden|23-08-1983|SSN0009|Atlanta|    Georgia|  30301|      CurrentACC| NPCBankPlatinumCard|         240|HSBBankChipCredit...|         450|  HSBBankCoralCard|         350|            N|\n",
            "|      Anthon|22-08-1983|SSN0010|Chicago|   Illinois|  60601|      SavingsACC| NPCBankPlatinumCard|         254|HSBBankChipCredit...|        1250|  HSBBankCoralCard|         450|            Y|\n",
            "|      Daniel|22-07-1984|SSN0011|Chicago|   Illinois|  60601|      SavingsACC|    FCIBankCoralCard|         100|     FCSPlatinumCard|         724| HFSExpressionCard|         100|            N|\n",
            "|       Janes|22-08-1985|SSN0012|Chicago|   Illinois|  60601|      SavingsACC|FCIBankAdvantageS...|        1000|     FCSPlatinumCard|         724| HFSExpressionCard|         100|            N|\n",
            "|        John|22-03-1986|SSN0013|Atlanta|    Georgia|  30301|      CurrentACC|    FCIBankCoralCard|         100|     FCSPlatinumCard|         724| HFSExpressionCard|         100|            N|\n",
            "|        Jose|22-02-1983|SSN0014| Biloxi|Mississippo|  39530|      SavingsACC|FCIBankAdvantageS...|        1000|     FCSPlatinumCard|         724| HFSExpressionCard|         100|            N|\n",
            "|        Knox|28-01-1984|SSN0015|Chicago|   Illinois|  60601|      CurrentACC|    FCIBankCoralCard|        1006|     FCSPlatinumCard|         724|  HFSSignatureCard|         100|            N|\n",
            "|        Enzo|22-09-1985|SSN0016| Biloxi|Mississippo|  39530|      SavingsACC|    FCIBankCoralCard|        1040|    FCSSignatureCard|         724| HFSExpressionCard|         100|            N|\n",
            "|      Karter|21-10-1986|SSN0017|Atlanta|    Georgia|  30301|      CurrentACC|    FCIBankCoralCard|        1000|     FCSPlatinumCard|         824| HFSExpressionCard|         100|            N|\n",
            "|      Brooks|22-08-1983|SSN0018|Chicago|   Illinois|  60601|      SavingsACC|FCIBankAdvantageS...|        1000|     FCSPlatinumCard|         724|  HFSSignatureCard|         100|            N|\n",
            "|      Alfred|22-08-1984|SSN0019| Biloxi|Mississippo|  39530|      CurrentACC|    FCIBankCoralCard|        1080|     FCSPlatinumCard|         626| HFSExpressionCard|         100|            N|\n",
            "|       Oscar|22-08-1985|SSN0020|Chicago|   Illinois|  60601|      SavingsACC|FCIBankAdvantageS...|        1000|    FCSSignatureCard|         724| HFSExpressionCard|         100|            Y|\n",
            "+------------+----------+-------+-------+-----------+-------+----------------+--------------------+------------+--------------------+------------+------------------+------------+-------------+\n",
            "only showing top 20 rows\n",
            "\n"
          ]
        }
      ]
    },
    {
      "cell_type": "code",
      "source": [
        "from pyspark.sql.types import *\n",
        "cc_schema = StructType([\n",
        "StructField(\"CustomerName\", StringType(), True),\n",
        "StructField(\"DOB\", StringType(), True),\n",
        "StructField(\"SSN\", StringType(), True),\n",
        "StructField(\"MailID\", StringType(), True),\n",
        "StructField(\"PhoneNumber\", LongType(), True),\n",
        "StructField(\"City\", StringType(), True),\n",
        "StructField(\"State\", StringType(), True),\n",
        "StructField(\"ZipCode\", LongType(), True),\n",
        "StructField(\"CreditLimit\", LongType(), True)\n",
        "])\n",
        "CcDS = spark.read.csv(path='/content/CreditCardApplicationData.csv',sep=',',schema=cc_schema)\n",
        "CcDS.show()"
      ],
      "metadata": {
        "colab": {
          "base_uri": "https://localhost:8080/"
        },
        "id": "ZPCkFWN_ES_B",
        "outputId": "322e8e8a-219d-452c-8bd9-7562e69620bd"
      },
      "execution_count": 6,
      "outputs": [
        {
          "output_type": "stream",
          "name": "stdout",
          "text": [
            "+------------+----------+-------+----------------+-----------+-------+-----------+-------+-----------+\n",
            "|CustomerName|       DOB|    SSN|          MailID|PhoneNumber|   City|      State|ZipCode|CreditLimit|\n",
            "+------------+----------+-------+----------------+-----------+-------+-----------+-------+-----------+\n",
            "|         Bob|23-08-1981|SSN0001|    Bob@mail.com| 1287655553|Atlanta|    Georgia|  30301|       3000|\n",
            "|        Jack|17-09-1984|SSN0002|   Jack@mail.com| 9776543221|Chicago|   Illinois|  60601|       2500|\n",
            "|       Krish|17-03-1983|SSN0003|  Krish@mail.com| 9987765234| Biloxi|Mississippo|  39530|       1500|\n",
            "|       Jacob|22-02-1978|SSN0004|  Jacob@mail.com| 4335544553| Biloxi|Mississippo|  39530|       1500|\n",
            "|       Ethen|21-08-1979|SSN0005|  Ethen@mail.com| 8888777722|Chicago|   Illinois|  60601|       5500|\n",
            "|     William|21-06-1982|SSN0006|William@mail.com|  223377882|Atlanta|    Georgia|  30301|       1000|\n",
            "|       Jayde|23-08-1986|SSN0007|  Jayde@mail.com|44557768443| Biloxi|Mississippo|  39530|       1000|\n",
            "|       Ethan|25-08-1982|SSN0008|    ABC@mail.com| 3344990876| Biloxi|Mississippo|  39530|       4500|\n",
            "|      Jayden|23-08-1983|SSN0009|    ABC@mail.com| 3344990876|Atlanta|    Georgia|  30301|       2000|\n",
            "|      Anthon|22-08-1983|SSN0010|    ABC@mail.com| 3344990876|Chicago|   Illinois|  60601|        500|\n",
            "|      Daniel|22-07-1984|SSN0011|    ABC@mail.com| 3344990876|Chicago|   Illinois|  60601|        500|\n",
            "|       Janes|22-08-1985|SSN0012|    ABC@mail.com| 3344990876|Chicago|   Illinois|  60601|       3500|\n",
            "|        John|22-03-1986|SSN0013|    ABC@mail.com| 3344990876|Atlanta|    Georgia|  30301|       3000|\n",
            "|        Jose|22-02-1983|SSN0014|    ABC@mail.com| 3344990876| Biloxi|Mississippo|  39530|       4500|\n",
            "|        Knox|28-01-1984|SSN0015|    ABC@mail.com| 3344990876|Chicago|   Illinois|  60601|       3500|\n",
            "|        Enzo|22-09-1985|SSN0016|    ABC@mail.com| 3344990876| Biloxi|Mississippo|  39530|       4500|\n",
            "|      Karter|21-10-1986|SSN0017|    ABC@mail.com| 3344990876|Atlanta|    Georgia|  30301|       3000|\n",
            "|      Brooks|22-08-1983|SSN0018|    ABC@mail.com| 3344990876|Chicago|   Illinois|  60601|       3000|\n",
            "|      Alfred|22-08-1984|SSN0019|    ABC@mail.com| 3344990876| Biloxi|Mississippo|  39530|       4500|\n",
            "|       Oscar|22-08-1985|SSN0020|    ABC@mail.com| 3344990876|Chicago|   Illinois|  60601|        500|\n",
            "+------------+----------+-------+----------------+-----------+-------+-----------+-------+-----------+\n",
            "only showing top 20 rows\n",
            "\n"
          ]
        }
      ]
    },
    {
      "cell_type": "code",
      "source": [
        "CustomerDS.createOrReplaceTempView(\"CustomerData\")\n",
        "CcDS.createOrReplaceTempView(\"CreditCardData\")"
      ],
      "metadata": {
        "id": "T69KpHjDGHbM"
      },
      "execution_count": 7,
      "outputs": []
    },
    {
      "cell_type": "code",
      "source": [
        "spark.sql(\"show tables\").show()"
      ],
      "metadata": {
        "colab": {
          "base_uri": "https://localhost:8080/"
        },
        "id": "-6rqV9scGZoE",
        "outputId": "98f3352f-d2d6-4ad3-fa90-642dca293f7b"
      },
      "execution_count": 8,
      "outputs": [
        {
          "output_type": "stream",
          "name": "stdout",
          "text": [
            "+---------+--------------+-----------+\n",
            "|namespace|     tableName|isTemporary|\n",
            "+---------+--------------+-----------+\n",
            "|         |creditcarddata|       true|\n",
            "|         |  customerdata|       true|\n",
            "+---------+--------------+-----------+\n",
            "\n"
          ]
        }
      ]
    },
    {
      "cell_type": "code",
      "source": [
        "#Verify whether customer is defaulter or not.\n",
        "joinedDf=spark.sql(\"select CustomerData.CustomerName,CustomerData.SSN,(CreditSpent1+CreditSpent2+CreditSpent3) as TotalCreditSpent,CreditLimit,DefaulterFlag \\\n",
        "          from CustomerData join CreditCardData \\\n",
        "          on CustomerData.SSN = CreditCardData.SSN\")\n",
        "joinedDf.show()"
      ],
      "metadata": {
        "colab": {
          "base_uri": "https://localhost:8080/"
        },
        "id": "MVzfeoIjGisn",
        "outputId": "f2b2927f-df74-4abd-b8b8-24ecb8306c54"
      },
      "execution_count": 10,
      "outputs": [
        {
          "output_type": "stream",
          "name": "stdout",
          "text": [
            "+------------+-------+----------------+-----------+-------------+\n",
            "|CustomerName|    SSN|TotalCreditSpent|CreditLimit|DefaulterFlag|\n",
            "+------------+-------+----------------+-----------+-------------+\n",
            "|         Bob|SSN0001|             950|       3000|            N|\n",
            "|        Jack|SSN0002|            1550|       2500|            N|\n",
            "|       Krish|SSN0003|             750|       1500|            N|\n",
            "|       Jacob|SSN0004|             750|       1500|            N|\n",
            "|       Ethen|SSN0005|            1980|       5500|            Y|\n",
            "|     William|SSN0006|             950|       1000|            N|\n",
            "|       Jayde|SSN0007|            1080|       1000|            N|\n",
            "|       Ethan|SSN0008|             850|       4500|            Y|\n",
            "|      Jayden|SSN0009|            1040|       2000|            N|\n",
            "|      Anthon|SSN0010|            1954|        500|            Y|\n",
            "|      Daniel|SSN0011|             924|        500|            N|\n",
            "|       Janes|SSN0012|            1824|       3500|            N|\n",
            "|        John|SSN0013|             924|       3000|            N|\n",
            "|        Jose|SSN0014|            1824|       4500|            N|\n",
            "|        Knox|SSN0015|            1830|       3500|            N|\n",
            "|        Enzo|SSN0016|            1864|       4500|            N|\n",
            "|      Karter|SSN0017|            1924|       3000|            N|\n",
            "|      Brooks|SSN0018|            1824|       3000|            N|\n",
            "|      Alfred|SSN0019|            1806|       4500|            N|\n",
            "|       Oscar|SSN0020|            1824|        500|            Y|\n",
            "+------------+-------+----------------+-----------+-------------+\n",
            "only showing top 20 rows\n",
            "\n"
          ]
        }
      ]
    },
    {
      "cell_type": "code",
      "source": [
        "from pyspark.sql.functions import when,col,lit\n",
        "joinedDf = joinedDf.withColumn(\"CreditWithinLimit\", when(col(\"CreditLimit\") > col(\"TotalCreditSpent\"),lit(\"Y\")) \\\n",
        ".otherwise(lit(\"N\")))\n",
        "joinedDf.show()"
      ],
      "metadata": {
        "colab": {
          "base_uri": "https://localhost:8080/"
        },
        "id": "hCLRGGj9JQQn",
        "outputId": "83b66580-7597-4a53-db72-79f328d715f3"
      },
      "execution_count": 26,
      "outputs": [
        {
          "output_type": "stream",
          "name": "stdout",
          "text": [
            "+------------+-------+----------------+-----------+-------------+-----------------+\n",
            "|CustomerName|    SSN|TotalCreditSpent|CreditLimit|DefaulterFlag|CreditWithinLimit|\n",
            "+------------+-------+----------------+-----------+-------------+-----------------+\n",
            "|         Bob|SSN0001|             950|       3000|            N|                Y|\n",
            "|        Jack|SSN0002|            1550|       2500|            N|                Y|\n",
            "|       Krish|SSN0003|             750|       1500|            N|                Y|\n",
            "|       Jacob|SSN0004|             750|       1500|            N|                Y|\n",
            "|       Ethen|SSN0005|            1980|       5500|            Y|                Y|\n",
            "|     William|SSN0006|             950|       1000|            N|                Y|\n",
            "|       Jayde|SSN0007|            1080|       1000|            N|                N|\n",
            "|       Ethan|SSN0008|             850|       4500|            Y|                Y|\n",
            "|      Jayden|SSN0009|            1040|       2000|            N|                Y|\n",
            "|      Anthon|SSN0010|            1954|        500|            Y|                N|\n",
            "|      Daniel|SSN0011|             924|        500|            N|                N|\n",
            "|       Janes|SSN0012|            1824|       3500|            N|                Y|\n",
            "|        John|SSN0013|             924|       3000|            N|                Y|\n",
            "|        Jose|SSN0014|            1824|       4500|            N|                Y|\n",
            "|        Knox|SSN0015|            1830|       3500|            N|                Y|\n",
            "|        Enzo|SSN0016|            1864|       4500|            N|                Y|\n",
            "|      Karter|SSN0017|            1924|       3000|            N|                Y|\n",
            "|      Brooks|SSN0018|            1824|       3000|            N|                Y|\n",
            "|      Alfred|SSN0019|            1806|       4500|            N|                Y|\n",
            "|       Oscar|SSN0020|            1824|        500|            Y|                N|\n",
            "+------------+-------+----------------+-----------+-------------+-----------------+\n",
            "only showing top 20 rows\n",
            "\n"
          ]
        }
      ]
    },
    {
      "cell_type": "code",
      "source": [
        "from pyspark.sql.functions import when,col,lit\n",
        "StatusDF = joinedDf.withColumn(\"Status\",when((col('DefaulterFlag') =='N') & (col('CreditWithinLimit') == 'Y'), lit(\"Approved\")) \\\n",
        "                   .otherwise(lit(\"Rejected\"))) \\\n",
        "                   .select(col(\"CustomerName\"),col(\"SSN\"),col(\"Status\"))\n",
        "StatusDF.show()\n",
        "#.select(col(\"CustomerName\"),col(\"SSN\"),col(\"Status\")) \\\n"
      ],
      "metadata": {
        "colab": {
          "base_uri": "https://localhost:8080/"
        },
        "id": "2uTjteWuN_TA",
        "outputId": "e755b940-2c5c-46f6-d252-720a69c35659"
      },
      "execution_count": 28,
      "outputs": [
        {
          "output_type": "stream",
          "name": "stdout",
          "text": [
            "+------------+-------+--------+\n",
            "|CustomerName|    SSN|  Status|\n",
            "+------------+-------+--------+\n",
            "|         Bob|SSN0001|Approved|\n",
            "|        Jack|SSN0002|Approved|\n",
            "|       Krish|SSN0003|Approved|\n",
            "|       Jacob|SSN0004|Approved|\n",
            "|       Ethen|SSN0005|Rejected|\n",
            "|     William|SSN0006|Approved|\n",
            "|       Jayde|SSN0007|Rejected|\n",
            "|       Ethan|SSN0008|Rejected|\n",
            "|      Jayden|SSN0009|Approved|\n",
            "|      Anthon|SSN0010|Rejected|\n",
            "|      Daniel|SSN0011|Rejected|\n",
            "|       Janes|SSN0012|Approved|\n",
            "|        John|SSN0013|Approved|\n",
            "|        Jose|SSN0014|Approved|\n",
            "|        Knox|SSN0015|Approved|\n",
            "|        Enzo|SSN0016|Approved|\n",
            "|      Karter|SSN0017|Approved|\n",
            "|      Brooks|SSN0018|Approved|\n",
            "|      Alfred|SSN0019|Approved|\n",
            "|       Oscar|SSN0020|Rejected|\n",
            "+------------+-------+--------+\n",
            "only showing top 20 rows\n",
            "\n"
          ]
        }
      ]
    },
    {
      "cell_type": "code",
      "source": [
        "StatusDF.write.csv(\"/content/CreditcardStatusReport.csv\",header=True)\n",
        "StatusDF.count()"
      ],
      "metadata": {
        "colab": {
          "base_uri": "https://localhost:8080/"
        },
        "id": "8hKUUCmmQ2xM",
        "outputId": "a54ecd55-02ed-4f02-be47-dcdacc7d8efa"
      },
      "execution_count": 30,
      "outputs": [
        {
          "output_type": "execute_result",
          "data": {
            "text/plain": [
              "100800"
            ]
          },
          "metadata": {},
          "execution_count": 30
        }
      ]
    },
    {
      "cell_type": "code",
      "source": [
        "spark.stop()"
      ],
      "metadata": {
        "id": "FaY3XSFZR2U3"
      },
      "execution_count": null,
      "outputs": []
    }
  ]
}