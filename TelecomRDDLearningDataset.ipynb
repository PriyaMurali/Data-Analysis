{
  "nbformat": 4,
  "nbformat_minor": 0,
  "metadata": {
    "colab": {
      "name": "TelecomRDDLearningDataset.ipynb",
      "provenance": [],
      "collapsed_sections": [],
      "authorship_tag": "ABX9TyPyaXEEEENIBdp5DsF0rmSl",
      "include_colab_link": true
    },
    "kernelspec": {
      "name": "python3",
      "display_name": "Python 3"
    },
    "language_info": {
      "name": "python"
    }
  },
  "cells": [
    {
      "cell_type": "markdown",
      "metadata": {
        "id": "view-in-github",
        "colab_type": "text"
      },
      "source": [
        "<a href=\"https://colab.research.google.com/github/PriyaMurali/Data-Analysis/blob/main/TelecomRDDLearningDataset.ipynb\" target=\"_parent\"><img src=\"https://colab.research.google.com/assets/colab-badge.svg\" alt=\"Open In Colab\"/></a>"
      ]
    },
    {
      "cell_type": "code",
      "execution_count": null,
      "metadata": {
        "colab": {
          "base_uri": "https://localhost:8080/"
        },
        "id": "9HbQvNDx09fc",
        "outputId": "b4b63f7c-c4c9-4eca-cfc6-accb95783e62"
      },
      "outputs": [
        {
          "output_type": "stream",
          "name": "stdout",
          "text": [
            "\r0% [Working]\r            \rGet:1 http://security.ubuntu.com/ubuntu bionic-security InRelease [88.7 kB]\n",
            "\r0% [Waiting for headers] [1 InRelease 14.2 kB/88.7 kB 16%] [Connected to cloud.\r                                                                               \rHit:2 http://archive.ubuntu.com/ubuntu bionic InRelease\n",
            "\r0% [Waiting for headers] [1 InRelease 80.8 kB/88.7 kB 91%] [Connected to cloud.\r                                                                               \rGet:3 http://archive.ubuntu.com/ubuntu bionic-updates InRelease [88.7 kB]\n",
            "\r                                                                               \rGet:4 https://cloud.r-project.org/bin/linux/ubuntu bionic-cran40/ InRelease [3,626 B]\n",
            "Get:5 http://archive.ubuntu.com/ubuntu bionic-backports InRelease [74.6 kB]\n",
            "Ign:6 https://developer.download.nvidia.com/compute/machine-learning/repos/ubuntu1804/x86_64  InRelease\n",
            "Get:7 https://developer.download.nvidia.com/compute/cuda/repos/ubuntu1804/x86_64  InRelease [1,581 B]\n",
            "Get:8 http://ppa.launchpad.net/c2d4u.team/c2d4u4.0+/ubuntu bionic InRelease [15.9 kB]\n",
            "Hit:9 https://developer.download.nvidia.com/compute/machine-learning/repos/ubuntu1804/x86_64  Release\n",
            "Hit:10 http://ppa.launchpad.net/cran/libgit2/ubuntu bionic InRelease\n",
            "Get:11 http://ppa.launchpad.net/deadsnakes/ppa/ubuntu bionic InRelease [15.9 kB]\n",
            "Get:12 https://cloud.r-project.org/bin/linux/ubuntu bionic-cran40/ Packages [90.7 kB]\n",
            "Get:13 http://ppa.launchpad.net/graphics-drivers/ppa/ubuntu bionic InRelease [21.3 kB]\n",
            "Get:14 http://security.ubuntu.com/ubuntu bionic-security/universe amd64 Packages [1,533 kB]\n",
            "Get:15 http://security.ubuntu.com/ubuntu bionic-security/main amd64 Packages [2,937 kB]\n",
            "Get:16 http://security.ubuntu.com/ubuntu bionic-security/restricted amd64 Packages [1,100 kB]\n",
            "Get:17 http://archive.ubuntu.com/ubuntu bionic-updates/universe amd64 Packages [2,310 kB]\n",
            "Get:18 http://archive.ubuntu.com/ubuntu bionic-updates/restricted amd64 Packages [1,141 kB]\n",
            "Get:19 http://archive.ubuntu.com/ubuntu bionic-updates/main amd64 Packages [3,369 kB]\n",
            "Get:20 https://developer.download.nvidia.com/compute/cuda/repos/ubuntu1804/x86_64  Packages [903 kB]\n",
            "Get:22 http://ppa.launchpad.net/c2d4u.team/c2d4u4.0+/ubuntu bionic/main Sources [2,095 kB]\n",
            "Get:23 http://ppa.launchpad.net/c2d4u.team/c2d4u4.0+/ubuntu bionic/main amd64 Packages [1,073 kB]\n",
            "Get:24 http://ppa.launchpad.net/deadsnakes/ppa/ubuntu bionic/main amd64 Packages [45.3 kB]\n",
            "Get:25 http://ppa.launchpad.net/graphics-drivers/ppa/ubuntu bionic/main amd64 Packages [47.7 kB]\n",
            "Fetched 17.0 MB in 5s (3,758 kB/s)\n",
            "Reading package lists... Done\n"
          ]
        }
      ],
      "source": [
        "from collections import Counter\n",
        "!wget -q https://dlcdn.apache.org/spark/spark-3.3.0/spark-3.3.0-bin-hadoop3.tgz\n",
        "!tar xf spark-3.3.0-bin-hadoop3.tgz\n",
        "!pip install -q findspark\n",
        "!apt-get update\n",
        "!apt-get install --fix-missing openjdk-8-jdk-headless -qq > /dev/null\n",
        "\n"
      ]
    },
    {
      "cell_type": "code",
      "source": [
        "import os\n",
        "os.environ[\"JAVA_HOME\"] = \"/usr/lib/jvm/java-8-openjdk-amd64\"\n",
        "os.environ[\"SPARK_HOME\"] = \"/content/spark-3.3.0-bin-hadoop3\"\n"
      ],
      "metadata": {
        "id": "IjW0vEds1XQU"
      },
      "execution_count": null,
      "outputs": []
    },
    {
      "cell_type": "code",
      "source": [
        "import findspark\n",
        "findspark.init()\n",
        "from pyspark.sql import SparkSession\n",
        "spark = SparkSession \\\n",
        "        .builder \\\n",
        "        .appName(\"PySparkETLTelecom\") \\\n",
        "        .getOrCreate()\n",
        "sc = spark.sparkContext"
      ],
      "metadata": {
        "id": "8ReRy8jA1G-h"
      },
      "execution_count": null,
      "outputs": []
    },
    {
      "cell_type": "code",
      "source": [
        "#Read,Save,Filter RDD\n",
        "valRDD = sc.textFile(\"/content/LexLearningTelecomData.csv\")\n",
        "RddExtract = valRDD.map(lambda var1: var1.split(\",\"))\n",
        "RddExtract.take(10)\n",
        "FilteredRDD = RddExtract.filter(lambda r: (r[3] == \"Y\") & (r[9] == \"Y\") )\n",
        "FilteredRDD.saveAsTextFile(\"/content/SeniorTelecomData.csv\")\n",
        "FilteredRDD\n"
      ],
      "metadata": {
        "id": "mBfd08UN1n4-"
      },
      "execution_count": null,
      "outputs": []
    },
    {
      "cell_type": "code",
      "source": [
        "#PariedRDD\n",
        "PairedData = FilteredRDD.map(lambda x: (x[4],x[7]))\n",
        "PairedData.take(10)\n"
      ],
      "metadata": {
        "colab": {
          "base_uri": "https://localhost:8080/"
        },
        "id": "tEGWAiTpCBQl",
        "outputId": "00aa69b6-92e4-4c4a-86c3-35075aae6dfc"
      },
      "execution_count": null,
      "outputs": [
        {
          "output_type": "execute_result",
          "data": {
            "text/plain": [
              "[('PrePaid', 'InActive'),\n",
              " ('PrePaid', 'Active'),\n",
              " ('PrePaid', 'Active'),\n",
              " ('PrePaid', 'Active'),\n",
              " ('PrePaid', 'Active'),\n",
              " ('PrePaid', 'Active'),\n",
              " ('PrePaid', 'Active'),\n",
              " ('PrePaid', 'Active'),\n",
              " ('PrePaid', 'Active'),\n",
              " ('PrePaid', 'Active')]"
            ]
          },
          "metadata": {},
          "execution_count": 60
        }
      ]
    },
    {
      "cell_type": "code",
      "source": [
        "rdd2=PairedData.countByValue()\n",
        "rdd2"
      ],
      "metadata": {
        "colab": {
          "base_uri": "https://localhost:8080/"
        },
        "id": "ZaDxgRH28vJC",
        "outputId": "e0dbb3d1-0516-4151-9494-809263a1eb7b"
      },
      "execution_count": null,
      "outputs": [
        {
          "output_type": "execute_result",
          "data": {
            "text/plain": [
              "defaultdict(int,\n",
              "            {('PostPaid', 'Active'): 28,\n",
              "             ('PostPaid', 'InActive'): 1,\n",
              "             ('PrePaid', 'Active'): 23,\n",
              "             ('PrePaid', 'InActive'): 2})"
            ]
          },
          "metadata": {},
          "execution_count": 52
        }
      ]
    },
    {
      "cell_type": "code",
      "source": [
        "#Read,Save,Filter RDD\n",
        "broadRDD = sc.textFile(\"/content/BroadCastData.csv\")\n",
        "bRd = broadRDD.map(lambda var1: var1.split(\",\"))\n",
        "bRd.take(10)\n"
      ],
      "metadata": {
        "colab": {
          "base_uri": "https://localhost:8080/"
        },
        "id": "bWABvBFzFTkP",
        "outputId": "3579c9a4-4ba4-4768-c7d0-28fae786b9aa"
      },
      "execution_count": null,
      "outputs": [
        {
          "output_type": "execute_result",
          "data": {
            "text/plain": [
              "[['982120000', 'United States'],\n",
              " ['982120001', 'Australia'],\n",
              " ['982120002', 'Germany'],\n",
              " ['982120003', 'France'],\n",
              " ['982120004', 'India'],\n",
              " ['982120005', 'Canada'],\n",
              " ['982120006', 'Germany'],\n",
              " ['982120007', 'France'],\n",
              " ['982120008', 'India'],\n",
              " ['982120009', 'Canada']]"
            ]
          },
          "metadata": {},
          "execution_count": 54
        }
      ]
    },
    {
      "cell_type": "code",
      "source": [
        "#Join teo RDD\n",
        "broadColumns = [\"Customerid\",\"Country\"]\n",
        "broadcastDF=spark.createDataFrame(bRd,broadColumns)\n",
        "TelecomColumns = [\"id\",\"Customerid\",\"Gender\",\"SeniorStatus\",\"SimType\",\"S1\",\"S2\",\"S3\",\"Age\",\"SS\"]\n",
        "telecommDF=spark.createDataFrame(RddExtract,TelecomColumns)\n",
        "joinedDF = telecommDF.join(broadcastDF,[\"Customerid\"],how='left')\n",
        "print(joinedDF.show())\n"
      ],
      "metadata": {
        "colab": {
          "base_uri": "https://localhost:8080/"
        },
        "id": "0ZteFZS0fTR1",
        "outputId": "35f36002-bf12-4580-da4d-094e45814308"
      },
      "execution_count": null,
      "outputs": [
        {
          "output_type": "stream",
          "name": "stdout",
          "text": [
            "+----------+---+------+------------+--------+------+------+--------+---+---+-------------+\n",
            "|Customerid| id|Gender|SeniorStatus| SimType|    S1|    S2|      S3|Age| SS|      Country|\n",
            "+----------+---+------+------------+--------+------+------+--------+---+---+-------------+\n",
            "| 982120011| 12|Female|           N|PostPaid|Active|Active|InActive| 20|  N|       France|\n",
            "| 982120016| 17|Female|           N|PostPaid|Active|Active|InActive| 15|  N|      Germany|\n",
            "| 982120010| 11|Female|           N| PrePaid|Active|Active|InActive| 15|  N|      Germany|\n",
            "| 982120017| 18|Female|           N|PostPaid|Active|Active|InActive| 15|  N|       France|\n",
            "| 982120009| 10|Female|           N| PrePaid|Active|Active|InActive| 15|  N|       Canada|\n",
            "| 982120008|  9|  Male|           Y| PrePaid|Active|Active|InActive| 15|  Y|        India|\n",
            "| 982120012| 13|Female|           N|PostPaid|Active|Active|InActive| 25|  Y|        India|\n",
            "| 982120003|  4|  Male|           Y| PrePaid|Active|Active|InActive| 25|  N|       France|\n",
            "| 982120002|  3|  Male|           N| PrePaid|Active|Active|InActive| 20|  Y|      Germany|\n",
            "| 982120007|  8|  Male|           N| PrePaid|Active|Active|InActive| 10|  N|       France|\n",
            "| 982120013| 14|Female|           N|PostPaid|Active|Active|InActive| 25|  N|       Canada|\n",
            "| 982120001|  2|  Male|           N|PostPaid|Active|Active|InActive| 25|  N|    Australia|\n",
            "| 982120006|  7|  Male|           N| PrePaid|Active|Active|InActive| 12|  N|      Germany|\n",
            "| 982120019| 20|Female|           N|PostPaid|Active|Active|InActive| 20|  N|       Canada|\n",
            "| 982120005|  6|  Male|           N| PrePaid|Active|Active|InActive| 15|  N|       Canada|\n",
            "| 982120000|  1|  Male|           N| PrePaid|Active|Active|InActive| 20|  N|United States|\n",
            "| 982120014| 15|Female|           Y|PostPaid|Active|Active|InActive| 25|  N|United States|\n",
            "| 982120004|  5|  Male|           N| PrePaid|Active|Active|InActive| 15|  N|        India|\n",
            "| 982120018| 19|Female|           N|PostPaid|Active|Active|InActive| 15|  N|        India|\n",
            "| 982120020| 21|Female|           N|PostPaid|Active|Active|InActive| 25|  N|      Germany|\n",
            "+----------+---+------+------------+--------+------+------+--------+---+---+-------------+\n",
            "only showing top 20 rows\n",
            "\n",
            "None\n"
          ]
        }
      ]
    },
    {
      "cell_type": "code",
      "source": [
        "joinedDF.write.csv(\"/content/SeniorTelecomData/TextFile.csv\",header=True)\n",
        "joinedDF"
      ],
      "metadata": {
        "colab": {
          "base_uri": "https://localhost:8080/"
        },
        "id": "y6UTltXuf3ai",
        "outputId": "601866b1-9f63-4f04-fba1-ca392e55b855"
      },
      "execution_count": 137,
      "outputs": [
        {
          "output_type": "execute_result",
          "data": {
            "text/plain": [
              "DataFrame[Customerid: string, id: string, Gender: string, SeniorStatus: string, SimType: string, S1: string, S2: string, S3: string, Age: string, SS: string, Country: string]"
            ]
          },
          "metadata": {},
          "execution_count": 137
        }
      ]
    }
  ]
}