{
  "nbformat": 4,
  "nbformat_minor": 0,
  "metadata": {
    "colab": {
      "name": "Pyspark.ipynb",
      "provenance": [],
      "collapsed_sections": [],
      "authorship_tag": "ABX9TyNMtBKz3YO8fqCRY8A5mkH3",
      "include_colab_link": true
    },
    "kernelspec": {
      "name": "python3",
      "display_name": "Python 3"
    },
    "language_info": {
      "name": "python"
    }
  },
  "cells": [
    {
      "cell_type": "markdown",
      "metadata": {
        "id": "view-in-github",
        "colab_type": "text"
      },
      "source": [
        "<a href=\"https://colab.research.google.com/github/PriyaMurali/Data-Analysis/blob/main/Pyspark.ipynb\" target=\"_parent\"><img src=\"https://colab.research.google.com/assets/colab-badge.svg\" alt=\"Open In Colab\"/></a>"
      ]
    },
    {
      "cell_type": "code",
      "execution_count": null,
      "metadata": {
        "id": "j9OpldWPvuha"
      },
      "outputs": [],
      "source": [
        "from collections import Counter"
      ]
    },
    {
      "cell_type": "code",
      "source": [
        "ls"
      ],
      "metadata": {
        "id": "uIZNUY3ySnKq"
      },
      "execution_count": null,
      "outputs": []
    },
    {
      "cell_type": "code",
      "source": [
        ""
      ],
      "metadata": {
        "id": "t27Lb_yVnjO3"
      },
      "execution_count": null,
      "outputs": []
    },
    {
      "cell_type": "code",
      "source": [
        "pwd"
      ],
      "metadata": {
        "id": "DnqCuErmSpP9"
      },
      "execution_count": null,
      "outputs": []
    },
    {
      "cell_type": "code",
      "source": [
        "!apt-get install  --fix-missing openjdk-8-jdk-headless -qq > /dev/null"
      ],
      "metadata": {
        "id": "6Jm2CHKqSb6O"
      },
      "execution_count": null,
      "outputs": []
    },
    {
      "cell_type": "code",
      "source": [
        "!apt-get install openjdk-8-jdk-headless -qq > /dev/null\n",
        "import os\n",
        "os.environ[\"JAVA_HOME\"] = \"/usr/lib/jvm/java-8-openjdk-amd64\"\n",
        "!update-alternatives --set java /usr/lib/jvm/java-8-openjdk-amd64/jre/bin/java\n",
        "!java -version"
      ],
      "metadata": {
        "id": "V6dLBxUKunb-"
      },
      "execution_count": null,
      "outputs": []
    },
    {
      "cell_type": "code",
      "source": [
        "!wget -q https://dlcdn.apache.org/spark/spark-3.3.0/spark-3.3.0-bin-hadoop3.tgz"
      ],
      "metadata": {
        "id": "JyNYsIqBUM4x"
      },
      "execution_count": null,
      "outputs": []
    },
    {
      "cell_type": "code",
      "source": [
        "!tar xf spark-3.3.0-bin-hadoop3.tgz\n",
        "!pip install -q findspark"
      ],
      "metadata": {
        "id": "7mPARQHJVehB"
      },
      "execution_count": null,
      "outputs": []
    },
    {
      "cell_type": "code",
      "source": [
        "import os\n",
        "os.environ[\"JAVA_HOME\"] = \"/usr/lib/jvm/java-8-openjdk-amd64\"\n",
        "os.environ[\"SPARK_HOME\"] = \"/content/spark-3.3.0-bin-hadoop3\""
      ],
      "metadata": {
        "id": "byJ6zHbGPtwq"
      },
      "execution_count": null,
      "outputs": []
    },
    {
      "cell_type": "code",
      "source": [
        "!ls"
      ],
      "metadata": {
        "id": "XLmeK795QTxf",
        "colab": {
          "base_uri": "https://localhost:8080/"
        },
        "outputId": "93ca4179-14cd-4689-dfd3-7a2bb8004e31"
      },
      "execution_count": null,
      "outputs": [
        {
          "output_type": "stream",
          "name": "stdout",
          "text": [
            "cars.csv  sample_data  spark-3.3.0-bin-hadoop3\tspark-3.3.0-bin-hadoop3.tgz\n"
          ]
        }
      ]
    },
    {
      "cell_type": "code",
      "source": [
        "os.environ[\"SPARK_HOME\"]"
      ],
      "metadata": {
        "id": "dmxkIidxTOrS",
        "colab": {
          "base_uri": "https://localhost:8080/",
          "height": 35
        },
        "outputId": "e793c854-bf34-46c7-d597-8cd97028f847"
      },
      "execution_count": null,
      "outputs": [
        {
          "output_type": "execute_result",
          "data": {
            "text/plain": [
              "'/content/spark-3.3.0-bin-hadoop3'"
            ],
            "application/vnd.google.colaboratory.intrinsic+json": {
              "type": "string"
            }
          },
          "metadata": {},
          "execution_count": 62
        }
      ]
    },
    {
      "cell_type": "code",
      "source": [
        "import findspark\n",
        "findspark.init()"
      ],
      "metadata": {
        "id": "Z9PgLKFAWBQ9"
      },
      "execution_count": null,
      "outputs": []
    },
    {
      "cell_type": "code",
      "source": [
        "from pyspark.sql import SparkSession\n",
        "spark = SparkSession.builder.master(\"local[*]\").getOrCreate()\n",
        "spark.conf.set(\"spark.sql.repl.eagerEval.enabled\", True)\n",
        "spark"
      ],
      "metadata": {
        "id": "J1xC5kFDWVBf",
        "colab": {
          "base_uri": "https://localhost:8080/",
          "height": 219
        },
        "outputId": "2c37def8-975d-4812-829b-4b06482f1c24"
      },
      "execution_count": null,
      "outputs": [
        {
          "output_type": "execute_result",
          "data": {
            "text/plain": [
              "<pyspark.sql.session.SparkSession at 0x7f51a8e31a50>"
            ],
            "text/html": [
              "\n",
              "            <div>\n",
              "                <p><b>SparkSession - in-memory</b></p>\n",
              "                \n",
              "        <div>\n",
              "            <p><b>SparkContext</b></p>\n",
              "\n",
              "            <p><a href=\"http://c53bd8f46cb2:4040\">Spark UI</a></p>\n",
              "\n",
              "            <dl>\n",
              "              <dt>Version</dt>\n",
              "                <dd><code>v3.3.0</code></dd>\n",
              "              <dt>Master</dt>\n",
              "                <dd><code>local[*]</code></dd>\n",
              "              <dt>AppName</dt>\n",
              "                <dd><code>pyspark-shell</code></dd>\n",
              "            </dl>\n",
              "        </div>\n",
              "        \n",
              "            </div>\n",
              "        "
            ]
          },
          "metadata": {},
          "execution_count": 64
        }
      ]
    },
    {
      "cell_type": "code",
      "source": [
        "!wget https://jacobceles.github.io/knowledge_repo/colab_and_pyspark/cars.csv"
      ],
      "metadata": {
        "id": "n5fWeo6EXUiq",
        "colab": {
          "base_uri": "https://localhost:8080/"
        },
        "outputId": "6790c309-bbba-43c5-fc56-c8b0c82ca256"
      },
      "execution_count": null,
      "outputs": [
        {
          "output_type": "stream",
          "name": "stdout",
          "text": [
            "--2022-08-08 15:19:30--  https://jacobceles.github.io/knowledge_repo/colab_and_pyspark/cars.csv\n",
            "Resolving jacobceles.github.io (jacobceles.github.io)... 185.199.110.153, 185.199.109.153, 185.199.111.153, ...\n",
            "Connecting to jacobceles.github.io (jacobceles.github.io)|185.199.110.153|:443... connected.\n",
            "HTTP request sent, awaiting response... 301 Moved Permanently\n",
            "Location: https://jacobcelestine.com/knowledge_repo/colab_and_pyspark/cars.csv [following]\n",
            "--2022-08-08 15:19:30--  https://jacobcelestine.com/knowledge_repo/colab_and_pyspark/cars.csv\n",
            "Resolving jacobcelestine.com (jacobcelestine.com)... 185.199.108.153, 185.199.109.153, 185.199.110.153, ...\n",
            "Connecting to jacobcelestine.com (jacobcelestine.com)|185.199.108.153|:443... connected.\n",
            "HTTP request sent, awaiting response... 200 OK\n",
            "Length: 22608 (22K) [text/csv]\n",
            "Saving to: ‘cars.csv.1’\n",
            "\n",
            "cars.csv.1          100%[===================>]  22.08K  --.-KB/s    in 0.001s  \n",
            "\n",
            "2022-08-08 15:19:30 (20.0 MB/s) - ‘cars.csv.1’ saved [22608/22608]\n",
            "\n"
          ]
        }
      ]
    },
    {
      "cell_type": "code",
      "source": [
        "!ls"
      ],
      "metadata": {
        "id": "7jg1wP2rYK88",
        "colab": {
          "base_uri": "https://localhost:8080/"
        },
        "outputId": "021cd727-76dc-4637-e4d7-7890f6139a37"
      },
      "execution_count": null,
      "outputs": [
        {
          "output_type": "stream",
          "name": "stdout",
          "text": [
            "cars.csv    sample_data\t\t     spark-3.3.0-bin-hadoop3.tgz\n",
            "cars.csv.1  spark-3.3.0-bin-hadoop3\n"
          ]
        }
      ]
    },
    {
      "cell_type": "code",
      "source": [
        "df = spark.read.csv('cars.csv',header=True,sep=';')\n",
        "df.show(5)"
      ],
      "metadata": {
        "id": "ngFGZImpYfVY",
        "colab": {
          "base_uri": "https://localhost:8080/"
        },
        "outputId": "81d0def6-536b-4e2a-dd32-8bf0f3477dfe"
      },
      "execution_count": null,
      "outputs": [
        {
          "output_type": "stream",
          "name": "stdout",
          "text": [
            "+--------------------+----+---------+------------+----------+------+------------+-----+------+\n",
            "|                 Car| MPG|Cylinders|Displacement|Horsepower|Weight|Acceleration|Model|Origin|\n",
            "+--------------------+----+---------+------------+----------+------+------------+-----+------+\n",
            "|Chevrolet Chevell...|18.0|        8|       307.0|     130.0| 3504.|        12.0|   70|    US|\n",
            "|   Buick Skylark 320|15.0|        8|       350.0|     165.0| 3693.|        11.5|   70|    US|\n",
            "|  Plymouth Satellite|18.0|        8|       318.0|     150.0| 3436.|        11.0|   70|    US|\n",
            "|       AMC Rebel SST|16.0|        8|       304.0|     150.0| 3433.|        12.0|   70|    US|\n",
            "|         Ford Torino|17.0|        8|       302.0|     140.0| 3449.|        10.5|   70|    US|\n",
            "+--------------------+----+---------+------------+----------+------+------------+-----+------+\n",
            "only showing top 5 rows\n",
            "\n"
          ]
        }
      ]
    },
    {
      "cell_type": "code",
      "source": [
        "#import pandas as pd\n",
        "#df=pd.read_csv('/content/cars.csv',header = 0,sep=';')"
      ],
      "metadata": {
        "id": "ue5Ochga6zEn"
      },
      "execution_count": null,
      "outputs": []
    },
    {
      "cell_type": "code",
      "source": [
        "#from pyspark import SparkContext\n",
        "#sc1 = SparkContext(master='local',appName='test1')"
      ],
      "metadata": {
        "id": "644vU1hr82N2"
      },
      "execution_count": null,
      "outputs": []
    },
    {
      "cell_type": "code",
      "source": [
        "df.columns"
      ],
      "metadata": {
        "id": "9CN5a2v9Yuek",
        "colab": {
          "base_uri": "https://localhost:8080/"
        },
        "outputId": "ebbfec72-7ed6-4903-a767-39d7fca9f6e3"
      },
      "execution_count": null,
      "outputs": [
        {
          "output_type": "execute_result",
          "data": {
            "text/plain": [
              "['Car',\n",
              " 'MPG',\n",
              " 'Cylinders',\n",
              " 'Displacement',\n",
              " 'Horsepower',\n",
              " 'Weight',\n",
              " 'Acceleration',\n",
              " 'Model',\n",
              " 'Origin']"
            ]
          },
          "metadata": {},
          "execution_count": 68
        }
      ]
    },
    {
      "cell_type": "code",
      "source": [
        "df.dtypes"
      ],
      "metadata": {
        "id": "mOtR2PeVZXJN",
        "colab": {
          "base_uri": "https://localhost:8080/"
        },
        "outputId": "dcf6d349-26e3-453b-9aa7-7b6a6b87908a"
      },
      "execution_count": null,
      "outputs": [
        {
          "output_type": "execute_result",
          "data": {
            "text/plain": [
              "[('Car', 'string'),\n",
              " ('MPG', 'string'),\n",
              " ('Cylinders', 'string'),\n",
              " ('Displacement', 'string'),\n",
              " ('Horsepower', 'string'),\n",
              " ('Weight', 'string'),\n",
              " ('Acceleration', 'string'),\n",
              " ('Model', 'string'),\n",
              " ('Origin', 'string')]"
            ]
          },
          "metadata": {},
          "execution_count": 69
        }
      ]
    },
    {
      "cell_type": "code",
      "source": [
        "df.printSchema()"
      ],
      "metadata": {
        "id": "GhIj8DirZYzO",
        "colab": {
          "base_uri": "https://localhost:8080/"
        },
        "outputId": "c7d0fe9b-ee3e-41c9-bd0a-e05ebb329ea8"
      },
      "execution_count": null,
      "outputs": [
        {
          "output_type": "stream",
          "name": "stdout",
          "text": [
            "root\n",
            " |-- Car: string (nullable = true)\n",
            " |-- MPG: string (nullable = true)\n",
            " |-- Cylinders: string (nullable = true)\n",
            " |-- Displacement: string (nullable = true)\n",
            " |-- Horsepower: string (nullable = true)\n",
            " |-- Weight: string (nullable = true)\n",
            " |-- Acceleration: string (nullable = true)\n",
            " |-- Model: string (nullable = true)\n",
            " |-- Origin: string (nullable = true)\n",
            "\n"
          ]
        }
      ]
    },
    {
      "cell_type": "code",
      "source": [
        "from pyspark.sql.types import *\n",
        "\n",
        "#change Datatype Explicitly\n",
        "labels = [\n",
        " ('Car', StructType()),\n",
        " ('MPG', 'Double'),\n",
        " ('Cylinders', 'Integer'),\n",
        " ('Displacement', 'Double'),\n",
        " ('Horsepower', 'Double'),\n",
        " ('Weight', 'Double'),\n",
        " ('Acceleration', 'Double'),\n",
        " ('Model', 'Integer'),\n",
        " ('Origin', 'string')]\n"
      ],
      "metadata": {
        "id": "lu8D97qHZbRv"
      },
      "execution_count": null,
      "outputs": []
    },
    {
      "cell_type": "markdown",
      "source": [
        ""
      ],
      "metadata": {
        "id": "lYiP6mpsf_q6"
      }
    },
    {
      "cell_type": "code",
      "source": [
        "from pyspark.sql.types import *\n",
        "labels = [\n",
        "     ('Car',StringType()),\n",
        "     ('MPG',DoubleType()),\n",
        "     ('Cylinders',IntegerType()),\n",
        "     ('Displacement',DoubleType()),\n",
        "     ('Horsepower',DoubleType()),\n",
        "     ('Weight',DoubleType()),\n",
        "     ('Acceleration',DoubleType()),\n",
        "     ('Model',IntegerType()),\n",
        "     ('Origin',StringType())\n",
        "]\n",
        "schema = StructType([StructField (x[0], x[1], True) for x in labels])\n",
        "schema"
      ],
      "metadata": {
        "id": "c_qqhYRkaXJ2",
        "colab": {
          "base_uri": "https://localhost:8080/"
        },
        "outputId": "e943935a-e7ba-43ef-d5c5-95d15c0466bd"
      },
      "execution_count": null,
      "outputs": [
        {
          "output_type": "execute_result",
          "data": {
            "text/plain": [
              "StructType([StructField('Car', StringType(), True), StructField('MPG', DoubleType(), True), StructField('Cylinders', IntegerType(), True), StructField('Displacement', DoubleType(), True), StructField('Horsepower', DoubleType(), True), StructField('Weight', DoubleType(), True), StructField('Acceleration', DoubleType(), True), StructField('Model', IntegerType(), True), StructField('Origin', StringType(), True)])"
            ]
          },
          "metadata": {},
          "execution_count": 73
        }
      ]
    },
    {
      "cell_type": "code",
      "source": [
        "print(df.Car)\n",
        "print(\"*\"*20)\n",
        "df.select(df.Car).show(truncate=False)"
      ],
      "metadata": {
        "id": "b1gghtjbiqgl",
        "colab": {
          "base_uri": "https://localhost:8080/"
        },
        "outputId": "c0ebde83-4c35-4917-8bba-1c2d91e5d4d0"
      },
      "execution_count": null,
      "outputs": [
        {
          "output_type": "stream",
          "name": "stdout",
          "text": [
            "Column<'Car'>\n",
            "********************\n",
            "+--------------------------------+\n",
            "|Car                             |\n",
            "+--------------------------------+\n",
            "|Chevrolet Chevelle Malibu       |\n",
            "|Buick Skylark 320               |\n",
            "|Plymouth Satellite              |\n",
            "|AMC Rebel SST                   |\n",
            "|Ford Torino                     |\n",
            "|Ford Galaxie 500                |\n",
            "|Chevrolet Impala                |\n",
            "|Plymouth Fury iii               |\n",
            "|Pontiac Catalina                |\n",
            "|AMC Ambassador DPL              |\n",
            "|Citroen DS-21 Pallas            |\n",
            "|Chevrolet Chevelle Concours (sw)|\n",
            "|Ford Torino (sw)                |\n",
            "|Plymouth Satellite (sw)         |\n",
            "|AMC Rebel SST (sw)              |\n",
            "|Dodge Challenger SE             |\n",
            "|Plymouth 'Cuda 340              |\n",
            "|Ford Mustang Boss 302           |\n",
            "|Chevrolet Monte Carlo           |\n",
            "|Buick Estate Wagon (sw)         |\n",
            "+--------------------------------+\n",
            "only showing top 20 rows\n",
            "\n"
          ]
        }
      ]
    },
    {
      "cell_type": "code",
      "source": [
        "from pyspark.sql.functions import col\n",
        "df.select(col('car')).show(truncate=False)"
      ],
      "metadata": {
        "id": "GAYvPTCEpint",
        "colab": {
          "base_uri": "https://localhost:8080/"
        },
        "outputId": "c4e47dd3-c7e5-479e-f6f2-c1a7c6c1fb79"
      },
      "execution_count": null,
      "outputs": [
        {
          "output_type": "stream",
          "name": "stdout",
          "text": [
            "+--------------------------------+\n",
            "|car                             |\n",
            "+--------------------------------+\n",
            "|Chevrolet Chevelle Malibu       |\n",
            "|Buick Skylark 320               |\n",
            "|Plymouth Satellite              |\n",
            "|AMC Rebel SST                   |\n",
            "|Ford Torino                     |\n",
            "|Ford Galaxie 500                |\n",
            "|Chevrolet Impala                |\n",
            "|Plymouth Fury iii               |\n",
            "|Pontiac Catalina                |\n",
            "|AMC Ambassador DPL              |\n",
            "|Citroen DS-21 Pallas            |\n",
            "|Chevrolet Chevelle Concours (sw)|\n",
            "|Ford Torino (sw)                |\n",
            "|Plymouth Satellite (sw)         |\n",
            "|AMC Rebel SST (sw)              |\n",
            "|Dodge Challenger SE             |\n",
            "|Plymouth 'Cuda 340              |\n",
            "|Ford Mustang Boss 302           |\n",
            "|Chevrolet Monte Carlo           |\n",
            "|Buick Estate Wagon (sw)         |\n",
            "+--------------------------------+\n",
            "only showing top 20 rows\n",
            "\n"
          ]
        }
      ]
    },
    {
      "cell_type": "code",
      "source": [
        "#Adding new column\n",
        "from pyspark.sql.functions import lit\n",
        "df = df.withColumn('first_column',lit(1))\n",
        "df.show(5,truncate=False)"
      ],
      "metadata": {
        "id": "qlf2x3TQpsld",
        "colab": {
          "base_uri": "https://localhost:8080/"
        },
        "outputId": "df85d251-eae8-4ad8-f0c2-ac83bc9ea6d3"
      },
      "execution_count": null,
      "outputs": [
        {
          "output_type": "stream",
          "name": "stdout",
          "text": [
            "+-------------------------+----+---------+------------+----------+------+------------+-----+------+------------+\n",
            "|Car                      |MPG |Cylinders|Displacement|Horsepower|Weight|Acceleration|Model|Origin|first_column|\n",
            "+-------------------------+----+---------+------------+----------+------+------------+-----+------+------------+\n",
            "|Chevrolet Chevelle Malibu|18.0|8        |307.0       |130.0     |3504. |12.0        |70   |US    |1           |\n",
            "|Buick Skylark 320        |15.0|8        |350.0       |165.0     |3693. |11.5        |70   |US    |1           |\n",
            "|Plymouth Satellite       |18.0|8        |318.0       |150.0     |3436. |11.0        |70   |US    |1           |\n",
            "|AMC Rebel SST            |16.0|8        |304.0       |150.0     |3433. |12.0        |70   |US    |1           |\n",
            "|Ford Torino              |17.0|8        |302.0       |140.0     |3449. |10.5        |70   |US    |1           |\n",
            "+-------------------------+----+---------+------------+----------+------+------------+-----+------+------------+\n",
            "only showing top 5 rows\n",
            "\n"
          ]
        }
      ]
    },
    {
      "cell_type": "code",
      "source": [
        "#GroupBY\n",
        "df.groupBy('Origin').count().show(5)"
      ],
      "metadata": {
        "id": "TuUstHlWp6rf",
        "colab": {
          "base_uri": "https://localhost:8080/"
        },
        "outputId": "d3d02120-4359-452d-985e-7a7c22a9622d"
      },
      "execution_count": null,
      "outputs": [
        {
          "output_type": "stream",
          "name": "stdout",
          "text": [
            "+------+-----+\n",
            "|Origin|count|\n",
            "+------+-----+\n",
            "|Europe|   73|\n",
            "|    US|  254|\n",
            "| Japan|   79|\n",
            "+------+-----+\n",
            "\n"
          ]
        }
      ]
    },
    {
      "cell_type": "code",
      "source": [
        "df.groupBy('Origin', 'Model').count().show(5)"
      ],
      "metadata": {
        "id": "S2NakJ1SyxBT",
        "colab": {
          "base_uri": "https://localhost:8080/"
        },
        "outputId": "88824bb9-1886-41e2-ec61-d9d790f06123"
      },
      "execution_count": null,
      "outputs": [
        {
          "output_type": "stream",
          "name": "stdout",
          "text": [
            "+------+-----+-----+\n",
            "|Origin|Model|count|\n",
            "+------+-----+-----+\n",
            "| Japan|   76|    4|\n",
            "|    US|   81|   13|\n",
            "|    US|   80|    7|\n",
            "|    US|   76|   22|\n",
            "| Japan|   70|    2|\n",
            "+------+-----+-----+\n",
            "only showing top 5 rows\n",
            "\n"
          ]
        }
      ]
    },
    {
      "cell_type": "code",
      "source": [
        "#Remove Column\n",
        "df = df.drop('first_column')\n",
        "df.show(5,truncate=False)"
      ],
      "metadata": {
        "id": "qrilvtdUy0Qp",
        "colab": {
          "base_uri": "https://localhost:8080/"
        },
        "outputId": "46af1b88-7eff-4222-f87b-62a4b8e5ea59"
      },
      "execution_count": null,
      "outputs": [
        {
          "output_type": "stream",
          "name": "stdout",
          "text": [
            "+-------------------------+----+---------+------------+----------+------+------------+-----+------+\n",
            "|Car                      |MPG |Cylinders|Displacement|Horsepower|Weight|Acceleration|Model|Origin|\n",
            "+-------------------------+----+---------+------------+----------+------+------------+-----+------+\n",
            "|Chevrolet Chevelle Malibu|18.0|8        |307.0       |130.0     |3504. |12.0        |70   |US    |\n",
            "|Buick Skylark 320        |15.0|8        |350.0       |165.0     |3693. |11.5        |70   |US    |\n",
            "|Plymouth Satellite       |18.0|8        |318.0       |150.0     |3436. |11.0        |70   |US    |\n",
            "|AMC Rebel SST            |16.0|8        |304.0       |150.0     |3433. |12.0        |70   |US    |\n",
            "|Ford Torino              |17.0|8        |302.0       |140.0     |3449. |10.5        |70   |US    |\n",
            "+-------------------------+----+---------+------------+----------+------+------------+-----+------+\n",
            "only showing top 5 rows\n",
            "\n"
          ]
        }
      ]
    },
    {
      "cell_type": "code",
      "source": [
        "# Filtering rows in PySpark based on Multiple conditions\n",
        "total_count = df.count()\n",
        "print(\"TOTAL RECORD COUNT: \" + str(total_count))\n",
        "europe_filtered_count = df.filter((col('Origin')=='Europe') &\n",
        "                                  (col('Cylinders')==4)).count() # Two conditions added here\n",
        "print(\"EUROPE FILTERED RECORD COUNT: \" + str(europe_filtered_count))\n",
        "df.filter(col('Origin')=='Europe').show(truncate=False)"
      ],
      "metadata": {
        "id": "KA_vT_5QzL_j",
        "colab": {
          "base_uri": "https://localhost:8080/"
        },
        "outputId": "61b4142c-d92a-43ba-ae75-67b920d0af5e"
      },
      "execution_count": null,
      "outputs": [
        {
          "output_type": "stream",
          "name": "stdout",
          "text": [
            "TOTAL RECORD COUNT: 406\n",
            "EUROPE FILTERED RECORD COUNT: 66\n",
            "+----------------------------+----+---------+------------+----------+------+------------+-----+------+\n",
            "|Car                         |MPG |Cylinders|Displacement|Horsepower|Weight|Acceleration|Model|Origin|\n",
            "+----------------------------+----+---------+------------+----------+------+------------+-----+------+\n",
            "|Citroen DS-21 Pallas        |0   |4        |133.0       |115.0     |3090. |17.5        |70   |Europe|\n",
            "|Volkswagen 1131 Deluxe Sedan|26.0|4        |97.00       |46.00     |1835. |20.5        |70   |Europe|\n",
            "|Peugeot 504                 |25.0|4        |110.0       |87.00     |2672. |17.5        |70   |Europe|\n",
            "|Audi 100 LS                 |24.0|4        |107.0       |90.00     |2430. |14.5        |70   |Europe|\n",
            "|Saab 99e                    |25.0|4        |104.0       |95.00     |2375. |17.5        |70   |Europe|\n",
            "|BMW 2002                    |26.0|4        |121.0       |113.0     |2234. |12.5        |70   |Europe|\n",
            "|Volkswagen Super Beetle 117 |0   |4        |97.00       |48.00     |1978. |20.0        |71   |Europe|\n",
            "|Opel 1900                   |28.0|4        |116.0       |90.00     |2123. |14.0        |71   |Europe|\n",
            "|Peugeot 304                 |30.0|4        |79.00       |70.00     |2074. |19.5        |71   |Europe|\n",
            "|Fiat 124B                   |30.0|4        |88.00       |76.00     |2065. |14.5        |71   |Europe|\n",
            "|Volkswagen Model 111        |27.0|4        |97.00       |60.00     |1834. |19.0        |71   |Europe|\n",
            "|Volkswagen Type 3           |23.0|4        |97.00       |54.00     |2254. |23.5        |72   |Europe|\n",
            "|Volvo 145e (sw)             |18.0|4        |121.0       |112.0     |2933. |14.5        |72   |Europe|\n",
            "|Volkswagen 411 (sw)         |22.0|4        |121.0       |76.00     |2511. |18.0        |72   |Europe|\n",
            "|Peugeot 504 (sw)            |21.0|4        |120.0       |87.00     |2979. |19.5        |72   |Europe|\n",
            "|Renault 12 (sw)             |26.0|4        |96.00       |69.00     |2189. |18.0        |72   |Europe|\n",
            "|Volkswagen Super Beetle     |26.0|4        |97.00       |46.00     |1950. |21.0        |73   |Europe|\n",
            "|Fiat 124 Sport Coupe        |26.0|4        |98.00       |90.00     |2265. |15.5        |73   |Europe|\n",
            "|Fiat 128                    |29.0|4        |68.00       |49.00     |1867. |19.5        |73   |Europe|\n",
            "|Opel Manta                  |24.0|4        |116.0       |75.00     |2158. |15.5        |73   |Europe|\n",
            "+----------------------------+----+---------+------------+----------+------+------------+-----+------+\n",
            "only showing top 20 rows\n",
            "\n"
          ]
        }
      ]
    },
    {
      "cell_type": "code",
      "source": [
        "#Distinct Rows\n",
        "df.select('Origin','model').distinct().show()"
      ],
      "metadata": {
        "id": "MbZhDBbvzbeK",
        "colab": {
          "base_uri": "https://localhost:8080/"
        },
        "outputId": "9b9259ff-1620-4212-e3af-5ee439f1f651"
      },
      "execution_count": null,
      "outputs": [
        {
          "output_type": "stream",
          "name": "stdout",
          "text": [
            "+------+-----+\n",
            "|Origin|model|\n",
            "+------+-----+\n",
            "| Japan|   76|\n",
            "|    US|   81|\n",
            "|    US|   80|\n",
            "|    US|   76|\n",
            "| Japan|   70|\n",
            "|    US|   78|\n",
            "|Europe|   76|\n",
            "|    US|   70|\n",
            "| Japan|   75|\n",
            "|Europe|   80|\n",
            "| Japan|   77|\n",
            "|Europe|   72|\n",
            "|    US|   75|\n",
            "|    US|   79|\n",
            "|    US|   82|\n",
            "|Europe|   75|\n",
            "| Japan|   78|\n",
            "|    US|   71|\n",
            "| Japan|   82|\n",
            "| Japan|   80|\n",
            "+------+-----+\n",
            "only showing top 20 rows\n",
            "\n"
          ]
        }
      ]
    },
    {
      "cell_type": "code",
      "source": [
        "#RDD\n",
        "\n",
        "cars = spark.sparkContext.textFile('cars.csv')\n",
        "print(cars.first())\n",
        "cars_header = cars.first()\n",
        "cars_rest = cars.filter(lambda line: line!=cars_header)\n",
        "print(cars_rest.first())"
      ],
      "metadata": {
        "id": "irWOvkki0530",
        "colab": {
          "base_uri": "https://localhost:8080/"
        },
        "outputId": "05b38add-a05d-4d32-ae46-567fd8007014"
      },
      "execution_count": null,
      "outputs": [
        {
          "output_type": "stream",
          "name": "stdout",
          "text": [
            "Car;MPG;Cylinders;Displacement;Horsepower;Weight;Acceleration;Model;Origin\n",
            "Chevrolet Chevelle Malibu;18.0;8;307.0;130.0;3504.;12.0;70;US\n"
          ]
        }
      ]
    },
    {
      "cell_type": "code",
      "source": [
        "#Cars in Europe and Japan\n",
        "(cars_rest.filter(lambda line: line.split(\";\")[8] in ['Europe','Japan']).\n",
        " map(lambda line: (line.split(\";\")[0],\n",
        "    line.split(\";\")[1],\n",
        "    line.split(\";\")[2],\n",
        "    line.split(\";\")[5],\n",
        "    line.split(\";\")[8])).collect())"
      ],
      "metadata": {
        "id": "gStaad0f1B-A",
        "colab": {
          "base_uri": "https://localhost:8080/"
        },
        "outputId": "e11ca587-2288-429e-8f4e-ca5e1f0a3068"
      },
      "execution_count": null,
      "outputs": [
        {
          "output_type": "execute_result",
          "data": {
            "text/plain": [
              "[('Citroen DS-21 Pallas', '0', '4', '3090.', 'Europe'),\n",
              " ('Toyota Corolla Mark ii', '24.0', '4', '2372.', 'Japan'),\n",
              " ('Datsun PL510', '27.0', '4', '2130.', 'Japan'),\n",
              " ('Volkswagen 1131 Deluxe Sedan', '26.0', '4', '1835.', 'Europe'),\n",
              " ('Peugeot 504', '25.0', '4', '2672.', 'Europe'),\n",
              " ('Audi 100 LS', '24.0', '4', '2430.', 'Europe'),\n",
              " ('Saab 99e', '25.0', '4', '2375.', 'Europe'),\n",
              " ('BMW 2002', '26.0', '4', '2234.', 'Europe'),\n",
              " ('Datsun PL510', '27.0', '4', '2130.', 'Japan'),\n",
              " ('Toyota Corolla', '25.0', '4', '2228.', 'Japan'),\n",
              " ('Volkswagen Super Beetle 117', '0', '4', '1978.', 'Europe'),\n",
              " ('Opel 1900', '28.0', '4', '2123.', 'Europe'),\n",
              " ('Peugeot 304', '30.0', '4', '2074.', 'Europe'),\n",
              " ('Fiat 124B', '30.0', '4', '2065.', 'Europe'),\n",
              " ('Toyota Corolla 1200', '31.0', '4', '1773.', 'Japan'),\n",
              " ('Datsun 1200', '35.0', '4', '1613.', 'Japan'),\n",
              " ('Volkswagen Model 111', '27.0', '4', '1834.', 'Europe'),\n",
              " ('Toyota Corolla Hardtop', '24.0', '4', '2278.', 'Japan'),\n",
              " ('Volkswagen Type 3', '23.0', '4', '2254.', 'Europe'),\n",
              " ('Mazda RX2 Coupe', '19.0', '3', '2330.', 'Japan'),\n",
              " ('Volvo 145e (sw)', '18.0', '4', '2933.', 'Europe'),\n",
              " ('Volkswagen 411 (sw)', '22.0', '4', '2511.', 'Europe'),\n",
              " ('Peugeot 504 (sw)', '21.0', '4', '2979.', 'Europe'),\n",
              " ('Renault 12 (sw)', '26.0', '4', '2189.', 'Europe'),\n",
              " ('Datsun 510 (sw)', '28.0', '4', '2288.', 'Japan'),\n",
              " ('Toyota Corolla Mark II (sw)', '23.0', '4', '2506.', 'Japan'),\n",
              " ('Toyota Corolla 1600 (sw)', '27.0', '4', '2100.', 'Japan'),\n",
              " ('Volkswagen Super Beetle', '26.0', '4', '1950.', 'Europe'),\n",
              " ('Toyota Camry', '20.0', '4', '2279.', 'Japan'),\n",
              " ('Datsun 610', '22.0', '4', '2379.', 'Japan'),\n",
              " ('Mazda RX3', '18.0', '3', '2124.', 'Japan'),\n",
              " ('Fiat 124 Sport Coupe', '26.0', '4', '2265.', 'Europe'),\n",
              " ('Fiat 128', '29.0', '4', '1867.', 'Europe'),\n",
              " ('Opel Manta', '24.0', '4', '2158.', 'Europe'),\n",
              " ('Audi 100LS', '20.0', '4', '2582.', 'Europe'),\n",
              " ('Volvo 144ea', '19.0', '4', '2868.', 'Europe'),\n",
              " ('Saab 99le', '24.0', '4', '2660.', 'Europe'),\n",
              " ('Toyota Mark II', '20.0', '6', '2807.', 'Japan'),\n",
              " ('Datsun B210', '31.0', '4', '1950.', 'Japan'),\n",
              " ('Toyota Corolla 1200', '32.0', '4', '1836.', 'Japan'),\n",
              " ('Audi Fox', '29.0', '4', '2219.', 'Europe'),\n",
              " ('Volkswagen Dasher', '26.0', '4', '1963.', 'Europe'),\n",
              " ('Opel Manta', '26.0', '4', '2300.', 'Europe'),\n",
              " ('Toyota Corolla', '31.0', '4', '1649.', 'Japan'),\n",
              " ('Datsun 710', '32.0', '4', '2003.', 'Japan'),\n",
              " ('Fiat 128', '24.0', '4', '2108.', 'Europe'),\n",
              " ('Fiat 124 TC', '26.0', '4', '2246.', 'Europe'),\n",
              " ('Honda Civic', '24.0', '4', '2489.', 'Japan'),\n",
              " ('Subaru', '26.0', '4', '2391.', 'Japan'),\n",
              " ('Fiat x1.9', '31.0', '4', '2000.', 'Europe'),\n",
              " ('Toyota Corolla', '29.0', '4', '2171.', 'Japan'),\n",
              " ('Toyota Corolla', '24.0', '4', '2702.', 'Japan'),\n",
              " ('Volkswagen Dasher', '25.0', '4', '2223.', 'Europe'),\n",
              " ('Datsun 710', '24.0', '4', '2545.', 'Japan'),\n",
              " ('Volkswagen Rabbit', '29.0', '4', '1937.', 'Europe'),\n",
              " ('Audi 100LS', '23.0', '4', '2694.', 'Europe'),\n",
              " ('Peugeot 504', '23.0', '4', '2957.', 'Europe'),\n",
              " ('Volvo 244DL', '22.0', '4', '2945.', 'Europe'),\n",
              " ('Saab 99LE', '25.0', '4', '2671.', 'Europe'),\n",
              " ('Honda Civic CVCC', '33.0', '4', '1795.', 'Japan'),\n",
              " ('Fiat 131', '28.0', '4', '2464.', 'Europe'),\n",
              " ('Opel 1900', '25.0', '4', '2220.', 'Europe'),\n",
              " ('Renault 12tl', '27.0', '4', '2202.', 'Europe'),\n",
              " ('Volkswagen Rabbit', '29.0', '4', '1937.', 'Europe'),\n",
              " ('Honda Civic', '33.0', '4', '1795.', 'Japan'),\n",
              " ('Volkswagen Rabbit', '29.5', '4', '1825.', 'Europe'),\n",
              " ('Datsun B-210', '32.0', '4', '1990.', 'Japan'),\n",
              " ('Toyota Corolla', '28.0', '4', '2155.', 'Japan'),\n",
              " ('Volvo 245', '20.0', '4', '3150.', 'Europe'),\n",
              " ('Peugeot 504', '19.0', '4', '3270.', 'Europe'),\n",
              " ('Toyota Mark II', '19.0', '6', '2930.', 'Japan'),\n",
              " ('Mercedes-Benz 280s', '16.5', '6', '3820.', 'Europe'),\n",
              " ('Honda Accord CVCC', '31.5', '4', '2045.', 'Japan'),\n",
              " ('Renault 5 GTL', '36.0', '4', '1825.', 'Europe'),\n",
              " ('Datsun F-10 Hatchback', '33.5', '4', '1945.', 'Japan'),\n",
              " ('Volkswagen Rabbit Custom', '29.0', '4', '1940.', 'Europe'),\n",
              " ('Toyota Corolla Liftback', '26.0', '4', '2265.', 'Japan'),\n",
              " ('Subaru DL', '30.0', '4', '1985.', 'Japan'),\n",
              " ('Volkswagen Dasher', '30.5', '4', '2190.', 'Europe'),\n",
              " ('Datsun 810', '22.0', '6', '2815.', 'Japan'),\n",
              " ('BMW 320i', '21.5', '4', '2600.', 'Europe'),\n",
              " ('Mazda RX-4', '21.5', '3', '2720.', 'Japan'),\n",
              " ('Volkswagen Rabbit Custom Diesel', '43.1', '4', '1985.', 'Europe'),\n",
              " ('Mazda GLC Deluxe', '32.8', '4', '1985.', 'Japan'),\n",
              " ('Datsun B210 GX', '39.4', '4', '2070.', 'Japan'),\n",
              " ('Honda Civic CVCC', '36.1', '4', '1800.', 'Japan'),\n",
              " ('Toyota Corolla', '27.5', '4', '2560.', 'Japan'),\n",
              " ('Datsun 510', '27.2', '4', '2300.', 'Japan'),\n",
              " ('Toyota Celica GT Liftback', '21.1', '4', '2515.', 'Japan'),\n",
              " ('Datsun 200-SX', '23.9', '4', '2405.', 'Japan'),\n",
              " ('Audi 5000', '20.3', '5', '2830.', 'Europe'),\n",
              " ('Volvo 264gl', '17.0', '6', '3140.', 'Europe'),\n",
              " ('Saab 99gle', '21.6', '4', '2795.', 'Europe'),\n",
              " ('Peugeot 604sl', '16.2', '6', '3410.', 'Europe'),\n",
              " ('Volkswagen Scirocco', '31.5', '4', '1990.', 'Europe'),\n",
              " ('Honda Accord LX', '29.5', '4', '2135.', 'Japan'),\n",
              " ('Volkswagen Rabbit Custom', '31.9', '4', '1925.', 'Europe'),\n",
              " ('Mazda GLC Deluxe', '34.1', '4', '1975.', 'Japan'),\n",
              " ('Mercedes Benz 300d', '25.4', '5', '3530.', 'Europe'),\n",
              " ('Peugeot 504', '27.2', '4', '3190.', 'Europe'),\n",
              " ('Datsun 210', '31.8', '4', '2020.', 'Japan'),\n",
              " ('Fiat Strada Custom', '37.3', '4', '2130.', 'Europe'),\n",
              " ('Volkswagen Rabbit', '41.5', '4', '2144.', 'Europe'),\n",
              " ('Toyota Corolla Tercel', '38.1', '4', '1968.', 'Japan'),\n",
              " ('Datsun 310', '37.2', '4', '2019.', 'Japan'),\n",
              " ('Audi 4000', '34.3', '4', '2188.', 'Europe'),\n",
              " ('Toyota Corolla Liftback', '29.8', '4', '2711.', 'Japan'),\n",
              " ('Mazda 626', '31.3', '4', '2542.', 'Japan'),\n",
              " ('Datsun 510 Hatchback', '37.0', '4', '2434.', 'Japan'),\n",
              " ('Toyota Corolla', '32.2', '4', '2265.', 'Japan'),\n",
              " ('Mazda GLC', '46.6', '4', '2110.', 'Japan'),\n",
              " ('Datsun 210', '40.8', '4', '2110.', 'Japan'),\n",
              " ('Volkswagen Rabbit C (Diesel)', '44.3', '4', '2085.', 'Europe'),\n",
              " ('Volkswagen Dasher (diesel)', '43.4', '4', '2335.', 'Europe'),\n",
              " ('Audi 5000s (diesel)', '36.4', '5', '2950.', 'Europe'),\n",
              " ('Mercedes-Benz 240d', '30.0', '4', '3250.', 'Europe'),\n",
              " ('Honda Civic 1500 gl', '44.6', '4', '1850.', 'Japan'),\n",
              " ('Renault Lecar Deluxe', '40.9', '4', '1835.', 'Europe'),\n",
              " ('Subaru DL', '33.8', '4', '2145.', 'Japan'),\n",
              " ('Volkswagen Rabbit', '29.8', '4', '1845.', 'Europe'),\n",
              " ('Datsun 280-ZX', '32.7', '6', '2910.', 'Japan'),\n",
              " ('Mazda RX-7 GS', '23.7', '3', '2420.', 'Japan'),\n",
              " ('Triumph TR7 Coupe', '35.0', '4', '2500.', 'Europe'),\n",
              " ('Honda Accord', '32.4', '4', '2290.', 'Japan'),\n",
              " ('Toyota Starlet', '39.1', '4', '1755.', 'Japan'),\n",
              " ('Honda Civic 1300', '35.1', '4', '1760.', 'Japan'),\n",
              " ('Subaru', '32.3', '4', '2065.', 'Japan'),\n",
              " ('Datsun 210 MPG', '37.0', '4', '1975.', 'Japan'),\n",
              " ('Toyota Tercel', '37.7', '4', '2050.', 'Japan'),\n",
              " ('Mazda GLC 4', '34.1', '4', '1985.', 'Japan'),\n",
              " ('Volkswagen Jetta', '33.0', '4', '2190.', 'Europe'),\n",
              " ('Renault 18i', '34.5', '4', '2320.', 'Europe'),\n",
              " ('Honda Prelude', '33.7', '4', '2210.', 'Japan'),\n",
              " ('Toyota Corolla', '32.4', '4', '2350.', 'Japan'),\n",
              " ('Datsun 200SX', '32.9', '4', '2615.', 'Japan'),\n",
              " ('Mazda 626', '31.6', '4', '2635.', 'Japan'),\n",
              " ('Peugeot 505s Turbo Diesel', '28.1', '4', '3230.', 'Europe'),\n",
              " ('Saab 900s', '0', '4', '2800.', 'Europe'),\n",
              " ('Volvo Diesel', '30.7', '6', '3160.', 'Europe'),\n",
              " ('Toyota Cressida', '25.4', '6', '2900.', 'Japan'),\n",
              " ('Datsun 810 Maxima', '24.2', '6', '2930.', 'Japan'),\n",
              " ('Volkswagen Rabbit l', '36.0', '4', '1980.', 'Europe'),\n",
              " ('Mazda GLC Custom l', '37.0', '4', '2025.', 'Japan'),\n",
              " ('Mazda GLC Custom', '31.0', '4', '1970.', 'Japan'),\n",
              " ('Nissan Stanza XE', '36.0', '4', '2160.', 'Japan'),\n",
              " ('Honda Accord', '36.0', '4', '2205.', 'Japan'),\n",
              " ('Toyota Corolla', '34.0', '4', '2245', 'Japan'),\n",
              " ('Honda Civic', '38.0', '4', '1965.', 'Japan'),\n",
              " ('Honda Civic (auto)', '32.0', '4', '1965.', 'Japan'),\n",
              " ('Datsun 310 GX', '38.0', '4', '1995.', 'Japan'),\n",
              " ('Toyota Celica GT', '32.0', '4', '2665.', 'Japan'),\n",
              " ('Volkswagen Pickup', '44.0', '4', '2130.', 'Europe')]"
            ]
          },
          "metadata": {},
          "execution_count": 83
        }
      ]
    },
    {
      "cell_type": "code",
      "source": [
        "from pyspark.sql.types import StructType\n",
        "sc = spark.sparkContext\n",
        "#Create empty df\n",
        "schema = StructType([StructField(\"name\", StringType(), True)])\n",
        "empty = spark.createDataFrame(sc.emptyRDD(), schema)\n",
        "empty.show()"
      ],
      "metadata": {
        "id": "s4qVkFV31LEt",
        "colab": {
          "base_uri": "https://localhost:8080/"
        },
        "outputId": "c6e334be-ed3f-4a60-9eb3-707f2aed9944"
      },
      "execution_count": null,
      "outputs": [
        {
          "output_type": "stream",
          "name": "stdout",
          "text": [
            "+----+\n",
            "|name|\n",
            "+----+\n",
            "+----+\n",
            "\n"
          ]
        }
      ]
    },
    {
      "cell_type": "code",
      "source": [
        "#Spark SQL\n",
        "# Load data\n",
        "#df = spark.read.csv('cars.csv', header=True, sep=\";\") * Data Already loaded\n",
        "# Register Temporary Table\n",
        "df.createOrReplaceTempView(\"temp\")\n",
        "# Select all data from temp table\n",
        "spark.sql(\"select * from temp limit 5\").show()\n",
        "# Select count of data in table\n",
        "spark.sql(\"select count(*) as total_count from temp\").show()"
      ],
      "metadata": {
        "id": "U2ff8QpI147d",
        "colab": {
          "base_uri": "https://localhost:8080/"
        },
        "outputId": "6ac2fbb6-8663-4247-b468-13a473383107"
      },
      "execution_count": null,
      "outputs": [
        {
          "output_type": "stream",
          "name": "stdout",
          "text": [
            "+--------------------+----+---------+------------+----------+------+------------+-----+------+\n",
            "|                 Car| MPG|Cylinders|Displacement|Horsepower|Weight|Acceleration|Model|Origin|\n",
            "+--------------------+----+---------+------------+----------+------+------------+-----+------+\n",
            "|Chevrolet Chevell...|18.0|        8|       307.0|     130.0| 3504.|        12.0|   70|    US|\n",
            "|   Buick Skylark 320|15.0|        8|       350.0|     165.0| 3693.|        11.5|   70|    US|\n",
            "|  Plymouth Satellite|18.0|        8|       318.0|     150.0| 3436.|        11.0|   70|    US|\n",
            "|       AMC Rebel SST|16.0|        8|       304.0|     150.0| 3433.|        12.0|   70|    US|\n",
            "|         Ford Torino|17.0|        8|       302.0|     140.0| 3449.|        10.5|   70|    US|\n",
            "+--------------------+----+---------+------------+----------+------+------------+-----+------+\n",
            "\n",
            "+-----------+\n",
            "|total_count|\n",
            "+-----------+\n",
            "|        406|\n",
            "+-----------+\n",
            "\n"
          ]
        }
      ]
    },
    {
      "cell_type": "code",
      "source": [
        "sc = spark.sparkContext "
      ],
      "metadata": {
        "id": "PpmvRmITFFXc"
      },
      "execution_count": null,
      "outputs": []
    },
    {
      "cell_type": "code",
      "source": [
        "#Save File\n",
        "iris1 = sc.textFile(\"/content/cars.csv\")\n",
        "iris1.saveAsTextFile(\"./output/test1.csv\")\n"
      ],
      "metadata": {
        "id": "smPct0W8DvDS"
      },
      "execution_count": null,
      "outputs": []
    },
    {
      "cell_type": "code",
      "source": [
        "rdd1 = sc.parallelize([\n",
        "\t('Sepal.Length', [5.1,4.9,4.7,4.6]),\n",
        "\t('Sepal.Width', [3.5,3.0,3.2,3.1]),\n",
        "\t('Species', ['setosa','setosa','setosa','setosa']) \n",
        "])\n",
        "print(rdd1)\n",
        "print(rdd1.collect())\n"
      ],
      "metadata": {
        "colab": {
          "base_uri": "https://localhost:8080/"
        },
        "id": "mhNQlUtRD9Vc",
        "outputId": "a39df70a-b6f5-4352-a1b8-fd51b29afd56"
      },
      "execution_count": null,
      "outputs": [
        {
          "output_type": "stream",
          "name": "stdout",
          "text": [
            "ParallelCollectionRDD[93] at readRDDFromFile at PythonRDD.scala:274\n",
            "[('Sepal.Length', [5.1, 4.9, 4.7, 4.6]), ('Sepal.Width', [3.5, 3.0, 3.2, 3.1]), ('Species', ['setosa', 'setosa', 'setosa', 'setosa'])]\n"
          ]
        }
      ]
    },
    {
      "cell_type": "code",
      "source": [
        "dict1 = rdd1.collectAsMap()\n",
        "print(\"dict1:\",dict1)\n",
        "print('Sepal.Length:',dict1['Sepal.Length'])\n",
        "print('Sepal.Width:',dict1['Sepal.Width'])\n",
        "print('Species:',dict1['Species'])\n"
      ],
      "metadata": {
        "colab": {
          "base_uri": "https://localhost:8080/"
        },
        "id": "6P6oD_jvFTNn",
        "outputId": "427073d4-d5ad-4ad5-de3c-07c2504e1db4"
      },
      "execution_count": null,
      "outputs": [
        {
          "output_type": "stream",
          "name": "stdout",
          "text": [
            "dict1: {'Sepal.Length': [5.1, 4.9, 4.7, 4.6], 'Sepal.Width': [3.5, 3.0, 3.2, 3.1], 'Species': ['setosa', 'setosa', 'setosa', 'setosa']}\n",
            "Sepal.Length: [5.1, 4.9, 4.7, 4.6]\n",
            "Sepal.Width: [3.5, 3.0, 3.2, 3.1]\n",
            "Species: ['setosa', 'setosa', 'setosa', 'setosa']\n"
          ]
        }
      ]
    },
    {
      "cell_type": "code",
      "source": [
        "iris1 = sc.textFile(\"/content/cars.csv\")\n",
        "iris1_split = iris1.map(lambda var1: var1.split(\",\"))\n",
        "print(iris1_split.take(10))\n"
      ],
      "metadata": {
        "colab": {
          "base_uri": "https://localhost:8080/"
        },
        "id": "bh4mUudUHlJp",
        "outputId": "a2ce0abf-5837-40e6-9159-09c6ea1d6ae4"
      },
      "execution_count": null,
      "outputs": [
        {
          "output_type": "stream",
          "name": "stdout",
          "text": [
            "[['Car;MPG;Cylinders;Displacement;Horsepower;Weight;Acceleration;Model;Origin'], ['Chevrolet Chevelle Malibu;18.0;8;307.0;130.0;3504.;12.0;70;US'], ['Buick Skylark 320;15.0;8;350.0;165.0;3693.;11.5;70;US'], ['Plymouth Satellite;18.0;8;318.0;150.0;3436.;11.0;70;US'], ['AMC Rebel SST;16.0;8;304.0;150.0;3433.;12.0;70;US'], ['Ford Torino;17.0;8;302.0;140.0;3449.;10.5;70;US'], ['Ford Galaxie 500;15.0;8;429.0;198.0;4341.;10.0;70;US'], ['Chevrolet Impala;14.0;8;454.0;220.0;4354.;9.0;70;US'], ['Plymouth Fury iii;14.0;8;440.0;215.0;4312.;8.5;70;US'], ['Pontiac Catalina;14.0;8;455.0;225.0;4425.;10.0;70;US']]\n"
          ]
        }
      ]
    },
    {
      "cell_type": "code",
      "source": [
        "print(iris1_split.map(lambda col:col[0]).take(10))\n"
      ],
      "metadata": {
        "colab": {
          "base_uri": "https://localhost:8080/"
        },
        "id": "h4gVNbX8Jejx",
        "outputId": "4472edee-d7fb-424b-d8d4-4ac6920b55dc"
      },
      "execution_count": null,
      "outputs": [
        {
          "output_type": "stream",
          "name": "stdout",
          "text": [
            "['Car;MPG;Cylinders;Displacement;Horsepower;Weight;Acceleration;Model;Origin', 'Chevrolet Chevelle Malibu;18.0;8;307.0;130.0;3504.;12.0;70;US', 'Buick Skylark 320;15.0;8;350.0;165.0;3693.;11.5;70;US', 'Plymouth Satellite;18.0;8;318.0;150.0;3436.;11.0;70;US', 'AMC Rebel SST;16.0;8;304.0;150.0;3433.;12.0;70;US', 'Ford Torino;17.0;8;302.0;140.0;3449.;10.5;70;US', 'Ford Galaxie 500;15.0;8;429.0;198.0;4341.;10.0;70;US', 'Chevrolet Impala;14.0;8;454.0;220.0;4354.;9.0;70;US', 'Plymouth Fury iii;14.0;8;440.0;215.0;4312.;8.5;70;US', 'Pontiac Catalina;14.0;8;455.0;225.0;4425.;10.0;70;US']\n"
          ]
        }
      ]
    },
    {
      "cell_type": "code",
      "source": [
        "lst1 = rdd1.map(lambda lst: (lst[0], lst[1]))\n",
        "print(lst1.collect())\n",
        "lst1.sortByKey(ascending=True,keyfunc=lambda k: k).take(10)"
      ],
      "metadata": {
        "colab": {
          "base_uri": "https://localhost:8080/"
        },
        "id": "yrJw9fDNJfBI",
        "outputId": "adeae637-a7ab-47c6-c00e-c74229f94b4b"
      },
      "execution_count": null,
      "outputs": [
        {
          "output_type": "stream",
          "name": "stdout",
          "text": [
            "[('Sepal.Length', [5.1, 4.9, 4.7, 4.6]), ('Sepal.Width', [3.5, 3.0, 3.2, 3.1]), ('Species', ['setosa', 'setosa', 'setosa', 'setosa'])]\n"
          ]
        },
        {
          "output_type": "execute_result",
          "data": {
            "text/plain": [
              "[('Sepal.Length', [5.1, 4.9, 4.7, 4.6]),\n",
              " ('Sepal.Width', [3.5, 3.0, 3.2, 3.1]),\n",
              " ('Species', ['setosa', 'setosa', 'setosa', 'setosa'])]"
            ]
          },
          "metadata": {},
          "execution_count": 101
        }
      ]
    },
    {
      "cell_type": "code",
      "source": [
        "SL = rdd1.map(lambda var1: ['Sepal.Length',(var1[0])])\n",
        "SW = rdd1.map(lambda var1: ['Sepal.Width',(var1[1])])\n",
        "CV = rdd1.map(lambda var1: ['Species',var1[2]])\n",
        "print(SL.take(10))\n",
        "print(SW.take(10))\n",
        "union_data = sc.union([SL,SW])\n",
        "print(union_data.take(10))\n"
      ],
      "metadata": {
        "colab": {
          "base_uri": "https://localhost:8080/"
        },
        "id": "LG4CCq5PK40h",
        "outputId": "d1c147e3-aa70-4377-dac6-25b0c527a94a"
      },
      "execution_count": null,
      "outputs": [
        {
          "output_type": "stream",
          "name": "stdout",
          "text": [
            "[['Sepal.Length', 'Sepal.Length'], ['Sepal.Length', 'Sepal.Width'], ['Sepal.Length', 'Species']]\n",
            "[['Sepal.Width', [5.1, 4.9, 4.7, 4.6]], ['Sepal.Width', [3.5, 3.0, 3.2, 3.1]], ['Sepal.Width', ['setosa', 'setosa', 'setosa', 'setosa']]]\n",
            "[['Sepal.Length', 'Sepal.Length'], ['Sepal.Length', 'Sepal.Width'], ['Sepal.Length', 'Species'], ['Sepal.Width', [5.1, 4.9, 4.7, 4.6]], ['Sepal.Width', [3.5, 3.0, 3.2, 3.1]], ['Sepal.Width', ['setosa', 'setosa', 'setosa', 'setosa']]]\n"
          ]
        }
      ]
    },
    {
      "cell_type": "code",
      "source": [
        "import findspark\n",
        "findspark.init()\n",
        "from pyspark.sql import SparkSession\n",
        "from pyspark.sql.functions import col, explode, initcap  # Some functions that later will be useful\n",
        "\n",
        "spark = SparkSession \\\n",
        "        .builder \\\n",
        "        .appName(\"PySparkETLTelecom\") \\\n",
        "        .getOrCreate()"
      ],
      "metadata": {
        "id": "tT_SPAVkMlA1"
      },
      "execution_count": null,
      "outputs": []
    }
  ]
}