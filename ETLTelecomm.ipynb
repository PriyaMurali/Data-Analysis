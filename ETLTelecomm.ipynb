{
  "cells": [
    {
      "cell_type": "markdown",
      "metadata": {
        "id": "view-in-github",
        "colab_type": "text"
      },
      "source": [
        "<a href=\"https://colab.research.google.com/github/PriyaMurali/Data-Analysis/blob/main/ETLTelecomm.ipynb\" target=\"_parent\"><img src=\"https://colab.research.google.com/assets/colab-badge.svg\" alt=\"Open In Colab\"/></a>"
      ]
    },
    {
      "cell_type": "code",
      "execution_count": 1,
      "metadata": {
        "id": "z3YUkvo7ubHp"
      },
      "outputs": [],
      "source": [
        "from collections import Counter\n",
        "#!apt-get install openjdk-8-jdk-headless -qq > /dev/null\n",
        "!wget -q https://dlcdn.apache.org/spark/spark-3.3.0/spark-3.3.0-bin-hadoop3.tgz\n",
        "!tar xf spark-3.3.0-bin-hadoop3.tgz\n",
        "!pip install -q findspark\n",
        "import os\n",
        "os.environ[\"JAVA_HOME\"] = \"/usr/lib/jvm/java-8-openjdk-amd64\"\n",
        "os.environ[\"SPARK_HOME\"] = \"/content/spark-3.3.0-bin-hadoop3\""
      ]
    },
    {
      "cell_type": "code",
      "execution_count": 2,
      "metadata": {
        "colab": {
          "base_uri": "https://localhost:8080/"
        },
        "id": "bDIMzJBsCend",
        "outputId": "b792301f-ed03-4065-b543-ec906526b447"
      },
      "outputs": [
        {
          "output_type": "stream",
          "name": "stdout",
          "text": [
            "\r0% [Working]\r            \rHit:1 http://archive.ubuntu.com/ubuntu bionic InRelease\n",
            "\r0% [Connecting to security.ubuntu.com (91.189.91.39)] [Connected to cloud.r-pro\r                                                                               \rGet:2 http://archive.ubuntu.com/ubuntu bionic-updates InRelease [88.7 kB]\n",
            "\r                                                                               \rGet:3 https://cloud.r-project.org/bin/linux/ubuntu bionic-cran40/ InRelease [3,626 B]\n",
            "\r                                                                               \rGet:4 http://ppa.launchpad.net/c2d4u.team/c2d4u4.0+/ubuntu bionic InRelease [15.9 kB]\n",
            "\r                                                                               \rHit:5 http://ppa.launchpad.net/cran/libgit2/ubuntu bionic InRelease\n",
            "\r0% [Waiting for headers] [Connecting to security.ubuntu.com (91.189.91.39)] [Wa\r0% [1 InRelease gpgv 242 kB] [Waiting for headers] [Connecting to security.ubun\r                                                                               \rGet:6 http://archive.ubuntu.com/ubuntu bionic-backports InRelease [74.6 kB]\n",
            "\r0% [1 InRelease gpgv 242 kB] [6 InRelease 9,844 B/74.6 kB 13%] [Connecting to s\r                                                                               \rGet:7 http://ppa.launchpad.net/deadsnakes/ppa/ubuntu bionic InRelease [15.9 kB]\n",
            "\r0% [1 InRelease gpgv 242 kB] [6 InRelease 50.4 kB/74.6 kB 68%] [Waiting for hea\r0% [1 InRelease gpgv 242 kB] [Waiting for headers] [Waiting for headers] [7 InR\r                                                                               \r0% [1 InRelease gpgv 242 kB] [Waiting for headers] [Waiting for headers]\r                                                                        \rHit:8 http://ppa.launchpad.net/graphics-drivers/ppa/ubuntu bionic InRelease\n",
            "Get:9 http://security.ubuntu.com/ubuntu bionic-security InRelease [88.7 kB]\n",
            "Get:10 http://archive.ubuntu.com/ubuntu bionic-updates/main amd64 Packages [3,368 kB]\n",
            "Get:11 http://archive.ubuntu.com/ubuntu bionic-updates/restricted amd64 Packages [1,141 kB]\n",
            "Get:12 http://archive.ubuntu.com/ubuntu bionic-updates/universe amd64 Packages [2,310 kB]\n",
            "Ign:13 https://developer.download.nvidia.com/compute/machine-learning/repos/ubuntu1804/x86_64  InRelease\n",
            "Get:14 https://developer.download.nvidia.com/compute/cuda/repos/ubuntu1804/x86_64  InRelease [1,581 B]\n",
            "Hit:15 https://developer.download.nvidia.com/compute/machine-learning/repos/ubuntu1804/x86_64  Release\n",
            "Get:16 http://ppa.launchpad.net/c2d4u.team/c2d4u4.0+/ubuntu bionic/main Sources [2,077 kB]\n",
            "Get:17 http://ppa.launchpad.net/c2d4u.team/c2d4u4.0+/ubuntu bionic/main amd64 Packages [1,064 kB]\n",
            "Get:18 http://ppa.launchpad.net/deadsnakes/ppa/ubuntu bionic/main amd64 Packages [45.3 kB]\n",
            "Get:19 http://security.ubuntu.com/ubuntu bionic-security/main amd64 Packages [2,937 kB]\n",
            "Get:20 https://developer.download.nvidia.com/compute/cuda/repos/ubuntu1804/x86_64  Packages [903 kB]\n",
            "Get:22 http://security.ubuntu.com/ubuntu bionic-security/universe amd64 Packages [1,532 kB]\n",
            "Get:23 http://security.ubuntu.com/ubuntu bionic-security/restricted amd64 Packages [1,100 kB]\n",
            "Fetched 16.8 MB in 3s (5,936 kB/s)\n",
            "Reading package lists... Done\n"
          ]
        }
      ],
      "source": [
        "!apt-get update\n",
        "!apt-get install --fix-missing openjdk-8-jdk-headless -qq > /dev/null\n"
      ]
    },
    {
      "cell_type": "code",
      "execution_count": 3,
      "metadata": {
        "colab": {
          "base_uri": "https://localhost:8080/",
          "height": 70
        },
        "id": "3agpXEJiCOgM",
        "outputId": "0c7e0cdc-06c2-4a62-83d0-bcd51189e22f"
      },
      "outputs": [
        {
          "output_type": "execute_result",
          "data": {
            "text/plain": [
              "'!apt-get install openjdk-8-jdk-headless -qq > /dev/null\\nimport os\\nos.environ[\"JAVA_HOME\"] = \"/usr/lib/jvm/java-8-openjdk-amd64\"\\n!update-alternatives --set java /usr/lib/jvm/java-8-openjdk-amd64/jre/bin/java\\n!java -version'"
            ],
            "application/vnd.google.colaboratory.intrinsic+json": {
              "type": "string"
            }
          },
          "metadata": {},
          "execution_count": 3
        }
      ],
      "source": [
        "'''!apt-get install openjdk-8-jdk-headless -qq > /dev/null\n",
        "import os\n",
        "os.environ[\"JAVA_HOME\"] = \"/usr/lib/jvm/java-8-openjdk-amd64\"\n",
        "!update-alternatives --set java /usr/lib/jvm/java-8-openjdk-amd64/jre/bin/java\n",
        "!java -version'''"
      ]
    },
    {
      "cell_type": "code",
      "execution_count": 30,
      "metadata": {
        "id": "Q5Eml5aTA-lC"
      },
      "outputs": [],
      "source": [
        "import findspark\n",
        "findspark.init()\n",
        "from pyspark.sql import SparkSession\n",
        "from pyspark.sql.functions import col, explode, initcap  # Some functions that later will be useful\n",
        "\n",
        "spark = SparkSession \\\n",
        "        .builder \\\n",
        "        .appName(\"PySparkETLTelecom\") \\\n",
        "        .getOrCreate()"
      ]
    },
    {
      "cell_type": "code",
      "execution_count": 7,
      "metadata": {
        "colab": {
          "base_uri": "https://localhost:8080/"
        },
        "id": "wku8vJMlDVS0",
        "outputId": "008a2f70-27d7-4759-ca0f-36f95963f95d"
      },
      "outputs": [
        {
          "output_type": "execute_result",
          "data": {
            "text/plain": [
              "DataFrame[crs: struct<properties:struct<name:string>,type:string>, features: array<struct<geometry:struct<coordinates:array<array<array<array<double>>>>,type:string>,properties:struct<PROVINCIA:string,SHAPE_AREA:double,SIGLA:string>,type:string>>, type: string]"
            ]
          },
          "metadata": {},
          "execution_count": 7
        }
      ],
      "source": [
        "# Load Datafiles\n",
        "provincesDF = spark.read.load(\"/content/sample_data/Italian_provinces.geojson\",\n",
        "                    format='json',\n",
        "                    multiline=True,\n",
        "                    inferSchema='true').cache()\n",
        "provincesDF"
      ]
    },
    {
      "cell_type": "code",
      "execution_count": 8,
      "metadata": {
        "id": "WyhU-qrtH9OW",
        "colab": {
          "base_uri": "https://localhost:8080/"
        },
        "outputId": "05ebf58d-f392-4334-81d9-c2373d708171"
      },
      "outputs": [
        {
          "output_type": "stream",
          "name": "stdout",
          "text": [
            "root\n",
            " |-- crs: struct (nullable = true)\n",
            " |    |-- properties: struct (nullable = true)\n",
            " |    |    |-- name: string (nullable = true)\n",
            " |    |-- type: string (nullable = true)\n",
            " |-- features: array (nullable = true)\n",
            " |    |-- element: struct (containsNull = true)\n",
            " |    |    |-- geometry: struct (nullable = true)\n",
            " |    |    |    |-- coordinates: array (nullable = true)\n",
            " |    |    |    |    |-- element: array (containsNull = true)\n",
            " |    |    |    |    |    |-- element: array (containsNull = true)\n",
            " |    |    |    |    |    |    |-- element: array (containsNull = true)\n",
            " |    |    |    |    |    |    |    |-- element: double (containsNull = true)\n",
            " |    |    |    |-- type: string (nullable = true)\n",
            " |    |    |-- properties: struct (nullable = true)\n",
            " |    |    |    |-- PROVINCIA: string (nullable = true)\n",
            " |    |    |    |-- SHAPE_AREA: double (nullable = true)\n",
            " |    |    |    |-- SIGLA: string (nullable = true)\n",
            " |    |    |-- type: string (nullable = true)\n",
            " |-- type: string (nullable = true)\n",
            "\n"
          ]
        }
      ],
      "source": [
        "provincesDF.printSchema()"
      ]
    },
    {
      "cell_type": "code",
      "execution_count": 9,
      "metadata": {
        "colab": {
          "base_uri": "https://localhost:8080/"
        },
        "id": "U7sZy-Dc43q2",
        "outputId": "ec4ea74a-5e0f-46f7-9f12-1e7a4a5481ee"
      },
      "outputs": [
        {
          "output_type": "stream",
          "name": "stdout",
          "text": [
            "+--------------------+\n",
            "|           PROVINCIA|\n",
            "+--------------------+\n",
            "|[Novara, Torino, ...|\n",
            "+--------------------+\n",
            "\n"
          ]
        }
      ],
      "source": [
        "provincesDF = provincesDF.select(\"features.properties.PROVINCIA\")\n",
        "provincesDF.show()"
      ]
    },
    {
      "cell_type": "code",
      "execution_count": 10,
      "metadata": {
        "colab": {
          "base_uri": "https://localhost:8080/"
        },
        "id": "Cb1z33XO38Cb",
        "outputId": "354acb0d-02a0-4b8f-baac-c68f6bd66c0e"
      },
      "outputs": [
        {
          "output_type": "stream",
          "name": "stdout",
          "text": [
            "+-----------+\n",
            "|  PROVINCIA|\n",
            "+-----------+\n",
            "|     Novara|\n",
            "|     Torino|\n",
            "|   Vercelli|\n",
            "|      Aosta|\n",
            "|Alessandria|\n",
            "+-----------+\n",
            "only showing top 5 rows\n",
            "\n"
          ]
        }
      ],
      "source": [
        "provincesDF = provincesDF.select(explode(\"PROVINCIA\")).withColumnRenamed(\"col\", \"PROVINCIA\")\n",
        "provincesDF.show(5)"
      ]
    },
    {
      "cell_type": "code",
      "execution_count": 11,
      "metadata": {
        "id": "OWbyAD974vMp",
        "colab": {
          "base_uri": "https://localhost:8080/"
        },
        "outputId": "bc7667f8-bfe8-453c-f099-5b2a6c691541"
      },
      "outputs": [
        {
          "output_type": "stream",
          "name": "stdout",
          "text": [
            "+---------+-----------+-----------+\n",
            "|namespace|  tableName|isTemporary|\n",
            "+---------+-----------+-----------+\n",
            "|         |provincesdf|       true|\n",
            "+---------+-----------+-----------+\n",
            "\n"
          ]
        }
      ],
      "source": [
        "provincesDF.createOrReplaceTempView(\"provincesDF\")\n",
        "spark.sql(\"show tables\").show()\n"
      ]
    },
    {
      "cell_type": "code",
      "execution_count": 12,
      "metadata": {
        "id": "nQSW1cGd9bKZ"
      },
      "outputs": [],
      "source": [
        "provincesDF.write.mode(\"overwrite\") \\\n",
        "            .format('parquet') \\\n",
        "            .save('/content/sample_data/provinces.parquet')"
      ]
    },
    {
      "cell_type": "code",
      "execution_count": 13,
      "metadata": {
        "colab": {
          "base_uri": "https://localhost:8080/"
        },
        "id": "2OOt1erG6Bbs",
        "outputId": "a94171cc-a354-49c6-b398-5e1d952af8d3"
      },
      "outputs": [
        {
          "output_type": "stream",
          "name": "stdout",
          "text": [
            "+-------------------+------+-----------+------+------+------+-------+--------+\n",
            "|           datetime|CellID|countrycode| smsin|smsout|callin|callout|internet|\n",
            "+-------------------+------+-----------+------+------+------+-------+--------+\n",
            "|2013-11-01 00:00:00|     1|          0|0.3521|  null|  null| 0.0273|    null|\n",
            "|2013-11-01 00:00:00|     1|         33|  null|  null|  null|   null|  0.0261|\n",
            "|2013-11-01 00:00:00|     1|         39|1.7322|1.1047|0.5919|  0.402| 57.7729|\n",
            "|2013-11-01 00:00:00|     2|          0|0.3581|  null|  null| 0.0273|    null|\n",
            "|2013-11-01 00:00:00|     2|         33|  null|  null|  null|   null|  0.0274|\n",
            "+-------------------+------+-----------+------+------+------+-------+--------+\n",
            "only showing top 5 rows\n",
            "\n"
          ]
        }
      ],
      "source": [
        "cdrDF = spark.read.load(\"/content/sample_data/sms-call-internet-mi-2013-11-01.csv\",\n",
        "                    format='csv',\n",
        "                    sep = ',',\n",
        "                    header='true',\n",
        "                    inferSchema='true').cache()\n",
        "cdrDF.show(5)\n"
      ]
    },
    {
      "cell_type": "code",
      "execution_count": 15,
      "metadata": {
        "id": "dQW1Ud0S64a1",
        "colab": {
          "base_uri": "https://localhost:8080/"
        },
        "outputId": "02cfa19c-3082-4b94-c2b5-bf2106d03005"
      },
      "outputs": [
        {
          "output_type": "stream",
          "name": "stdout",
          "text": [
            "+-------------------+------+-----------+------+------+------+-------+--------+\n",
            "|           datetime|CellID|countrycode| smsin|smsout|callin|callout|internet|\n",
            "+-------------------+------+-----------+------+------+------+-------+--------+\n",
            "|2013-11-01 00:00:00|     1|          0|0.3521|   0.0|   0.0| 0.0273|     0.0|\n",
            "|2013-11-01 00:00:00|     1|         33|   0.0|   0.0|   0.0|    0.0|  0.0261|\n",
            "|2013-11-01 00:00:00|     1|         39|1.7322|1.1047|0.5919|  0.402| 57.7729|\n",
            "|2013-11-01 00:00:00|     2|          0|0.3581|   0.0|   0.0| 0.0273|     0.0|\n",
            "|2013-11-01 00:00:00|     2|         33|   0.0|   0.0|   0.0|    0.0|  0.0274|\n",
            "+-------------------+------+-----------+------+------+------+-------+--------+\n",
            "only showing top 5 rows\n",
            "\n"
          ]
        }
      ],
      "source": [
        "#Data Cleaning\n",
        "\n",
        "cdrDF = cdrDF.na.fill(0)\n",
        "cdrDF.show(5)\n"
      ]
    },
    {
      "cell_type": "code",
      "execution_count": 16,
      "metadata": {
        "id": "9Xb-jMXF7Wfq"
      },
      "outputs": [],
      "source": [
        "cdrDF.createOrReplaceTempView(\"cdr\")\n"
      ]
    },
    {
      "cell_type": "code",
      "execution_count": 17,
      "metadata": {
        "id": "hK2Dyr3n8V3p",
        "colab": {
          "base_uri": "https://localhost:8080/"
        },
        "outputId": "d65727c0-92db-4972-a0b8-dc58249e6aad"
      },
      "outputs": [
        {
          "output_type": "stream",
          "name": "stdout",
          "text": [
            "+---------+-----------+-----------+\n",
            "|namespace|  tableName|isTemporary|\n",
            "+---------+-----------+-----------+\n",
            "|         |        cdr|       true|\n",
            "|         |provincesdf|       true|\n",
            "+---------+-----------+-----------+\n",
            "\n"
          ]
        }
      ],
      "source": [
        "spark.sql(\"show tables\").show()\n"
      ]
    },
    {
      "cell_type": "code",
      "execution_count": 18,
      "metadata": {
        "id": "y8ZHs3L28Yvs"
      },
      "outputs": [],
      "source": [
        "aggcountryDF = spark.sql(\"\"\"select \n",
        "                                CASE countrycode\n",
        "                                    WHEN 7 THEN \"Russia\"\n",
        "                                    WHEN 33 THEN \"France\"\n",
        "                                    WHEN 34 THEN \"Spain\"\n",
        "                                    WHEN 39 THEN \"Italy\"\n",
        "                                    WHEN 44 THEN \"United Kingdom\"\n",
        "                                    WHEN 47 THEN \"Norway\"\n",
        "                                    WHEN 48 THEN \"Poland\"\n",
        "                                    WHEN 49 THEN \"Germany\"\n",
        "                                    WHEN 351 THEN \"Portugal\"\n",
        "                                    WHEN 420 THEN \"Czech Republic\"\n",
        "                                    ELSE \"_Others_\"\n",
        "                                END as country,\n",
        "                                round(sum(smsin),6) smsin, \n",
        "                                round(sum(smsout),6) smsout, \n",
        "                                round(sum(callin),6) callin, \n",
        "                                round(sum(callout),6) callout, \n",
        "                                round(sum(internet),6) internet\n",
        "                            from cdr\n",
        "                            where countrycode != 0\n",
        "                            group by country\n",
        "                            order by 1\n",
        "                            \"\"\")"
      ]
    },
    {
      "cell_type": "code",
      "execution_count": 19,
      "metadata": {
        "id": "ztJyvWlX8gI1",
        "colab": {
          "base_uri": "https://localhost:8080/"
        },
        "outputId": "ba9c0858-a11e-4504-84bc-463049b1a029"
      },
      "outputs": [
        {
          "output_type": "stream",
          "name": "stdout",
          "text": [
            "+--------------+-----------+-----------+-----------+-----------+--------------+\n",
            "|       country|      smsin|     smsout|     callin|    callout|      internet|\n",
            "+--------------+-----------+-----------+-----------+-----------+--------------+\n",
            "|Czech Republic|   589.1084|   384.9712|   186.5715|   132.6839|     4552.1083|\n",
            "|        France|  4593.0272|  2836.3753|  1005.5086|   741.6321|    11680.9966|\n",
            "|       Germany|  3035.3655|   900.3133|   390.2487|   351.0411|     6903.0869|\n",
            "|         Italy|872654.8902|895131.4939|657772.4881|795643.4362|3.2159256055E7|\n",
            "|        Norway|   138.2382|    87.5495|    20.3952|    42.7664|      473.1804|\n",
            "|        Poland|   835.0364|   403.2474|   282.4475|   226.1809|      903.3277|\n",
            "|      Portugal|   143.6029|    84.8865|    46.4828|    32.1197|      157.3614|\n",
            "|        Russia|  2685.2049|  1868.3432|  1837.1902|    578.716|     1513.0446|\n",
            "|         Spain|   511.5122|   351.4705|   423.7304|   269.8687|     2874.6817|\n",
            "|United Kingdom|  2813.0149|  2599.7815|   836.2897|   545.0998|     6374.1321|\n",
            "|      _Others_| 31007.9541| 11870.9134|  9622.9337| 38857.0348|    44344.9267|\n",
            "+--------------+-----------+-----------+-----------+-----------+--------------+\n",
            "\n"
          ]
        }
      ],
      "source": [
        "aggcountryDF.show()\n"
      ]
    },
    {
      "cell_type": "code",
      "execution_count": 20,
      "metadata": {
        "id": "mteSkbAC8iUe"
      },
      "outputs": [],
      "source": [
        "#Write file to Parquet format\n",
        "aggcountryDF.write.mode(\"overwrite\") \\\n",
        "            .format('parquet') \\\n",
        "            .save('/content/sample_data/AggregatedCountries.parquet')"
      ]
    },
    {
      "cell_type": "code",
      "execution_count": 21,
      "metadata": {
        "id": "ZUW4tFAb8v90",
        "colab": {
          "base_uri": "https://localhost:8080/"
        },
        "outputId": "280e7552-e3e1-45f1-c54a-fb8af417c193"
      },
      "outputs": [
        {
          "output_type": "stream",
          "name": "stdout",
          "text": [
            "+--------+\n",
            "|Province|\n",
            "+--------+\n",
            "|  NOVARA|\n",
            "|  TORINO|\n",
            "|VERCELLI|\n",
            "+--------+\n",
            "only showing top 3 rows\n",
            "\n",
            "+---------+\n",
            "|PROVINCIA|\n",
            "+---------+\n",
            "|   Novara|\n",
            "|   Torino|\n",
            "| Vercelli|\n",
            "+---------+\n",
            "only showing top 3 rows\n",
            "\n"
          ]
        }
      ],
      "source": [
        "spark.sql(\"SELECT upper(PROVINCIA) as Province FROM parquet.`/content/sample_data/provinces.parquet`\").show(3)\n",
        "spark.read.load(\"/content/sample_data/provinces.parquet\", format='parquet').show(3)"
      ]
    },
    {
      "cell_type": "code",
      "execution_count": 22,
      "metadata": {
        "id": "gDPg-rBQ826h"
      },
      "outputs": [],
      "source": [
        "#Using MATPLOTLIB for VISUALIZATION\n",
        "\n",
        "import matplotlib.pyplot as plt\n",
        "import numpy as np"
      ]
    },
    {
      "cell_type": "code",
      "execution_count": 23,
      "metadata": {
        "id": "z0Yn47Ia95MZ",
        "colab": {
          "base_uri": "https://localhost:8080/"
        },
        "outputId": "61c6c386-6360-4645-b532-dfe7bd7a3820"
      },
      "outputs": [
        {
          "output_type": "stream",
          "name": "stdout",
          "text": [
            "          country      smsin     smsout     callin   callout    internet\n",
            "0  Czech Republic   589.1084   384.9712   186.5715  132.6839   4552.1083\n",
            "1          France  4593.0272  2836.3753  1005.5086  741.6321  11680.9966\n",
            "2         Germany  3035.3655   900.3133   390.2487  351.0411   6903.0869\n",
            "3          Norway   138.2382    87.5495    20.3952   42.7664    473.1804\n",
            "4          Poland   835.0364   403.2474   282.4475  226.1809    903.3277\n",
            "5        Portugal   143.6029    84.8865    46.4828   32.1197    157.3614\n",
            "6          Russia  2685.2049  1868.3432  1837.1902  578.7160   1513.0446\n",
            "7           Spain   511.5122   351.4705   423.7304  269.8687   2874.6817\n",
            "8  United Kingdom  2813.0149  2599.7815   836.2897  545.0998   6374.1321\n"
          ]
        }
      ],
      "source": [
        "plotdf = aggcountryDF.where(\"country not in ('Italy','_Others_')\").toPandas()\n",
        "print(plotdf)"
      ]
    },
    {
      "cell_type": "code",
      "execution_count": 24,
      "metadata": {
        "id": "VStswi1v97db",
        "colab": {
          "base_uri": "https://localhost:8080/",
          "height": 778
        },
        "outputId": "c8a237be-d3c6-474b-e3bc-34d56e679ca8"
      },
      "outputs": [
        {
          "output_type": "execute_result",
          "data": {
            "text/plain": [
              "<matplotlib.axes._subplots.AxesSubplot at 0x7ff703f99a50>"
            ]
          },
          "metadata": {},
          "execution_count": 24
        },
        {
          "output_type": "display_data",
          "data": {
            "text/plain": [
              "<Figure size 432x288 with 1 Axes>"
            ],
            "image/png": "[encoded data removed]"
          },
          "metadata": {
            "needs_background": "light"
          }
        },
        {
          "output_type": "display_data",
          "data": {
            "text/plain": [
              "<Figure size 432x288 with 1 Axes>"
            ],
            "image/png": "[encoded data removed]"
          },
          "metadata": {
            "needs_background": "light"
          }
        },
        {
          "output_type": "display_data",
          "data": {
            "text/plain": [
              "<Figure size 432x288 with 1 Axes>"
            ],
            "image/png": "[encoded data removed]"
          },
          "metadata": {
            "needs_background": "light"
          }
        }
      ],
      "source": [
        "plotdf.plot(kind='barh', x='country', y=['smsin', 'smsout'], colormap='tab20b')\n",
        "plotdf.plot(kind='barh', x='country', y=['callin', 'callout'], colormap='tab10')\n",
        "plotdf.plot(kind='barh', x='country', y=['internet'], colormap='summer')"
      ]
    },
    {
      "cell_type": "markdown",
      "metadata": {
        "id": "9WIGuwvnuJBq"
      },
      "source": [
        "**RDD Joins and Operations**"
      ]
    },
    {
      "cell_type": "code",
      "execution_count": 31,
      "metadata": {
        "colab": {
          "base_uri": "https://localhost:8080/"
        },
        "id": "TaMoqDpT-J6C",
        "outputId": "42d345c4-eba7-4290-f7e2-271017e93b3a"
      },
      "outputs": [
        {
          "output_type": "stream",
          "name": "stdout",
          "text": [
            "[('283', ['363', '20080101', '20080113', '20080108', '594', '283', '1', '2', 3.0, 1376.994, 0.0, 0.0, 1251.9813, 3755.9439, 4130.982, 103.2746]), ('283', ['483', '20080301', '20080313', '20080308', '90', '283', '1', '5', 4.0, 72.0, 0.0, 0.0, 44.88, 179.52, 288.0, 7.2]), ('283', ['381', '20070201', '20070213', '20070208', '666', '283', '1', '2', 1.0, 600.2625, 0.0, 0.0, 605.6492, 605.6492, 600.2625, 15.0066]), ('283', ['454', '20060901', '20060913', '20060908', '130', '283', '1', '4', 4.0, 35.994, 0.0, 0.0, 24.7459, 98.9836, 143.976, 3.5994])]\n"
          ]
        }
      ],
      "source": [
        "sc = spark.sparkContext\n",
        "#import tables as RDD\n",
        "DimEmployee = sc.textFile(\"/content/sample_data/DimEmployee.csv\")\n",
        "FactResellerSales = sc.textFile(\"/content/sample_data/FactResellerSales.csv\")\n",
        "#split data based on delimiter\n",
        "DimEmployee = DimEmployee.map(lambda var1: var1.split(\",\"))\n",
        "FactResellerSales = FactResellerSales.map(lambda var1: var1.split(\",\"))\n",
        "#convert data in-terms of key-value pairs where the key is the column to be joined\n",
        "DimEmployee = DimEmployee.map(lambda var1: [var1[0],[var1[1],var1[2],var1[3]]])\n",
        "FactResellerSales = FactResellerSales.map(lambda var1: [var1[5], [var1[0], var1[1], var1[2], var1[3], var1[4], var1[5], var1[6], var1[7], float(var1[8]), float(var1[9]),float(var1[10]),float(var1[11]), float(var1[12]), float(var1[13]), float(var1[14]), float(var1[15])]])\n",
        "#perform join\n",
        "RF = FactResellerSales.join(DimEmployee)\n",
        "#print contents of joins\n",
        "RF.take(10)\n",
        "#extract first RDD values along with the key\n",
        "print(RF.map(lambda var1: (var1[0],var1[1][0])).take(4))\n"
      ]
    },
    {
      "cell_type": "code",
      "execution_count": 32,
      "metadata": {
        "colab": {
          "base_uri": "https://localhost:8080/"
        },
        "id": "EFETjqH3Aa_b",
        "outputId": "065ff8f7-5f77-4d76-f4fb-bb0d48dc8168"
      },
      "outputs": [
        {
          "output_type": "stream",
          "name": "stdout",
          "text": [
            "+-----------+-----------------+-----------------+---------+\n",
            "|EmployeeKey|ParentEmployeeKey|SalesTerritoryKey|FirstName|\n",
            "+-----------+-----------------+-----------------+---------+\n",
            "|         72|               32|               11|     Ajay|\n",
            "|         36|               87|               11|  Hemanth|\n",
            "|        104|               16|               11|   Ganesh|\n",
            "|        120|               44|               11|  Perumal|\n",
            "|        287|              272|                4|      Shu|\n",
            "|        105|               44|               11|      Dan|\n",
            "|        201|               23|               11|     Lori|\n",
            "|        130|               92|               11|     Sean|\n",
            "|        295|              290|                8|   Rachel|\n",
            "|        216|               92|               11|    Chris|\n",
            "|        285|              272|                5|     Tsvi|\n",
            "|         59|               18|               11|    Annik|\n",
            "|         69|               16|               11|      Bob|\n",
            "|         83|              214|               11|   Rajesh|\n",
            "|        115|              163|               11|   Janeth|\n",
            "|         93|              214|               11| Lorraine|\n",
            "|         76|               23|               11|   Kok-Ho|\n",
            "|        215|              126|               11|   Andrew|\n",
            "|          2|                7|               11|    Kevin|\n",
            "|        213|              188|               11|      Jan|\n",
            "+-----------+-----------------+-----------------+---------+\n",
            "only showing top 20 rows\n",
            "\n",
            "No.of Records in EmployeeTable:  296\n"
          ]
        }
      ],
      "source": [
        "DimEmp = spark.read.load(\"/content/DimEmployee.csv\",\n",
        "                         format='csv',\n",
        "                         sep = ',',\n",
        "                         header='true',\n",
        "                         inferSchema='true').cache()\n",
        "DimEmp.show()\n",
        "print(\"No.of Records in EmployeeTable: \",DimEmp.count())\n"
      ]
    },
    {
      "cell_type": "code",
      "execution_count": 33,
      "metadata": {
        "colab": {
          "base_uri": "https://localhost:8080/"
        },
        "id": "-PsU0Bt9N01k",
        "outputId": "7bf49c52-2ad8-4455-98a7-a1d814a11eaa"
      },
      "outputs": [
        {
          "output_type": "stream",
          "name": "stdout",
          "text": [
            "+-----------+-----------------+-----------------+-----------+\n",
            "|EmployeeKey|ParentEmployeeKey|SalesTerritoryKey|  FirstName|\n",
            "+-----------+-----------------+-----------------+-----------+\n",
            "|        252|               27|               11|Christopher|\n",
            "|        276|                7|               11|       Mary|\n",
            "|        169|               76|               11|     Sameer|\n",
            "|         14|              112|               11|      Terri|\n",
            "|        222|              152|               11|       Gary|\n",
            "|        262|              111|               11|     Olinda|\n",
            "|        109|                7|               11|       Mary|\n",
            "|        258|               20|               11|    Michael|\n",
            "|        284|              272|                6|    Garrett|\n",
            "|         34|              188|               11|    Garrett|\n",
            "|        282|              272|                4|      Linda|\n",
            "|        202|              278|               11|     Arvind|\n",
            "|        247|               20|               11|     Maciej|\n",
            "|        280|               73|               11|     Sheela|\n",
            "|        272|              277|               11|    Stephen|\n",
            "|        155|              111|               11|   Samantha|\n",
            "|        212|               20|               11|        Jay|\n",
            "|        213|              188|               11|        Jan|\n",
            "|         95|               53|               11|       Ryan|\n",
            "|        195|               32|               11|      Grant|\n",
            "+-----------+-----------------+-----------------+-----------+\n",
            "only showing top 20 rows\n",
            "\n",
            "None\n"
          ]
        }
      ],
      "source": [
        "print(DimEmp.distinct().show())"
      ]
    },
    {
      "cell_type": "code",
      "execution_count": 34,
      "metadata": {
        "colab": {
          "base_uri": "https://localhost:8080/"
        },
        "id": "sFtmYdOhEB1S",
        "outputId": "d2b1f09b-2cc2-401b-8dac-a48b5f5772d3"
      },
      "outputs": [
        {
          "output_type": "stream",
          "name": "stdout",
          "text": [
            "+----------+------------+----------+-----------+-----------+-----------+------------+-----------------+-------------+---------+--------------------+--------------+-------------------+----------------+-----------+--------+\n",
            "|ProductKey|OrderDateKey|DueDateKey|ShipDateKey|ResellerKey|EmployeeKey|PromotionKey|SalesTerritoryKey|OrderQuantity|UnitPrice|UnitPriceDiscountPct|DiscountAmount|ProductStandardCost|TotalProductCost|SalesAmount| Freight|\n",
            "+----------+------------+----------+-----------+-----------+-----------+------------+-----------------+-------------+---------+--------------------+--------------+-------------------+----------------+-----------+--------+\n",
            "|       339|    20070401|  20070413|   20070408|        523|        282|           1|                3|            2|  469.794|                 0.0|           0.0|           486.7066|        973.4132|    939.588| 23.4897|\n",
            "|       213|    20060801|  20060813|   20060808|        403|        282|           1|                4|            2|  20.1865|                 0.0|           0.0|            13.8782|         27.7564|     40.373|  1.0093|\n",
            "|       348|    20050901|  20050913|   20050908|        581|        287|           1|                4|            3| 2024.994|                 0.0|           0.0|          1898.0944|       5694.2832|   6074.982|151.8746|\n",
            "|       559|    20080601|  20080613|   20080608|         21|        281|           1|                4|            3|   12.144|                 0.0|           0.0|             8.9866|         26.9598|     36.432|  0.9108|\n",
            "|       363|    20080101|  20080113|   20080108|        594|        283|           1|                2|            3| 1376.994|                 0.0|           0.0|          1251.9813|       3755.9439|   4130.982|103.2746|\n",
            "|       483|    20080301|  20080313|   20080308|         90|        283|           1|                5|            4|     72.0|                 0.0|           0.0|              44.88|          179.52|      288.0|     7.2|\n",
            "|       271|    20070501|  20070513|   20070508|        436|        281|           1|                4|            4|  202.332|                 0.0|           0.0|           187.1571|        748.6284|    809.328| 20.2332|\n",
            "|       364|    20061101|  20061113|   20061108|        642|        281|           1|                2|            5|  647.994|                 0.0|           0.0|           598.4354|        2992.177|    3239.97| 80.9993|\n",
            "|       214|    20080201|  20080213|   20080208|        230|        295|           1|                8|            6|   20.994|                 0.0|           0.0|            13.0863|         78.5178|    125.964|  3.1491|\n",
            "|       463|    20071001|  20071013|   20071008|        302|        295|           1|                8|            5|   14.694|                 0.0|           0.0|             9.1593|         45.7965|      73.47|  1.8368|\n",
            "|       381|    20060801|  20060813|   20060808|         12|        284|           1|                6|            6| 600.2625|                 0.0|           0.0|           605.6492|       3633.8952|   3601.575| 90.0394|\n",
            "|       322|    20060601|  20060613|   20060608|        155|        288|           1|                6|            3| 419.4589|                 0.0|           0.0|           413.1463|       1239.4389|  1258.3767| 31.4594|\n",
            "|       545|    20080201|  20080213|   20080208|        334|        291|           1|                6|            1|   24.294|                 0.0|           0.0|            17.9776|         17.9776|     24.294|  0.6074|\n",
            "|       586|    20070701|  20070713|   20070708|        205|        282|          13|                4|           13| 334.0575|                0.15|      651.4121|           461.4448|       5998.7824|  3691.3354| 92.2834|\n",
            "|       381|    20070201|  20070213|   20070208|        666|        283|           1|                2|            1| 600.2625|                 0.0|           0.0|           605.6492|        605.6492|   600.2625| 15.0066|\n",
            "|       469|    20061101|  20061113|   20061108|        396|        281|           1|                2|            2|   22.794|                 0.0|           0.0|            15.6709|         31.3418|     45.588|  1.1397|\n",
            "|       555|    20080601|  20080613|   20080608|        595|        293|           1|                1|            3|     63.9|                 0.0|           0.0|             47.286|         141.858|      191.7|  4.7925|\n",
            "|       454|    20060901|  20060913|   20060908|        130|        283|           1|                4|            4|   35.994|                 0.0|           0.0|            24.7459|         98.9836|    143.976|  3.5994|\n",
            "|       381|    20070201|  20070213|   20070208|        328|        281|           1|                4|            5| 600.2625|                 0.0|           0.0|           605.6492|        3028.246|  3001.3125| 75.0328|\n",
            "|       459|    20060801|  20060813|   20060808|         79|        282|           1|                3|            5|   53.994|                 0.0|           0.0|            37.1209|        185.6045|     269.97|  6.7493|\n",
            "+----------+------------+----------+-----------+-----------+-----------+------------+-----------------+-------------+---------+--------------------+--------------+-------------------+----------------+-----------+--------+\n",
            "only showing top 20 rows\n",
            "\n"
          ]
        }
      ],
      "source": [
        "FactReseller = spark.read.load(\"/content/FactResellerSales.csv\",\n",
        "                              format='csv',\n",
        "                              sep = ',',\n",
        "                              header='true',\n",
        "                              inferSchema='true').cache()\n",
        "FactReseller.show()"
      ]
    },
    {
      "cell_type": "code",
      "execution_count": 35,
      "metadata": {
        "colab": {
          "base_uri": "https://localhost:8080/"
        },
        "id": "pLFR4W6LFm8p",
        "outputId": "13cebc65-8301-43b1-da07-2d41fbe5a838"
      },
      "outputs": [
        {
          "output_type": "stream",
          "name": "stdout",
          "text": [
            "+----------+------------+----------+-----------+-----------+-----------+------------+-----------------+-------------+---------+--------------------+--------------+-------------------+----------------+-----------+--------+\n",
            "|ProductKey|OrderDateKey|DueDateKey|ShipDateKey|ResellerKey|EmployeeKey|PromotionKey|SalesTerritoryKey|OrderQuantity|UnitPrice|UnitPriceDiscountPct|DiscountAmount|ProductStandardCost|TotalProductCost|SalesAmount| Freight|\n",
            "+----------+------------+----------+-----------+-----------+-----------+------------+-----------------+-------------+---------+--------------------+--------------+-------------------+----------------+-----------+--------+\n",
            "|       214|    20080201|  20080213|   20080208|        230|        295|           1|                8|            6|   20.994|                 0.0|           0.0|            13.0863|         78.5178|    125.964|  3.1491|\n",
            "|       463|    20071001|  20071013|   20071008|        302|        295|           1|                8|            5|   14.694|                 0.0|           0.0|             9.1593|         45.7965|      73.47|  1.8368|\n",
            "|       402|    20070801|  20070813|   20070808|        687|        295|           1|                8|            1|   72.162|                 0.0|           0.0|            53.3999|         53.3999|     72.162|  1.8041|\n",
            "|       490|    20071101|  20071113|   20071108|        687|        295|           1|                8|            6|   32.394|                 0.0|           0.0|            41.5723|        249.4338|    194.364|  4.8591|\n",
            "|       575|    20080601|  20080613|   20080608|        536|        295|           1|                8|            4| 1430.442|                 0.0|           0.0|          1481.9379|       5927.7516|   5721.768|143.0442|\n",
            "|       225|    20080201|  20080213|   20080208|        266|        295|           1|                8|            4|    5.394|                 0.0|           0.0|             6.9223|         27.6892|     21.576|  0.5394|\n",
            "|       572|    20071001|  20071013|   20071008|        302|        295|           1|                8|            8|   445.41|                 0.0|           0.0|           461.4448|       3691.5584|    3563.28|  89.082|\n",
            "|       467|    20071101|  20071113|   20071108|        230|        295|           1|                8|            3|   14.694|                 0.0|           0.0|             9.1593|         27.4779|     44.082|  1.1021|\n",
            "|       604|    20080101|  20080113|   20080108|        639|        295|           1|                8|            1|  323.994|                 0.0|           0.0|           343.6496|        343.6496|    323.994|  8.0999|\n",
            "|       390|    20080101|  20080113|   20080108|        392|        295|           1|                8|            3|  672.294|                 0.0|           0.0|           713.0798|       2139.2394|   2016.882| 50.4221|\n",
            "|       298|    20070801|  20070813|   20070808|        687|        295|           1|                8|            7|   809.76|                 0.0|           0.0|            739.041|        5173.287|    5668.32| 141.708|\n",
            "|       523|    20070801|  20070813|   20070808|        230|        295|           1|                8|            8|   31.584|                 0.0|           0.0|            23.3722|        186.9776|    252.672|  6.3168|\n",
            "|       487|    20080201|  20080213|   20080208|        230|        295|           1|                8|            7|   32.994|                 0.0|           0.0|            20.5663|        143.9641|    230.958|   5.774|\n",
            "|       580|    20080201|  20080213|   20080208|        615|        295|           1|                8|            1| 1020.594|                 0.0|           0.0|            1082.51|         1082.51|   1020.594| 25.5149|\n",
            "|       378|    20071001|  20071013|   20071008|        482|        295|           1|                8|            1|  1466.01|                 0.0|           0.0|          1554.9479|       1554.9479|    1466.01| 36.6503|\n",
            "|       483|    20080601|  20080613|   20080608|        464|        295|           1|                8|            5|     72.0|                 0.0|           0.0|              44.88|           224.4|      360.0|     9.0|\n",
            "|       594|    20070801|  20070813|   20070808|        687|        295|           1|                8|            3|  338.994|                 0.0|           0.0|           308.2179|        924.6537|   1016.982| 25.4246|\n",
            "|       570|    20071001|  20071013|   20071008|        302|        295|           1|                8|            8|   445.41|                 0.0|           0.0|           461.4448|       3691.5584|    3563.28|  89.082|\n",
            "|       584|    20071001|  20071013|   20071008|        482|        295|           1|                8|            1|  323.994|                 0.0|           0.0|           343.6496|        343.6496|    323.994|  8.0999|\n",
            "|       546|    20071001|  20071013|   20071008|        482|        295|           1|                8|            1|   37.254|                 0.0|           0.0|             27.568|          27.568|     37.254|  0.9314|\n",
            "+----------+------------+----------+-----------+-----------+-----------+------------+-----------------+-------------+---------+--------------------+--------------+-------------------+----------------+-----------+--------+\n",
            "only showing top 20 rows\n",
            "\n"
          ]
        }
      ],
      "source": [
        "factFilter=FactReseller.filter(\"SalesTerritoryKey=='8'\")\n",
        "factFilter.show()"
      ]
    },
    {
      "cell_type": "code",
      "execution_count": 36,
      "metadata": {
        "colab": {
          "base_uri": "https://localhost:8080/"
        },
        "id": "lzi3W6wAGCYt",
        "outputId": "669ae66a-dca9-4f5a-e08b-3b4d3df6d827"
      },
      "outputs": [
        {
          "output_type": "stream",
          "name": "stdout",
          "text": [
            "+-----------+-----------------+-----------------+---------+----------+------------+----------+-----------+-----------+-----------+------------+-----------------+-------------+---------+--------------------+--------------+-------------------+----------------+-----------+--------+\n",
            "|EmployeeKey|ParentEmployeeKey|SalesTerritoryKey|FirstName|ProductKey|OrderDateKey|DueDateKey|ShipDateKey|ResellerKey|EmployeeKey|PromotionKey|SalesTerritoryKey|OrderQuantity|UnitPrice|UnitPriceDiscountPct|DiscountAmount|ProductStandardCost|TotalProductCost|SalesAmount| Freight|\n",
            "+-----------+-----------------+-----------------+---------+----------+------------+----------+-----------+-----------+-----------+------------+-----------------+-------------+---------+--------------------+--------------+-------------------+----------------+-----------+--------+\n",
            "|        282|              272|                4|    Linda|       339|    20070401|  20070413|   20070408|        523|        282|           1|                3|            2|  469.794|                 0.0|           0.0|           486.7066|        973.4132|    939.588| 23.4897|\n",
            "|        282|              272|                4|    Linda|       213|    20060801|  20060813|   20060808|        403|        282|           1|                4|            2|  20.1865|                 0.0|           0.0|            13.8782|         27.7564|     40.373|  1.0093|\n",
            "|        287|              272|                4|      Shu|       348|    20050901|  20050913|   20050908|        581|        287|           1|                4|            3| 2024.994|                 0.0|           0.0|          1898.0944|       5694.2832|   6074.982|151.8746|\n",
            "|        281|              272|                2|  Michael|       559|    20080601|  20080613|   20080608|         21|        281|           1|                4|            3|   12.144|                 0.0|           0.0|             8.9866|         26.9598|     36.432|  0.9108|\n",
            "|        283|              272|                3|  Jillian|       363|    20080101|  20080113|   20080108|        594|        283|           1|                2|            3| 1376.994|                 0.0|           0.0|          1251.9813|       3755.9439|   4130.982|103.2746|\n",
            "|        283|              272|                3|  Jillian|       483|    20080301|  20080313|   20080308|         90|        283|           1|                5|            4|     72.0|                 0.0|           0.0|              44.88|          179.52|      288.0|     7.2|\n",
            "|        281|              272|                2|  Michael|       271|    20070501|  20070513|   20070508|        436|        281|           1|                4|            4|  202.332|                 0.0|           0.0|           187.1571|        748.6284|    809.328| 20.2332|\n",
            "|        281|              272|                2|  Michael|       364|    20061101|  20061113|   20061108|        642|        281|           1|                2|            5|  647.994|                 0.0|           0.0|           598.4354|        2992.177|    3239.97| 80.9993|\n",
            "|        295|              290|                8|   Rachel|       214|    20080201|  20080213|   20080208|        230|        295|           1|                8|            6|   20.994|                 0.0|           0.0|            13.0863|         78.5178|    125.964|  3.1491|\n",
            "|        295|              290|                8|   Rachel|       463|    20071001|  20071013|   20071008|        302|        295|           1|                8|            5|   14.694|                 0.0|           0.0|             9.1593|         45.7965|      73.47|  1.8368|\n",
            "|        284|              272|                6|  Garrett|       381|    20060801|  20060813|   20060808|         12|        284|           1|                6|            6| 600.2625|                 0.0|           0.0|           605.6492|       3633.8952|   3601.575| 90.0394|\n",
            "|        288|              272|                6|     Jos�|       322|    20060601|  20060613|   20060608|        155|        288|           1|                6|            3| 419.4589|                 0.0|           0.0|           413.1463|       1239.4389|  1258.3767| 31.4594|\n",
            "|        291|              290|               10|      Jae|       545|    20080201|  20080213|   20080208|        334|        291|           1|                6|            1|   24.294|                 0.0|           0.0|            17.9776|         17.9776|     24.294|  0.6074|\n",
            "|        282|              272|                4|    Linda|       586|    20070701|  20070713|   20070708|        205|        282|          13|                4|           13| 334.0575|                0.15|      651.4121|           461.4448|       5998.7824|  3691.3354| 92.2834|\n",
            "|        283|              272|                3|  Jillian|       381|    20070201|  20070213|   20070208|        666|        283|           1|                2|            1| 600.2625|                 0.0|           0.0|           605.6492|        605.6492|   600.2625| 15.0066|\n",
            "|        281|              272|                2|  Michael|       469|    20061101|  20061113|   20061108|        396|        281|           1|                2|            2|   22.794|                 0.0|           0.0|            15.6709|         31.3418|     45.588|  1.1397|\n",
            "|        293|              272|                1|     Tete|       555|    20080601|  20080613|   20080608|        595|        293|           1|                1|            3|     63.9|                 0.0|           0.0|             47.286|         141.858|      191.7|  4.7925|\n",
            "|        283|              272|                3|  Jillian|       454|    20060901|  20060913|   20060908|        130|        283|           1|                4|            4|   35.994|                 0.0|           0.0|            24.7459|         98.9836|    143.976|  3.5994|\n",
            "|        281|              272|                2|  Michael|       381|    20070201|  20070213|   20070208|        328|        281|           1|                4|            5| 600.2625|                 0.0|           0.0|           605.6492|        3028.246|  3001.3125| 75.0328|\n",
            "|        282|              272|                4|    Linda|       459|    20060801|  20060813|   20060808|         79|        282|           1|                3|            5|   53.994|                 0.0|           0.0|            37.1209|        185.6045|     269.97|  6.7493|\n",
            "+-----------+-----------------+-----------------+---------+----------+------------+----------+-----------+-----------+-----------+------------+-----------------+-------------+---------+--------------------+--------------+-------------------+----------------+-----------+--------+\n",
            "only showing top 20 rows\n",
            "\n"
          ]
        }
      ],
      "source": [
        "factjoin = DimEmp.join(FactReseller,DimEmp['EmployeeKey']==FactReseller['EmployeeKey'])\n",
        "factjoin.show()"
      ]
    }
  ],
  "metadata": {
    "colab": {
      "collapsed_sections": [],
      "name": "ETLTelecomm.ipynb",
      "provenance": [],
      "authorship_tag": "ABX9TyNRLmwF40fndwNl1wuHBvK7",
      "include_colab_link": true
    },
    "kernelspec": {
      "display_name": "Python 3",
      "name": "python3"
    },
    "language_info": {
      "name": "python"
    }
  },
  "nbformat": 4,
  "nbformat_minor": 0
}